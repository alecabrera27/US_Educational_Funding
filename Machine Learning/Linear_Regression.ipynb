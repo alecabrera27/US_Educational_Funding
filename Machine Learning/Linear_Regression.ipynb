{
 "cells": [
  {
   "cell_type": "code",
   "execution_count": 1,
   "id": "081f75a4",
   "metadata": {},
   "outputs": [],
   "source": [
    "#import decision regression tools:\n",
    "import pandas as pd\n",
    "import numpy as np\n",
    "import matplotlib.pyplot as plt\n",
    "from pathlib import Path\n",
    "from sklearn.preprocessing import MinMaxScaler\n",
    "from sklearn.model_selection import train_test_split\n",
    "from sklearn import linear_model\n",
    "\n",
    "# Python SQL toolkit and Object Relational Mapper\n",
    "import sqlalchemy\n",
    "from sqlalchemy.ext.automap import automap_base\n",
    "from sqlalchemy.orm import Session\n",
    "from sqlalchemy import create_engine, func, text\n",
    "import plotly.express as px\n",
    "import config"
   ]
  },
  {
   "cell_type": "code",
   "execution_count": 2,
   "id": "6d26761c",
   "metadata": {},
   "outputs": [
    {
     "name": "stderr",
     "output_type": "stream",
     "text": [
      "/Users/ericdally/opt/anaconda3/envs/mlenv/lib/python3.7/site-packages/psycopg2/__init__.py:144: UserWarning: The psycopg2 wheel package will be renamed from release 2.8; in order to keep installing from binary please use \"pip install psycopg2-binary\" instead. For details see: <http://initd.org/psycopg/docs/install.html#binary-install-from-pypi>.\n",
      "  \"\"\")\n"
     ]
    }
   ],
   "source": [
    "# create database engine\n",
    "db_url = f\"postgresql://{config.DB_USERNAME}:{config.DB_PASSWORD}@{config.DB_HOST}/{config.DB_NAME}\"\n",
    "engine = create_engine(db_url)"
   ]
  },
  {
   "cell_type": "code",
   "execution_count": 3,
   "id": "acdef407",
   "metadata": {},
   "outputs": [
    {
     "data": {
      "text/html": [
       "<div>\n",
       "<style scoped>\n",
       "    .dataframe tbody tr th:only-of-type {\n",
       "        vertical-align: middle;\n",
       "    }\n",
       "\n",
       "    .dataframe tbody tr th {\n",
       "        vertical-align: top;\n",
       "    }\n",
       "\n",
       "    .dataframe thead th {\n",
       "        text-align: right;\n",
       "    }\n",
       "</style>\n",
       "<table border=\"1\" class=\"dataframe\">\n",
       "  <thead>\n",
       "    <tr style=\"text-align: right;\">\n",
       "      <th></th>\n",
       "      <th>State</th>\n",
       "      <th>Year</th>\n",
       "      <th>Enrolled</th>\n",
       "      <th>TotalRevenue</th>\n",
       "      <th>FederalRevenue</th>\n",
       "      <th>StateRevenue</th>\n",
       "      <th>LocalRevenue</th>\n",
       "      <th>TotalExpenditure</th>\n",
       "      <th>InstructionExpenditure</th>\n",
       "      <th>SupportServicesExpenditure</th>\n",
       "      <th>...</th>\n",
       "      <th>AvgMath4Score</th>\n",
       "      <th>AvgMath8Score</th>\n",
       "      <th>AvgReading4Score</th>\n",
       "      <th>AvgReading8Score</th>\n",
       "      <th>RecordId</th>\n",
       "      <th>FederalFundingPercent</th>\n",
       "      <th>StateFundingPercent</th>\n",
       "      <th>LocalFundingPercent</th>\n",
       "      <th>RevenuePerStudent</th>\n",
       "      <th>InstructionalExpensePercent</th>\n",
       "    </tr>\n",
       "    <tr>\n",
       "      <th>Id</th>\n",
       "      <th></th>\n",
       "      <th></th>\n",
       "      <th></th>\n",
       "      <th></th>\n",
       "      <th></th>\n",
       "      <th></th>\n",
       "      <th></th>\n",
       "      <th></th>\n",
       "      <th></th>\n",
       "      <th></th>\n",
       "      <th></th>\n",
       "      <th></th>\n",
       "      <th></th>\n",
       "      <th></th>\n",
       "      <th></th>\n",
       "      <th></th>\n",
       "      <th></th>\n",
       "      <th></th>\n",
       "      <th></th>\n",
       "      <th></th>\n",
       "      <th></th>\n",
       "    </tr>\n",
       "  </thead>\n",
       "  <tbody>\n",
       "    <tr>\n",
       "      <th>2003_ALABAMA</th>\n",
       "      <td>ALABAMA</td>\n",
       "      <td>2003</td>\n",
       "      <td>727900.0</td>\n",
       "      <td>5196054.0</td>\n",
       "      <td>567704.0</td>\n",
       "      <td>2966981.0</td>\n",
       "      <td>1661369.0</td>\n",
       "      <td>5298932.0</td>\n",
       "      <td>2817111.0</td>\n",
       "      <td>1521462.0</td>\n",
       "      <td>...</td>\n",
       "      <td>223.0</td>\n",
       "      <td>262.0</td>\n",
       "      <td>207.0</td>\n",
       "      <td>253.0</td>\n",
       "      <td>2003_ALABAMA</td>\n",
       "      <td>0.109257</td>\n",
       "      <td>0.571007</td>\n",
       "      <td>0.319737</td>\n",
       "      <td>7.138417</td>\n",
       "      <td>0.542164</td>\n",
       "    </tr>\n",
       "    <tr>\n",
       "      <th>2003_ALASKA</th>\n",
       "      <td>ALASKA</td>\n",
       "      <td>2003</td>\n",
       "      <td>133303.0</td>\n",
       "      <td>1425948.0</td>\n",
       "      <td>259423.0</td>\n",
       "      <td>813371.0</td>\n",
       "      <td>353154.0</td>\n",
       "      <td>1610289.0</td>\n",
       "      <td>763525.0</td>\n",
       "      <td>514052.0</td>\n",
       "      <td>...</td>\n",
       "      <td>233.0</td>\n",
       "      <td>279.0</td>\n",
       "      <td>212.0</td>\n",
       "      <td>256.0</td>\n",
       "      <td>2003_ALASKA</td>\n",
       "      <td>0.181930</td>\n",
       "      <td>0.570407</td>\n",
       "      <td>0.247663</td>\n",
       "      <td>10.697044</td>\n",
       "      <td>0.535451</td>\n",
       "    </tr>\n",
       "    <tr>\n",
       "      <th>2003_ARIZONA</th>\n",
       "      <td>ARIZONA</td>\n",
       "      <td>2003</td>\n",
       "      <td>875111.0</td>\n",
       "      <td>6529894.0</td>\n",
       "      <td>740579.0</td>\n",
       "      <td>2912629.0</td>\n",
       "      <td>2876686.0</td>\n",
       "      <td>6210287.0</td>\n",
       "      <td>2810907.0</td>\n",
       "      <td>1964229.0</td>\n",
       "      <td>...</td>\n",
       "      <td>229.0</td>\n",
       "      <td>271.0</td>\n",
       "      <td>209.0</td>\n",
       "      <td>255.0</td>\n",
       "      <td>2003_ARIZONA</td>\n",
       "      <td>0.113414</td>\n",
       "      <td>0.446045</td>\n",
       "      <td>0.440541</td>\n",
       "      <td>7.461789</td>\n",
       "      <td>0.430467</td>\n",
       "    </tr>\n",
       "    <tr>\n",
       "      <th>2003_ARKANSAS</th>\n",
       "      <td>ARKANSAS</td>\n",
       "      <td>2003</td>\n",
       "      <td>450158.0</td>\n",
       "      <td>3241275.0</td>\n",
       "      <td>379947.0</td>\n",
       "      <td>2394336.0</td>\n",
       "      <td>466992.0</td>\n",
       "      <td>3242799.0</td>\n",
       "      <td>1768713.0</td>\n",
       "      <td>972598.0</td>\n",
       "      <td>...</td>\n",
       "      <td>229.0</td>\n",
       "      <td>266.0</td>\n",
       "      <td>214.0</td>\n",
       "      <td>258.0</td>\n",
       "      <td>2003_ARKANSAS</td>\n",
       "      <td>0.117221</td>\n",
       "      <td>0.738702</td>\n",
       "      <td>0.144077</td>\n",
       "      <td>7.200305</td>\n",
       "      <td>0.545684</td>\n",
       "    </tr>\n",
       "    <tr>\n",
       "      <th>2003_CALIFORNIA</th>\n",
       "      <td>CALIFORNIA</td>\n",
       "      <td>2003</td>\n",
       "      <td>6226552.0</td>\n",
       "      <td>59815855.0</td>\n",
       "      <td>5795655.0</td>\n",
       "      <td>33617766.0</td>\n",
       "      <td>20402434.0</td>\n",
       "      <td>59749885.0</td>\n",
       "      <td>29561563.0</td>\n",
       "      <td>17030335.0</td>\n",
       "      <td>...</td>\n",
       "      <td>227.0</td>\n",
       "      <td>267.0</td>\n",
       "      <td>206.0</td>\n",
       "      <td>251.0</td>\n",
       "      <td>2003_CALIFORNIA</td>\n",
       "      <td>0.096892</td>\n",
       "      <td>0.562021</td>\n",
       "      <td>0.341087</td>\n",
       "      <td>9.606578</td>\n",
       "      <td>0.494209</td>\n",
       "    </tr>\n",
       "    <tr>\n",
       "      <th>...</th>\n",
       "      <td>...</td>\n",
       "      <td>...</td>\n",
       "      <td>...</td>\n",
       "      <td>...</td>\n",
       "      <td>...</td>\n",
       "      <td>...</td>\n",
       "      <td>...</td>\n",
       "      <td>...</td>\n",
       "      <td>...</td>\n",
       "      <td>...</td>\n",
       "      <td>...</td>\n",
       "      <td>...</td>\n",
       "      <td>...</td>\n",
       "      <td>...</td>\n",
       "      <td>...</td>\n",
       "      <td>...</td>\n",
       "      <td>...</td>\n",
       "      <td>...</td>\n",
       "      <td>...</td>\n",
       "      <td>...</td>\n",
       "      <td>...</td>\n",
       "    </tr>\n",
       "    <tr>\n",
       "      <th>2015_VIRGINIA</th>\n",
       "      <td>VIRGINIA</td>\n",
       "      <td>2015</td>\n",
       "      <td>1279867.0</td>\n",
       "      <td>15857524.0</td>\n",
       "      <td>1012205.0</td>\n",
       "      <td>6240349.0</td>\n",
       "      <td>8604970.0</td>\n",
       "      <td>16113212.0</td>\n",
       "      <td>8755896.0</td>\n",
       "      <td>5075509.0</td>\n",
       "      <td>...</td>\n",
       "      <td>247.0</td>\n",
       "      <td>288.0</td>\n",
       "      <td>229.0</td>\n",
       "      <td>267.0</td>\n",
       "      <td>2015_VIRGINIA</td>\n",
       "      <td>0.063831</td>\n",
       "      <td>0.393526</td>\n",
       "      <td>0.542643</td>\n",
       "      <td>12.389978</td>\n",
       "      <td>0.552160</td>\n",
       "    </tr>\n",
       "    <tr>\n",
       "      <th>2015_WASHINGTON</th>\n",
       "      <td>WASHINGTON</td>\n",
       "      <td>2015</td>\n",
       "      <td>1072359.0</td>\n",
       "      <td>13709442.0</td>\n",
       "      <td>1036422.0</td>\n",
       "      <td>8293812.0</td>\n",
       "      <td>4379208.0</td>\n",
       "      <td>13630138.0</td>\n",
       "      <td>6508964.0</td>\n",
       "      <td>4510672.0</td>\n",
       "      <td>...</td>\n",
       "      <td>245.0</td>\n",
       "      <td>287.0</td>\n",
       "      <td>226.0</td>\n",
       "      <td>267.0</td>\n",
       "      <td>2015_WASHINGTON</td>\n",
       "      <td>0.075599</td>\n",
       "      <td>0.604971</td>\n",
       "      <td>0.319430</td>\n",
       "      <td>12.784377</td>\n",
       "      <td>0.474780</td>\n",
       "    </tr>\n",
       "    <tr>\n",
       "      <th>2015_WEST_VIRGINIA</th>\n",
       "      <td>WEST_VIRGINIA</td>\n",
       "      <td>2015</td>\n",
       "      <td>279565.0</td>\n",
       "      <td>3478401.0</td>\n",
       "      <td>362959.0</td>\n",
       "      <td>1979466.0</td>\n",
       "      <td>1135976.0</td>\n",
       "      <td>3466981.0</td>\n",
       "      <td>1819903.0</td>\n",
       "      <td>1161944.0</td>\n",
       "      <td>...</td>\n",
       "      <td>235.0</td>\n",
       "      <td>271.0</td>\n",
       "      <td>216.0</td>\n",
       "      <td>260.0</td>\n",
       "      <td>2015_WEST_VIRGINIA</td>\n",
       "      <td>0.104347</td>\n",
       "      <td>0.569074</td>\n",
       "      <td>0.326580</td>\n",
       "      <td>12.442191</td>\n",
       "      <td>0.523201</td>\n",
       "    </tr>\n",
       "    <tr>\n",
       "      <th>2015_WISCONSIN</th>\n",
       "      <td>WISCONSIN</td>\n",
       "      <td>2015</td>\n",
       "      <td>861813.0</td>\n",
       "      <td>11637376.0</td>\n",
       "      <td>814385.0</td>\n",
       "      <td>5869265.0</td>\n",
       "      <td>4953726.0</td>\n",
       "      <td>11553677.0</td>\n",
       "      <td>5723474.0</td>\n",
       "      <td>3691809.0</td>\n",
       "      <td>...</td>\n",
       "      <td>243.0</td>\n",
       "      <td>289.0</td>\n",
       "      <td>223.0</td>\n",
       "      <td>270.0</td>\n",
       "      <td>2015_WISCONSIN</td>\n",
       "      <td>0.069980</td>\n",
       "      <td>0.504346</td>\n",
       "      <td>0.425674</td>\n",
       "      <td>13.503366</td>\n",
       "      <td>0.491818</td>\n",
       "    </tr>\n",
       "    <tr>\n",
       "      <th>2015_WYOMING</th>\n",
       "      <td>WYOMING</td>\n",
       "      <td>2015</td>\n",
       "      <td>93867.0</td>\n",
       "      <td>1962874.0</td>\n",
       "      <td>120290.0</td>\n",
       "      <td>1116917.0</td>\n",
       "      <td>725667.0</td>\n",
       "      <td>1942406.0</td>\n",
       "      <td>895910.0</td>\n",
       "      <td>565489.0</td>\n",
       "      <td>...</td>\n",
       "      <td>247.0</td>\n",
       "      <td>287.0</td>\n",
       "      <td>228.0</td>\n",
       "      <td>269.0</td>\n",
       "      <td>2015_WYOMING</td>\n",
       "      <td>0.061283</td>\n",
       "      <td>0.569021</td>\n",
       "      <td>0.369696</td>\n",
       "      <td>20.911225</td>\n",
       "      <td>0.456428</td>\n",
       "    </tr>\n",
       "  </tbody>\n",
       "</table>\n",
       "<p>357 rows × 22 columns</p>\n",
       "</div>"
      ],
      "text/plain": [
       "                            State  Year   Enrolled  TotalRevenue  \\\n",
       "Id                                                                 \n",
       "2003_ALABAMA              ALABAMA  2003   727900.0     5196054.0   \n",
       "2003_ALASKA                ALASKA  2003   133303.0     1425948.0   \n",
       "2003_ARIZONA              ARIZONA  2003   875111.0     6529894.0   \n",
       "2003_ARKANSAS            ARKANSAS  2003   450158.0     3241275.0   \n",
       "2003_CALIFORNIA        CALIFORNIA  2003  6226552.0    59815855.0   \n",
       "...                           ...   ...        ...           ...   \n",
       "2015_VIRGINIA            VIRGINIA  2015  1279867.0    15857524.0   \n",
       "2015_WASHINGTON        WASHINGTON  2015  1072359.0    13709442.0   \n",
       "2015_WEST_VIRGINIA  WEST_VIRGINIA  2015   279565.0     3478401.0   \n",
       "2015_WISCONSIN          WISCONSIN  2015   861813.0    11637376.0   \n",
       "2015_WYOMING              WYOMING  2015    93867.0     1962874.0   \n",
       "\n",
       "                    FederalRevenue  StateRevenue  LocalRevenue  \\\n",
       "Id                                                               \n",
       "2003_ALABAMA              567704.0     2966981.0     1661369.0   \n",
       "2003_ALASKA               259423.0      813371.0      353154.0   \n",
       "2003_ARIZONA              740579.0     2912629.0     2876686.0   \n",
       "2003_ARKANSAS             379947.0     2394336.0      466992.0   \n",
       "2003_CALIFORNIA          5795655.0    33617766.0    20402434.0   \n",
       "...                            ...           ...           ...   \n",
       "2015_VIRGINIA            1012205.0     6240349.0     8604970.0   \n",
       "2015_WASHINGTON          1036422.0     8293812.0     4379208.0   \n",
       "2015_WEST_VIRGINIA        362959.0     1979466.0     1135976.0   \n",
       "2015_WISCONSIN            814385.0     5869265.0     4953726.0   \n",
       "2015_WYOMING              120290.0     1116917.0      725667.0   \n",
       "\n",
       "                    TotalExpenditure  InstructionExpenditure  \\\n",
       "Id                                                             \n",
       "2003_ALABAMA               5298932.0               2817111.0   \n",
       "2003_ALASKA                1610289.0                763525.0   \n",
       "2003_ARIZONA               6210287.0               2810907.0   \n",
       "2003_ARKANSAS              3242799.0               1768713.0   \n",
       "2003_CALIFORNIA           59749885.0              29561563.0   \n",
       "...                              ...                     ...   \n",
       "2015_VIRGINIA             16113212.0               8755896.0   \n",
       "2015_WASHINGTON           13630138.0               6508964.0   \n",
       "2015_WEST_VIRGINIA         3466981.0               1819903.0   \n",
       "2015_WISCONSIN            11553677.0               5723474.0   \n",
       "2015_WYOMING               1942406.0                895910.0   \n",
       "\n",
       "                    SupportServicesExpenditure  ...  AvgMath4Score  \\\n",
       "Id                                              ...                  \n",
       "2003_ALABAMA                         1521462.0  ...          223.0   \n",
       "2003_ALASKA                           514052.0  ...          233.0   \n",
       "2003_ARIZONA                         1964229.0  ...          229.0   \n",
       "2003_ARKANSAS                         972598.0  ...          229.0   \n",
       "2003_CALIFORNIA                     17030335.0  ...          227.0   \n",
       "...                                        ...  ...            ...   \n",
       "2015_VIRGINIA                        5075509.0  ...          247.0   \n",
       "2015_WASHINGTON                      4510672.0  ...          245.0   \n",
       "2015_WEST_VIRGINIA                   1161944.0  ...          235.0   \n",
       "2015_WISCONSIN                       3691809.0  ...          243.0   \n",
       "2015_WYOMING                          565489.0  ...          247.0   \n",
       "\n",
       "                    AvgMath8Score  AvgReading4Score  AvgReading8Score  \\\n",
       "Id                                                                      \n",
       "2003_ALABAMA                262.0             207.0             253.0   \n",
       "2003_ALASKA                 279.0             212.0             256.0   \n",
       "2003_ARIZONA                271.0             209.0             255.0   \n",
       "2003_ARKANSAS               266.0             214.0             258.0   \n",
       "2003_CALIFORNIA             267.0             206.0             251.0   \n",
       "...                           ...               ...               ...   \n",
       "2015_VIRGINIA               288.0             229.0             267.0   \n",
       "2015_WASHINGTON             287.0             226.0             267.0   \n",
       "2015_WEST_VIRGINIA          271.0             216.0             260.0   \n",
       "2015_WISCONSIN              289.0             223.0             270.0   \n",
       "2015_WYOMING                287.0             228.0             269.0   \n",
       "\n",
       "                              RecordId  FederalFundingPercent  \\\n",
       "Id                                                              \n",
       "2003_ALABAMA              2003_ALABAMA               0.109257   \n",
       "2003_ALASKA                2003_ALASKA               0.181930   \n",
       "2003_ARIZONA              2003_ARIZONA               0.113414   \n",
       "2003_ARKANSAS            2003_ARKANSAS               0.117221   \n",
       "2003_CALIFORNIA        2003_CALIFORNIA               0.096892   \n",
       "...                                ...                    ...   \n",
       "2015_VIRGINIA            2015_VIRGINIA               0.063831   \n",
       "2015_WASHINGTON        2015_WASHINGTON               0.075599   \n",
       "2015_WEST_VIRGINIA  2015_WEST_VIRGINIA               0.104347   \n",
       "2015_WISCONSIN          2015_WISCONSIN               0.069980   \n",
       "2015_WYOMING              2015_WYOMING               0.061283   \n",
       "\n",
       "                   StateFundingPercent  LocalFundingPercent  \\\n",
       "Id                                                            \n",
       "2003_ALABAMA                  0.571007             0.319737   \n",
       "2003_ALASKA                   0.570407             0.247663   \n",
       "2003_ARIZONA                  0.446045             0.440541   \n",
       "2003_ARKANSAS                 0.738702             0.144077   \n",
       "2003_CALIFORNIA               0.562021             0.341087   \n",
       "...                                ...                  ...   \n",
       "2015_VIRGINIA                 0.393526             0.542643   \n",
       "2015_WASHINGTON               0.604971             0.319430   \n",
       "2015_WEST_VIRGINIA            0.569074             0.326580   \n",
       "2015_WISCONSIN                0.504346             0.425674   \n",
       "2015_WYOMING                  0.569021             0.369696   \n",
       "\n",
       "                    RevenuePerStudent  InstructionalExpensePercent  \n",
       "Id                                                                  \n",
       "2003_ALABAMA                 7.138417                     0.542164  \n",
       "2003_ALASKA                 10.697044                     0.535451  \n",
       "2003_ARIZONA                 7.461789                     0.430467  \n",
       "2003_ARKANSAS                7.200305                     0.545684  \n",
       "2003_CALIFORNIA              9.606578                     0.494209  \n",
       "...                               ...                          ...  \n",
       "2015_VIRGINIA               12.389978                     0.552160  \n",
       "2015_WASHINGTON             12.784377                     0.474780  \n",
       "2015_WEST_VIRGINIA          12.442191                     0.523201  \n",
       "2015_WISCONSIN              13.503366                     0.491818  \n",
       "2015_WYOMING                20.911225                     0.456428  \n",
       "\n",
       "[357 rows x 22 columns]"
      ]
     },
     "execution_count": 3,
     "metadata": {},
     "output_type": "execute_result"
    }
   ],
   "source": [
    "# load all the data into a datafame by joining the tables\n",
    "query = text('''\n",
    "Select * \n",
    "FROM \"RawRecords\" as r\n",
    "JOIN \"CalculatedStats\" AS cs ON cs.\"RecordId\"=r.\"Id\";\n",
    "''')\n",
    "df = pd.read_sql_query(query,con=engine)\n",
    "df.set_index('Id', inplace=True)\n",
    "df"
   ]
  },
  {
   "cell_type": "markdown",
   "id": "465a5e76",
   "metadata": {},
   "source": [
    "## Tweaking Database"
   ]
  },
  {
   "cell_type": "code",
   "execution_count": 4,
   "id": "e0d64929",
   "metadata": {},
   "outputs": [
    {
     "data": {
      "text/html": [
       "<div>\n",
       "<style scoped>\n",
       "    .dataframe tbody tr th:only-of-type {\n",
       "        vertical-align: middle;\n",
       "    }\n",
       "\n",
       "    .dataframe tbody tr th {\n",
       "        vertical-align: top;\n",
       "    }\n",
       "\n",
       "    .dataframe thead th {\n",
       "        text-align: right;\n",
       "    }\n",
       "</style>\n",
       "<table border=\"1\" class=\"dataframe\">\n",
       "  <thead>\n",
       "    <tr style=\"text-align: right;\">\n",
       "      <th></th>\n",
       "      <th>AvgMath4Score</th>\n",
       "      <th>AvgMath8Score</th>\n",
       "      <th>AvgReading4Score</th>\n",
       "      <th>AvgReading8Score</th>\n",
       "      <th>FederalFundingPercent</th>\n",
       "      <th>StateFundingPercent</th>\n",
       "      <th>LocalFundingPercent</th>\n",
       "      <th>RevenuePerStudent</th>\n",
       "      <th>InstructionalExpensePercent</th>\n",
       "    </tr>\n",
       "    <tr>\n",
       "      <th>Id</th>\n",
       "      <th></th>\n",
       "      <th></th>\n",
       "      <th></th>\n",
       "      <th></th>\n",
       "      <th></th>\n",
       "      <th></th>\n",
       "      <th></th>\n",
       "      <th></th>\n",
       "      <th></th>\n",
       "    </tr>\n",
       "  </thead>\n",
       "  <tbody>\n",
       "    <tr>\n",
       "      <th>2003_ALABAMA</th>\n",
       "      <td>223.0</td>\n",
       "      <td>262.0</td>\n",
       "      <td>207.0</td>\n",
       "      <td>253.0</td>\n",
       "      <td>0.109257</td>\n",
       "      <td>0.571007</td>\n",
       "      <td>0.319737</td>\n",
       "      <td>7.138417</td>\n",
       "      <td>0.542164</td>\n",
       "    </tr>\n",
       "    <tr>\n",
       "      <th>2003_ALASKA</th>\n",
       "      <td>233.0</td>\n",
       "      <td>279.0</td>\n",
       "      <td>212.0</td>\n",
       "      <td>256.0</td>\n",
       "      <td>0.181930</td>\n",
       "      <td>0.570407</td>\n",
       "      <td>0.247663</td>\n",
       "      <td>10.697044</td>\n",
       "      <td>0.535451</td>\n",
       "    </tr>\n",
       "    <tr>\n",
       "      <th>2003_ARIZONA</th>\n",
       "      <td>229.0</td>\n",
       "      <td>271.0</td>\n",
       "      <td>209.0</td>\n",
       "      <td>255.0</td>\n",
       "      <td>0.113414</td>\n",
       "      <td>0.446045</td>\n",
       "      <td>0.440541</td>\n",
       "      <td>7.461789</td>\n",
       "      <td>0.430467</td>\n",
       "    </tr>\n",
       "    <tr>\n",
       "      <th>2003_ARKANSAS</th>\n",
       "      <td>229.0</td>\n",
       "      <td>266.0</td>\n",
       "      <td>214.0</td>\n",
       "      <td>258.0</td>\n",
       "      <td>0.117221</td>\n",
       "      <td>0.738702</td>\n",
       "      <td>0.144077</td>\n",
       "      <td>7.200305</td>\n",
       "      <td>0.545684</td>\n",
       "    </tr>\n",
       "    <tr>\n",
       "      <th>2003_CALIFORNIA</th>\n",
       "      <td>227.0</td>\n",
       "      <td>267.0</td>\n",
       "      <td>206.0</td>\n",
       "      <td>251.0</td>\n",
       "      <td>0.096892</td>\n",
       "      <td>0.562021</td>\n",
       "      <td>0.341087</td>\n",
       "      <td>9.606578</td>\n",
       "      <td>0.494209</td>\n",
       "    </tr>\n",
       "    <tr>\n",
       "      <th>...</th>\n",
       "      <td>...</td>\n",
       "      <td>...</td>\n",
       "      <td>...</td>\n",
       "      <td>...</td>\n",
       "      <td>...</td>\n",
       "      <td>...</td>\n",
       "      <td>...</td>\n",
       "      <td>...</td>\n",
       "      <td>...</td>\n",
       "    </tr>\n",
       "    <tr>\n",
       "      <th>2015_VIRGINIA</th>\n",
       "      <td>247.0</td>\n",
       "      <td>288.0</td>\n",
       "      <td>229.0</td>\n",
       "      <td>267.0</td>\n",
       "      <td>0.063831</td>\n",
       "      <td>0.393526</td>\n",
       "      <td>0.542643</td>\n",
       "      <td>12.389978</td>\n",
       "      <td>0.552160</td>\n",
       "    </tr>\n",
       "    <tr>\n",
       "      <th>2015_WASHINGTON</th>\n",
       "      <td>245.0</td>\n",
       "      <td>287.0</td>\n",
       "      <td>226.0</td>\n",
       "      <td>267.0</td>\n",
       "      <td>0.075599</td>\n",
       "      <td>0.604971</td>\n",
       "      <td>0.319430</td>\n",
       "      <td>12.784377</td>\n",
       "      <td>0.474780</td>\n",
       "    </tr>\n",
       "    <tr>\n",
       "      <th>2015_WEST_VIRGINIA</th>\n",
       "      <td>235.0</td>\n",
       "      <td>271.0</td>\n",
       "      <td>216.0</td>\n",
       "      <td>260.0</td>\n",
       "      <td>0.104347</td>\n",
       "      <td>0.569074</td>\n",
       "      <td>0.326580</td>\n",
       "      <td>12.442191</td>\n",
       "      <td>0.523201</td>\n",
       "    </tr>\n",
       "    <tr>\n",
       "      <th>2015_WISCONSIN</th>\n",
       "      <td>243.0</td>\n",
       "      <td>289.0</td>\n",
       "      <td>223.0</td>\n",
       "      <td>270.0</td>\n",
       "      <td>0.069980</td>\n",
       "      <td>0.504346</td>\n",
       "      <td>0.425674</td>\n",
       "      <td>13.503366</td>\n",
       "      <td>0.491818</td>\n",
       "    </tr>\n",
       "    <tr>\n",
       "      <th>2015_WYOMING</th>\n",
       "      <td>247.0</td>\n",
       "      <td>287.0</td>\n",
       "      <td>228.0</td>\n",
       "      <td>269.0</td>\n",
       "      <td>0.061283</td>\n",
       "      <td>0.569021</td>\n",
       "      <td>0.369696</td>\n",
       "      <td>20.911225</td>\n",
       "      <td>0.456428</td>\n",
       "    </tr>\n",
       "  </tbody>\n",
       "</table>\n",
       "<p>357 rows × 9 columns</p>\n",
       "</div>"
      ],
      "text/plain": [
       "                    AvgMath4Score  AvgMath8Score  AvgReading4Score  \\\n",
       "Id                                                                   \n",
       "2003_ALABAMA                223.0          262.0             207.0   \n",
       "2003_ALASKA                 233.0          279.0             212.0   \n",
       "2003_ARIZONA                229.0          271.0             209.0   \n",
       "2003_ARKANSAS               229.0          266.0             214.0   \n",
       "2003_CALIFORNIA             227.0          267.0             206.0   \n",
       "...                           ...            ...               ...   \n",
       "2015_VIRGINIA               247.0          288.0             229.0   \n",
       "2015_WASHINGTON             245.0          287.0             226.0   \n",
       "2015_WEST_VIRGINIA          235.0          271.0             216.0   \n",
       "2015_WISCONSIN              243.0          289.0             223.0   \n",
       "2015_WYOMING                247.0          287.0             228.0   \n",
       "\n",
       "                    AvgReading8Score  FederalFundingPercent  \\\n",
       "Id                                                            \n",
       "2003_ALABAMA                   253.0               0.109257   \n",
       "2003_ALASKA                    256.0               0.181930   \n",
       "2003_ARIZONA                   255.0               0.113414   \n",
       "2003_ARKANSAS                  258.0               0.117221   \n",
       "2003_CALIFORNIA                251.0               0.096892   \n",
       "...                              ...                    ...   \n",
       "2015_VIRGINIA                  267.0               0.063831   \n",
       "2015_WASHINGTON                267.0               0.075599   \n",
       "2015_WEST_VIRGINIA             260.0               0.104347   \n",
       "2015_WISCONSIN                 270.0               0.069980   \n",
       "2015_WYOMING                   269.0               0.061283   \n",
       "\n",
       "                    StateFundingPercent  LocalFundingPercent  \\\n",
       "Id                                                             \n",
       "2003_ALABAMA                   0.571007             0.319737   \n",
       "2003_ALASKA                    0.570407             0.247663   \n",
       "2003_ARIZONA                   0.446045             0.440541   \n",
       "2003_ARKANSAS                  0.738702             0.144077   \n",
       "2003_CALIFORNIA                0.562021             0.341087   \n",
       "...                                 ...                  ...   \n",
       "2015_VIRGINIA                  0.393526             0.542643   \n",
       "2015_WASHINGTON                0.604971             0.319430   \n",
       "2015_WEST_VIRGINIA             0.569074             0.326580   \n",
       "2015_WISCONSIN                 0.504346             0.425674   \n",
       "2015_WYOMING                   0.569021             0.369696   \n",
       "\n",
       "                    RevenuePerStudent  InstructionalExpensePercent  \n",
       "Id                                                                  \n",
       "2003_ALABAMA                 7.138417                     0.542164  \n",
       "2003_ALASKA                 10.697044                     0.535451  \n",
       "2003_ARIZONA                 7.461789                     0.430467  \n",
       "2003_ARKANSAS                7.200305                     0.545684  \n",
       "2003_CALIFORNIA              9.606578                     0.494209  \n",
       "...                               ...                          ...  \n",
       "2015_VIRGINIA               12.389978                     0.552160  \n",
       "2015_WASHINGTON             12.784377                     0.474780  \n",
       "2015_WEST_VIRGINIA          12.442191                     0.523201  \n",
       "2015_WISCONSIN              13.503366                     0.491818  \n",
       "2015_WYOMING                20.911225                     0.456428  \n",
       "\n",
       "[357 rows x 9 columns]"
      ]
     },
     "execution_count": 4,
     "metadata": {},
     "output_type": "execute_result"
    }
   ],
   "source": [
    "model_df = df[[\n",
    "    \"AvgMath4Score\",\n",
    "    \"AvgMath8Score\",\n",
    "    \"AvgReading4Score\",\n",
    "    \"AvgReading8Score\",\n",
    "    \"FederalFundingPercent\",\n",
    "    \"StateFundingPercent\",\n",
    "    \"LocalFundingPercent\",\n",
    "    \"RevenuePerStudent\",\n",
    "    \"InstructionalExpensePercent\"\n",
    "]]\n",
    "model_df.index = df.index\n",
    "model_df"
   ]
  },
  {
   "cell_type": "code",
   "execution_count": 5,
   "id": "fb21c81e",
   "metadata": {},
   "outputs": [
    {
     "data": {
      "text/plain": [
       "(350, 22)"
      ]
     },
     "execution_count": 5,
     "metadata": {},
     "output_type": "execute_result"
    }
   ],
   "source": [
    "#dropping DISTRICT_OF_COLUMBIA data\n",
    "df = df.loc[df['State'] != 'DISTRICT_OF_COLUMBIA']\n",
    "df.shape"
   ]
  },
  {
   "cell_type": "code",
   "execution_count": 6,
   "id": "7033e4e5",
   "metadata": {},
   "outputs": [
    {
     "name": "stderr",
     "output_type": "stream",
     "text": [
      "/Users/ericdally/opt/anaconda3/envs/mlenv/lib/python3.7/site-packages/ipykernel_launcher.py:3: SettingWithCopyWarning: \n",
      "A value is trying to be set on a copy of a slice from a DataFrame.\n",
      "Try using .loc[row_indexer,col_indexer] = value instead\n",
      "\n",
      "See the caveats in the documentation: https://pandas.pydata.org/pandas-docs/stable/user_guide/indexing.html#returning-a-view-versus-a-copy\n",
      "  This is separate from the ipykernel package so we can avoid doing imports until\n"
     ]
    },
    {
     "data": {
      "text/html": [
       "<div>\n",
       "<style scoped>\n",
       "    .dataframe tbody tr th:only-of-type {\n",
       "        vertical-align: middle;\n",
       "    }\n",
       "\n",
       "    .dataframe tbody tr th {\n",
       "        vertical-align: top;\n",
       "    }\n",
       "\n",
       "    .dataframe thead th {\n",
       "        text-align: right;\n",
       "    }\n",
       "</style>\n",
       "<table border=\"1\" class=\"dataframe\">\n",
       "  <thead>\n",
       "    <tr style=\"text-align: right;\">\n",
       "      <th></th>\n",
       "      <th>State</th>\n",
       "      <th>Year</th>\n",
       "      <th>Enrolled</th>\n",
       "      <th>TotalRevenue</th>\n",
       "      <th>FederalRevenue</th>\n",
       "      <th>StateRevenue</th>\n",
       "      <th>LocalRevenue</th>\n",
       "      <th>TotalExpenditure</th>\n",
       "      <th>InstructionExpenditure</th>\n",
       "      <th>SupportServicesExpenditure</th>\n",
       "      <th>...</th>\n",
       "      <th>AvgMath8Score</th>\n",
       "      <th>AvgReading4Score</th>\n",
       "      <th>AvgReading8Score</th>\n",
       "      <th>RecordId</th>\n",
       "      <th>FederalFundingPercent</th>\n",
       "      <th>StateFundingPercent</th>\n",
       "      <th>LocalFundingPercent</th>\n",
       "      <th>RevenuePerStudent</th>\n",
       "      <th>InstructionalExpensePercent</th>\n",
       "      <th>Avg Score</th>\n",
       "    </tr>\n",
       "    <tr>\n",
       "      <th>Id</th>\n",
       "      <th></th>\n",
       "      <th></th>\n",
       "      <th></th>\n",
       "      <th></th>\n",
       "      <th></th>\n",
       "      <th></th>\n",
       "      <th></th>\n",
       "      <th></th>\n",
       "      <th></th>\n",
       "      <th></th>\n",
       "      <th></th>\n",
       "      <th></th>\n",
       "      <th></th>\n",
       "      <th></th>\n",
       "      <th></th>\n",
       "      <th></th>\n",
       "      <th></th>\n",
       "      <th></th>\n",
       "      <th></th>\n",
       "      <th></th>\n",
       "      <th></th>\n",
       "    </tr>\n",
       "  </thead>\n",
       "  <tbody>\n",
       "    <tr>\n",
       "      <th>2003_ALABAMA</th>\n",
       "      <td>ALABAMA</td>\n",
       "      <td>2003</td>\n",
       "      <td>727900.0</td>\n",
       "      <td>5196054.0</td>\n",
       "      <td>567704.0</td>\n",
       "      <td>2966981.0</td>\n",
       "      <td>1661369.0</td>\n",
       "      <td>5298932.0</td>\n",
       "      <td>2817111.0</td>\n",
       "      <td>1521462.0</td>\n",
       "      <td>...</td>\n",
       "      <td>262.0</td>\n",
       "      <td>207.0</td>\n",
       "      <td>253.0</td>\n",
       "      <td>2003_ALABAMA</td>\n",
       "      <td>0.109257</td>\n",
       "      <td>0.571007</td>\n",
       "      <td>0.319737</td>\n",
       "      <td>7.138417</td>\n",
       "      <td>0.542164</td>\n",
       "      <td>236.25</td>\n",
       "    </tr>\n",
       "    <tr>\n",
       "      <th>2003_ALASKA</th>\n",
       "      <td>ALASKA</td>\n",
       "      <td>2003</td>\n",
       "      <td>133303.0</td>\n",
       "      <td>1425948.0</td>\n",
       "      <td>259423.0</td>\n",
       "      <td>813371.0</td>\n",
       "      <td>353154.0</td>\n",
       "      <td>1610289.0</td>\n",
       "      <td>763525.0</td>\n",
       "      <td>514052.0</td>\n",
       "      <td>...</td>\n",
       "      <td>279.0</td>\n",
       "      <td>212.0</td>\n",
       "      <td>256.0</td>\n",
       "      <td>2003_ALASKA</td>\n",
       "      <td>0.181930</td>\n",
       "      <td>0.570407</td>\n",
       "      <td>0.247663</td>\n",
       "      <td>10.697044</td>\n",
       "      <td>0.535451</td>\n",
       "      <td>245.00</td>\n",
       "    </tr>\n",
       "    <tr>\n",
       "      <th>2003_ARIZONA</th>\n",
       "      <td>ARIZONA</td>\n",
       "      <td>2003</td>\n",
       "      <td>875111.0</td>\n",
       "      <td>6529894.0</td>\n",
       "      <td>740579.0</td>\n",
       "      <td>2912629.0</td>\n",
       "      <td>2876686.0</td>\n",
       "      <td>6210287.0</td>\n",
       "      <td>2810907.0</td>\n",
       "      <td>1964229.0</td>\n",
       "      <td>...</td>\n",
       "      <td>271.0</td>\n",
       "      <td>209.0</td>\n",
       "      <td>255.0</td>\n",
       "      <td>2003_ARIZONA</td>\n",
       "      <td>0.113414</td>\n",
       "      <td>0.446045</td>\n",
       "      <td>0.440541</td>\n",
       "      <td>7.461789</td>\n",
       "      <td>0.430467</td>\n",
       "      <td>241.00</td>\n",
       "    </tr>\n",
       "    <tr>\n",
       "      <th>2003_ARKANSAS</th>\n",
       "      <td>ARKANSAS</td>\n",
       "      <td>2003</td>\n",
       "      <td>450158.0</td>\n",
       "      <td>3241275.0</td>\n",
       "      <td>379947.0</td>\n",
       "      <td>2394336.0</td>\n",
       "      <td>466992.0</td>\n",
       "      <td>3242799.0</td>\n",
       "      <td>1768713.0</td>\n",
       "      <td>972598.0</td>\n",
       "      <td>...</td>\n",
       "      <td>266.0</td>\n",
       "      <td>214.0</td>\n",
       "      <td>258.0</td>\n",
       "      <td>2003_ARKANSAS</td>\n",
       "      <td>0.117221</td>\n",
       "      <td>0.738702</td>\n",
       "      <td>0.144077</td>\n",
       "      <td>7.200305</td>\n",
       "      <td>0.545684</td>\n",
       "      <td>241.75</td>\n",
       "    </tr>\n",
       "    <tr>\n",
       "      <th>2003_CALIFORNIA</th>\n",
       "      <td>CALIFORNIA</td>\n",
       "      <td>2003</td>\n",
       "      <td>6226552.0</td>\n",
       "      <td>59815855.0</td>\n",
       "      <td>5795655.0</td>\n",
       "      <td>33617766.0</td>\n",
       "      <td>20402434.0</td>\n",
       "      <td>59749885.0</td>\n",
       "      <td>29561563.0</td>\n",
       "      <td>17030335.0</td>\n",
       "      <td>...</td>\n",
       "      <td>267.0</td>\n",
       "      <td>206.0</td>\n",
       "      <td>251.0</td>\n",
       "      <td>2003_CALIFORNIA</td>\n",
       "      <td>0.096892</td>\n",
       "      <td>0.562021</td>\n",
       "      <td>0.341087</td>\n",
       "      <td>9.606578</td>\n",
       "      <td>0.494209</td>\n",
       "      <td>237.75</td>\n",
       "    </tr>\n",
       "  </tbody>\n",
       "</table>\n",
       "<p>5 rows × 23 columns</p>\n",
       "</div>"
      ],
      "text/plain": [
       "                      State  Year   Enrolled  TotalRevenue  FederalRevenue  \\\n",
       "Id                                                                           \n",
       "2003_ALABAMA        ALABAMA  2003   727900.0     5196054.0        567704.0   \n",
       "2003_ALASKA          ALASKA  2003   133303.0     1425948.0        259423.0   \n",
       "2003_ARIZONA        ARIZONA  2003   875111.0     6529894.0        740579.0   \n",
       "2003_ARKANSAS      ARKANSAS  2003   450158.0     3241275.0        379947.0   \n",
       "2003_CALIFORNIA  CALIFORNIA  2003  6226552.0    59815855.0       5795655.0   \n",
       "\n",
       "                 StateRevenue  LocalRevenue  TotalExpenditure  \\\n",
       "Id                                                              \n",
       "2003_ALABAMA        2966981.0     1661369.0         5298932.0   \n",
       "2003_ALASKA          813371.0      353154.0         1610289.0   \n",
       "2003_ARIZONA        2912629.0     2876686.0         6210287.0   \n",
       "2003_ARKANSAS       2394336.0      466992.0         3242799.0   \n",
       "2003_CALIFORNIA    33617766.0    20402434.0        59749885.0   \n",
       "\n",
       "                 InstructionExpenditure  SupportServicesExpenditure  ...  \\\n",
       "Id                                                                   ...   \n",
       "2003_ALABAMA                  2817111.0                   1521462.0  ...   \n",
       "2003_ALASKA                    763525.0                    514052.0  ...   \n",
       "2003_ARIZONA                  2810907.0                   1964229.0  ...   \n",
       "2003_ARKANSAS                 1768713.0                    972598.0  ...   \n",
       "2003_CALIFORNIA              29561563.0                  17030335.0  ...   \n",
       "\n",
       "                 AvgMath8Score  AvgReading4Score  AvgReading8Score  \\\n",
       "Id                                                                   \n",
       "2003_ALABAMA             262.0             207.0             253.0   \n",
       "2003_ALASKA              279.0             212.0             256.0   \n",
       "2003_ARIZONA             271.0             209.0             255.0   \n",
       "2003_ARKANSAS            266.0             214.0             258.0   \n",
       "2003_CALIFORNIA          267.0             206.0             251.0   \n",
       "\n",
       "                        RecordId  FederalFundingPercent  StateFundingPercent  \\\n",
       "Id                                                                             \n",
       "2003_ALABAMA        2003_ALABAMA               0.109257             0.571007   \n",
       "2003_ALASKA          2003_ALASKA               0.181930             0.570407   \n",
       "2003_ARIZONA        2003_ARIZONA               0.113414             0.446045   \n",
       "2003_ARKANSAS      2003_ARKANSAS               0.117221             0.738702   \n",
       "2003_CALIFORNIA  2003_CALIFORNIA               0.096892             0.562021   \n",
       "\n",
       "                LocalFundingPercent  RevenuePerStudent  \\\n",
       "Id                                                       \n",
       "2003_ALABAMA               0.319737           7.138417   \n",
       "2003_ALASKA                0.247663          10.697044   \n",
       "2003_ARIZONA               0.440541           7.461789   \n",
       "2003_ARKANSAS              0.144077           7.200305   \n",
       "2003_CALIFORNIA            0.341087           9.606578   \n",
       "\n",
       "                 InstructionalExpensePercent  Avg Score  \n",
       "Id                                                       \n",
       "2003_ALABAMA                        0.542164     236.25  \n",
       "2003_ALASKA                         0.535451     245.00  \n",
       "2003_ARIZONA                        0.430467     241.00  \n",
       "2003_ARKANSAS                       0.545684     241.75  \n",
       "2003_CALIFORNIA                     0.494209     237.75  \n",
       "\n",
       "[5 rows x 23 columns]"
      ]
     },
     "execution_count": 6,
     "metadata": {},
     "output_type": "execute_result"
    }
   ],
   "source": [
    "# combining grade scores\n",
    "Avg_Score = (df.AvgMath4Score + df.AvgMath8Score + df.AvgReading4Score + df.AvgReading8Score)/4\n",
    "df['Avg Score'] = Avg_Score\n",
    "df.head()"
   ]
  },
  {
   "cell_type": "markdown",
   "id": "4523e3c2",
   "metadata": {},
   "source": [
    "# Linear Regression for Local Funding"
   ]
  },
  {
   "cell_type": "code",
   "execution_count": 7,
   "id": "f24f5245",
   "metadata": {},
   "outputs": [],
   "source": [
    "# Defining variables\n",
    "X = df[[\"LocalFundingPercent\"]]\n",
    "y = df['Avg Score']"
   ]
  },
  {
   "cell_type": "code",
   "execution_count": 8,
   "id": "c72556db",
   "metadata": {},
   "outputs": [
    {
     "data": {
      "text/plain": [
       "LinearRegression()"
      ]
     },
     "execution_count": 8,
     "metadata": {},
     "output_type": "execute_result"
    }
   ],
   "source": [
    "#Creating regression object\n",
    "regr = linear_model.LinearRegression()\n",
    "regr.fit(X, y)"
   ]
  },
  {
   "cell_type": "code",
   "execution_count": 9,
   "id": "7590bc9f",
   "metadata": {},
   "outputs": [],
   "source": [
    "#Splitting the dataset into the Training set and Test set\n",
    "X_train, X_test, y_train, y_test = train_test_split(X, y, test_size = 0.2)"
   ]
  },
  {
   "cell_type": "code",
   "execution_count": 10,
   "id": "a8e1557a",
   "metadata": {},
   "outputs": [],
   "source": [
    "y_prediction =  regr.predict(X_test)"
   ]
  },
  {
   "cell_type": "code",
   "execution_count": 11,
   "id": "1d878d33",
   "metadata": {},
   "outputs": [
    {
     "data": {
      "text/html": [
       "<div>\n",
       "<style scoped>\n",
       "    .dataframe tbody tr th:only-of-type {\n",
       "        vertical-align: middle;\n",
       "    }\n",
       "\n",
       "    .dataframe tbody tr th {\n",
       "        vertical-align: top;\n",
       "    }\n",
       "\n",
       "    .dataframe thead th {\n",
       "        text-align: right;\n",
       "    }\n",
       "</style>\n",
       "<table border=\"1\" class=\"dataframe\">\n",
       "  <thead>\n",
       "    <tr style=\"text-align: right;\">\n",
       "      <th></th>\n",
       "      <th>Real Values</th>\n",
       "      <th>Predicted Values</th>\n",
       "    </tr>\n",
       "    <tr>\n",
       "      <th>Id</th>\n",
       "      <th></th>\n",
       "      <th></th>\n",
       "    </tr>\n",
       "  </thead>\n",
       "  <tbody>\n",
       "    <tr>\n",
<<<<<<< HEAD
<<<<<<< HEAD
       "      <th>2007_NEW_HAMPSHIRE</th>\n",
       "      <td>259.00</td>\n",
       "      <td>254.835614</td>\n",
       "    </tr>\n",
       "    <tr>\n",
       "      <th>2005_MISSISSIPPI</th>\n",
       "      <td>236.00</td>\n",
       "      <td>249.352812</td>\n",
       "    </tr>\n",
       "    <tr>\n",
       "      <th>2007_VERMONT</th>\n",
       "      <td>259.50</td>\n",
       "      <td>248.627949</td>\n",
       "    </tr>\n",
       "    <tr>\n",
       "      <th>2015_VERMONT</th>\n",
       "      <td>259.25</td>\n",
       "      <td>246.633144</td>\n",
       "    </tr>\n",
       "    <tr>\n",
       "      <th>2003_NEW_MEXICO</th>\n",
       "      <td>235.25</td>\n",
       "      <td>245.756722</td>\n",
=======
       "      <th>2013_MARYLAND</th>\n",
       "      <td>259.50</td>\n",
       "      <td>253.092560</td>\n",
=======
       "      <th>2007_ALABAMA</th>\n",
       "      <td>240.75</td>\n",
       "      <td>249.681028</td>\n",
>>>>>>> 7143184dc16d56cb96fc88b0ae882e6bec66492a
       "    </tr>\n",
       "    <tr>\n",
       "      <th>2003_ILLINOIS</th>\n",
       "      <td>248.00</td>\n",
       "      <td>254.528334</td>\n",
       "    </tr>\n",
       "    <tr>\n",
       "      <th>2015_FLORIDA</th>\n",
       "      <td>252.00</td>\n",
       "      <td>252.897914</td>\n",
       "    </tr>\n",
       "    <tr>\n",
       "      <th>2003_CALIFORNIA</th>\n",
       "      <td>237.75</td>\n",
       "      <td>249.967127</td>\n",
       "    </tr>\n",
       "    <tr>\n",
<<<<<<< HEAD
       "      <th>2007_FLORIDA</th>\n",
       "      <td>250.75</td>\n",
       "      <td>253.374862</td>\n",
>>>>>>> 551603f5f5f5334efc6877398839a2fa424a00bb
=======
       "      <th>2011_NEW_JERSEY</th>\n",
       "      <td>262.00</td>\n",
       "      <td>255.004310</td>\n",
>>>>>>> 7143184dc16d56cb96fc88b0ae882e6bec66492a
       "    </tr>\n",
       "  </tbody>\n",
       "</table>\n",
       "</div>"
      ],
      "text/plain": [
<<<<<<< HEAD
<<<<<<< HEAD
       "                    Real Values  Predicted Values\n",
       "Id                                               \n",
       "2007_NEW_HAMPSHIRE       259.00        254.835614\n",
       "2005_MISSISSIPPI         236.00        249.352812\n",
       "2007_VERMONT             259.50        248.627949\n",
       "2015_VERMONT             259.25        246.633144\n",
       "2003_NEW_MEXICO          235.25        245.756722"
=======
       "                   Real Values  Predicted Values\n",
       "Id                                              \n",
       "2013_MARYLAND           259.50        253.092560\n",
       "2015_NORTH_DAKOTA       256.25        249.755925\n",
       "2007_TEXAS              252.25        253.917835\n",
       "2011_RHODE_ISLAND       253.00        254.038652\n",
       "2007_FLORIDA            250.75        253.374862"
>>>>>>> 551603f5f5f5334efc6877398839a2fa424a00bb
=======
       "                 Real Values  Predicted Values\n",
       "Id                                            \n",
       "2007_ALABAMA          240.75        249.681028\n",
       "2003_ILLINOIS         248.00        254.528334\n",
       "2015_FLORIDA          252.00        252.897914\n",
       "2003_CALIFORNIA       237.75        249.967127\n",
       "2011_NEW_JERSEY       262.00        255.004310"
>>>>>>> 7143184dc16d56cb96fc88b0ae882e6bec66492a
      ]
     },
     "execution_count": 11,
     "metadata": {},
     "output_type": "execute_result"
    }
   ],
   "source": [
    "#Comparing the Test Set with Predicted Values\n",
    "df_L = pd.DataFrame({'Real Values':y_test, 'Predicted Values':y_prediction})\n",
    "df_L.head()"
   ]
  },
  {
   "cell_type": "code",
   "execution_count": 12,
<<<<<<< HEAD
<<<<<<< HEAD
   "id": "4d4a288c",
=======
   "id": "02b4651c",
>>>>>>> 551603f5f5f5334efc6877398839a2fa424a00bb
=======
   "id": "cae9ecbe",
>>>>>>> 7143184dc16d56cb96fc88b0ae882e6bec66492a
   "metadata": {},
   "outputs": [
    {
     "data": {
      "text/plain": [
       "count    70.000000\n",
       "mean      4.691451\n",
       "std       3.566396\n",
       "min       0.076080\n",
       "25%       2.064441\n",
       "50%       4.096835\n",
       "75%       6.350400\n",
       "max      14.414103\n",
       "dtype: float64"
      ]
     },
     "execution_count": 12,
     "metadata": {},
     "output_type": "execute_result"
    }
   ],
   "source": [
    "#Finding range of Uncertainty\n",
    "df_L_error_percentage = abs(df_L['Real Values'] - df_L['Predicted Values'])\n",
    "df_L_error_percentage.describe()"
   ]
  },
  {
   "cell_type": "code",
   "execution_count": 13,
<<<<<<< HEAD
<<<<<<< HEAD
   "id": "b991a620",
=======
   "id": "4e708e13",
>>>>>>> 551603f5f5f5334efc6877398839a2fa424a00bb
   "metadata": {},
   "outputs": [
    {
     "data": {
<<<<<<< HEAD
      "image/png": "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\n",
=======
      "image/png": "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\n",
>>>>>>> 551603f5f5f5334efc6877398839a2fa424a00bb
      "text/plain": [
       "<Figure size 432x288 with 1 Axes>"
      ]
     },
     "metadata": {
      "needs_background": "light"
     },
     "output_type": "display_data"
    }
   ],
   "source": [
    "# plotting the results\n",
    "plt.scatter(X_test, y_test, color = 'red')\n",
    "plt.scatter(X_test, y_prediction, color = 'green')\n",
    "plt.plot(X_train, regr.predict(X_train), color = 'black')\n",
    "plt.title('Local Funding Percent Linear Regression')\n",
    "plt.xlabel('Local Funding Percent')\n",
    "plt.ylabel('Average Test Scores')\n",
    "plt.show()\n",
    "\n",
    "#Note: Real values are in Red, Predicted values are in green, and the Regression line is in black"
   ]
  },
  {
   "cell_type": "code",
   "execution_count": 14,
<<<<<<< HEAD
   "id": "32acbfed",
=======
   "id": "11b0dd01",
>>>>>>> 551603f5f5f5334efc6877398839a2fa424a00bb
=======
   "id": "a3f96f98",
>>>>>>> 7143184dc16d56cb96fc88b0ae882e6bec66492a
   "metadata": {},
   "outputs": [
    {
     "name": "stdout",
     "output_type": "stream",
     "text": [
<<<<<<< HEAD
<<<<<<< HEAD
      "The Mean Squared Error is 44.52250857703092\n"
=======
      "The Mean Squared Error is 28.28864899895318\n"
>>>>>>> 551603f5f5f5334efc6877398839a2fa424a00bb
=======
      "R2 Value is 0.1184247861053217, Means Squared Error is 34.547189722351916\n"
>>>>>>> 7143184dc16d56cb96fc88b0ae882e6bec66492a
     ]
    }
   ],
   "source": [
    "#Evaluating Regression Model\n",
    "from sklearn.metrics import mean_squared_error, r2_score\n",
    "\n",
    "r2 = r2_score(y_test, y_prediction)\n",
    "mse = mean_squared_error(y_test, y_prediction)\n",
    "\n",
    "print(f'R2 Value is {r2}, Means Squared Error is {mse}')"
   ]
  },
  {
   "cell_type": "code",
<<<<<<< HEAD
   "execution_count": 15,
<<<<<<< HEAD
   "id": "3254b9ec",
=======
   "id": "561d3c34",
>>>>>>> 551603f5f5f5334efc6877398839a2fa424a00bb
=======
   "execution_count": 14,
   "id": "b5803b3c",
>>>>>>> 7143184dc16d56cb96fc88b0ae882e6bec66492a
   "metadata": {},
   "outputs": [
    {
     "name": "stdout",
     "output_type": "stream",
     "text": [
<<<<<<< HEAD
<<<<<<< HEAD
      " Uncertainty of Grade Points is +/- 2.2493972518028684 Percent\n"
=======
      " Uncertainty of Grade Points is +/- 1.7193234908207158 Percent\n"
>>>>>>> 551603f5f5f5334efc6877398839a2fa424a00bb
=======
      "[19.80039247]\n",
      "243.2134624767756\n"
>>>>>>> 7143184dc16d56cb96fc88b0ae882e6bec66492a
     ]
    }
   ],
   "source": [
<<<<<<< HEAD
    "#Calculating Standard Error\n",
    "Grade_Point_Error = (abs(df_L['Predicted Values'] - df_L['Real Values'])/df_L['Real Values'])*100\n",
<<<<<<< HEAD
    "print(f' Uncertainty of Grade Points is +/- {sum(Grade_Point_Error)/len(df_L)} Percent')"
=======
    "print(f' Uncertainty of Grade Points is +/- {sum(Grade_Point_Error)/70} Percent')"
>>>>>>> 551603f5f5f5334efc6877398839a2fa424a00bb
=======
    "#Finding slope and intercept\n",
    "print(regr.coef_)\n",
    "print(regr.intercept_)"
>>>>>>> 7143184dc16d56cb96fc88b0ae882e6bec66492a
   ]
  },
  {
   "cell_type": "code",
<<<<<<< HEAD
   "execution_count": 16,
<<<<<<< HEAD
   "id": "1db35cb3",
=======
   "id": "9ff007aa",
>>>>>>> 551603f5f5f5334efc6877398839a2fa424a00bb
=======
   "execution_count": 15,
   "id": "4e708e13",
>>>>>>> 7143184dc16d56cb96fc88b0ae882e6bec66492a
   "metadata": {},
   "outputs": [
    {
     "data": {
      "image/png": "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\n",
      "text/plain": [
       "<Figure size 648x432 with 1 Axes>"
      ]
     },
<<<<<<< HEAD
     "execution_count": 16,
     "metadata": {},
     "output_type": "execute_result"
    }
   ],
   "source": [
    "Grade_Point_Error.shape"
   ]
  },
  {
   "cell_type": "code",
   "execution_count": 17,
<<<<<<< HEAD
   "id": "05c912d7",
=======
   "id": "94665424",
>>>>>>> 551603f5f5f5334efc6877398839a2fa424a00bb
   "metadata": {},
   "outputs": [
    {
     "name": "stdout",
     "output_type": "stream",
     "text": [
      "                    LocalFundingPercent\n",
      "Id                                     \n",
<<<<<<< HEAD
      "2007_NEW_HAMPSHIRE             0.586966\n",
      "2005_MISSISSIPPI               0.310062\n",
      "2007_VERMONT                   0.273453\n",
      "2015_VERMONT                   0.172708\n",
      "2003_NEW_MEXICO                0.128445\n",
      "...                                 ...\n",
      "2003_LOUISIANA                 0.383376\n",
      "2003_MARYLAND                  0.553095\n",
      "2013_KANSAS                    0.362182\n",
      "2003_NEW_HAMPSHIRE             0.478081\n",
      "2011_NEBRASKA                  0.555330\n",
      "\n",
      "[70 rows x 1 columns] [254.83561358 249.35281183 248.6279487  246.63314399 245.75672221\n",
      " 251.88203696 253.75154806 249.52088555 249.8784502  249.48885779\n",
      " 249.12490999 254.87402662 251.5792975  250.09100661 254.30257434\n",
      " 249.96712671 253.91783533 249.49953949 250.42609071 249.83159905\n",
      " 252.70000542 249.44450089 246.84045516 254.45660816 249.33380497\n",
      " 251.86837107 248.11727931 248.88659503 247.84670969 253.86527407\n",
      " 252.55090893 252.23146883 252.68337159 254.64369732 252.60702723\n",
      " 251.40173787 253.37486193 254.60460486 254.81328954 250.7791266\n",
      " 253.46726467 248.88415821 250.97741337 250.58825126 253.31070661\n",
      " 246.1660118  254.23472086 250.13616546 248.60123315 249.69060715\n",
      " 248.81745115 253.59283473 246.06623643 253.43578873 254.93450802\n",
      " 245.86480476 247.7788542  250.83337564 251.13236642 250.43695531\n",
      " 243.65382798 251.64197067 246.5197525  245.87844049 250.65739887\n",
      " 250.80446211 254.1649606  250.38480417 252.67966296 254.20922189]\n"
=======
      "2013_MARYLAND                  0.498934\n",
      "2015_NORTH_DAKOTA              0.330421\n",
      "2007_TEXAS                     0.540614\n",
      "2011_RHODE_ISLAND              0.546716\n",
      "2007_FLORIDA                   0.513192\n",
      "...                                 ...\n",
      "2003_WEST_VIRGINIA             0.284416\n",
      "2009_KANSAS                    0.346365\n",
      "2007_NEW_MEXICO                0.142973\n",
      "2015_KANSAS                    0.258464\n",
      "2013_INDIANA                   0.306720\n",
      "\n",
      "[70 rows x 1 columns] [253.09256009 249.75592509 253.91783533 254.03865173 253.37486193\n",
      " 251.426384   251.14486769 253.43578873 251.4799073  254.1649606\n",
      " 255.5562511  251.29220315 254.23472086 253.13332516 249.54437402\n",
      " 251.1052591  254.60460486 249.68568309 249.84881069 248.38916409\n",
      " 250.8816941  250.55888428 249.32324143 250.42609071 253.10798268\n",
      " 254.87402662 252.75098473 250.57611091 253.31070661 253.46726467\n",
      " 251.45620696 253.51265502 254.16891138 246.57532801 250.63688584\n",
      " 249.68102843 247.84670969 246.06623643 253.06460567 254.17500919\n",
      " 251.16680429 254.7776989  249.35329646 250.09100661 253.23287791\n",
      " 250.12530303 252.49233122 251.09287076 245.86480476 250.3705681\n",
      " 252.80680523 249.48885779 254.19067796 253.74876781 252.70044232\n",
      " 251.80341187 251.64197067 250.61106897 253.94634361 251.18138615\n",
      " 250.32557053 251.61318176 249.18395666 253.85565876 248.33768946\n",
      " 248.84502014 250.07163064 246.04439059 248.33115851 249.28664596]\n"
>>>>>>> 551603f5f5f5334efc6877398839a2fa424a00bb
     ]
    }
   ],
   "source": [
    "print(X_test, y_prediction)"
   ]
  },
  {
   "cell_type": "code",
   "execution_count": 18,
<<<<<<< HEAD
   "id": "b5daa268",
=======
   "id": "0a4a11c0",
>>>>>>> 551603f5f5f5334efc6877398839a2fa424a00bb
   "metadata": {},
   "outputs": [
    {
     "name": "stdout",
     "output_type": "stream",
     "text": [
      "slope = 19.8002955743824, Y intercept = 243.21350329342064\n"
     ]
=======
     "metadata": {
      "needs_background": "light"
     },
     "output_type": "display_data"
>>>>>>> 7143184dc16d56cb96fc88b0ae882e6bec66492a
    }
   ],
   "source": [
    "# plotting the results\n",
    "m = np.round(regr.coef_,2)\n",
    "b = np.round(regr.intercept_,2)\n",
    "line = f' y = {m}x + {b}'\n",
    "rL = np.round(r2,2)\n",
    "\n",
    "plt.figure(figsize=(9,6))\n",
    "plt.scatter(X_test, y_test, color = 'red', label = 'Real Values')\n",
    "plt.scatter(X_test, y_prediction, color = 'green', label = 'Predicted Values')\n",
    "plt.plot(X_train, regr.predict(X_train), color = 'black',\n",
    "         label= f'{line}, \\n r2 = {rL}')\n",
    "\n",
    "\n",
    "plt.title('Linear Regression of Local Funding', fontsize=22)\n",
    "plt.xlabel('Local Funding Percent', fontsize=17)\n",
    "plt.ylabel('Average Test Scores', fontsize=17)\n",
    "plt.legend(fontsize=16)\n",
    "plt.show()\n"
   ]
  },
  {
   "cell_type": "markdown",
<<<<<<< HEAD
   "id": "81bd1bec",
=======
   "id": "55b22339",
>>>>>>> 551603f5f5f5334efc6877398839a2fa424a00bb
   "metadata": {},
   "source": [
    "### What happens if we increase local spending by 10%"
   ]
  },
  {
   "cell_type": "code",
<<<<<<< HEAD
   "execution_count": 19,
<<<<<<< HEAD
   "id": "17acde37",
=======
=======
   "execution_count": 16,
>>>>>>> 7143184dc16d56cb96fc88b0ae882e6bec66492a
   "id": "eaaad509",
>>>>>>> 551603f5f5f5334efc6877398839a2fa424a00bb
   "metadata": {},
   "outputs": [],
   "source": [
    "#Function of Linear reqression is y = 19.8002955743824*x + 243.21350329342064\n",
    "#f(0.2) = 247.17356240829712\n",
    "#f(0.3) = 249.15359196573536\n",
    "#Increase = 1.98002955743824\n",
    "\n",
    "#If you increase local funding by 10 percent, NAEP test scores will go up about 2 grade points "
   ]
  },
  {
   "cell_type": "markdown",
<<<<<<< HEAD
   "id": "8f30384d",
=======
   "id": "5bf6c2be",
>>>>>>> 551603f5f5f5334efc6877398839a2fa424a00bb
   "metadata": {},
   "source": [
    "# Linear Regression for Revenue Per Student"
   ]
  },
  {
   "cell_type": "code",
<<<<<<< HEAD
<<<<<<< HEAD
   "execution_count": 20,
   "id": "01fdee32",
=======
   "execution_count": 22,
=======
   "execution_count": 17,
>>>>>>> 7143184dc16d56cb96fc88b0ae882e6bec66492a
   "id": "5643f7ba",
>>>>>>> 551603f5f5f5334efc6877398839a2fa424a00bb
   "metadata": {},
   "outputs": [],
   "source": [
    "# Defining variables\n",
    "X1 = df[[\"RevenuePerStudent\"]]\n",
    "y1 = df['Avg Score']"
   ]
  },
  {
   "cell_type": "code",
<<<<<<< HEAD
<<<<<<< HEAD
   "execution_count": 21,
   "id": "3f8d4923",
=======
   "execution_count": 23,
=======
   "execution_count": 18,
>>>>>>> 7143184dc16d56cb96fc88b0ae882e6bec66492a
   "id": "a8576021",
>>>>>>> 551603f5f5f5334efc6877398839a2fa424a00bb
   "metadata": {},
   "outputs": [
    {
     "data": {
      "text/plain": [
       "LinearRegression()"
      ]
     },
<<<<<<< HEAD
<<<<<<< HEAD
     "execution_count": 21,
=======
     "execution_count": 23,
>>>>>>> 551603f5f5f5334efc6877398839a2fa424a00bb
=======
     "execution_count": 18,
>>>>>>> 7143184dc16d56cb96fc88b0ae882e6bec66492a
     "metadata": {},
     "output_type": "execute_result"
    }
   ],
   "source": [
    "#Creating regression object\n",
    "regr1 = linear_model.LinearRegression()\n",
    "regr1.fit(X1, y1)"
   ]
  },
  {
   "cell_type": "code",
<<<<<<< HEAD
<<<<<<< HEAD
   "execution_count": 22,
   "id": "e608864a",
=======
   "execution_count": 24,
=======
   "execution_count": 19,
>>>>>>> 7143184dc16d56cb96fc88b0ae882e6bec66492a
   "id": "16903b92",
>>>>>>> 551603f5f5f5334efc6877398839a2fa424a00bb
   "metadata": {},
   "outputs": [],
   "source": [
    "#Splitting the dataset into the Training set and Test set\n",
    "X1_train, X1_test, y1_train, y1_test = train_test_split(X1, y1, test_size = 0.2)"
   ]
  },
  {
   "cell_type": "code",
<<<<<<< HEAD
<<<<<<< HEAD
   "execution_count": 23,
   "id": "6bd9b208",
=======
   "execution_count": 25,
=======
   "execution_count": 20,
>>>>>>> 7143184dc16d56cb96fc88b0ae882e6bec66492a
   "id": "6323203f",
>>>>>>> 551603f5f5f5334efc6877398839a2fa424a00bb
   "metadata": {},
   "outputs": [],
   "source": [
    "#Make Prediction\n",
    "y1_prediction =  regr1.predict(X1_test)"
   ]
  },
  {
   "cell_type": "code",
<<<<<<< HEAD
<<<<<<< HEAD
   "execution_count": 24,
   "id": "086b099b",
=======
   "execution_count": 26,
=======
   "execution_count": 21,
>>>>>>> 7143184dc16d56cb96fc88b0ae882e6bec66492a
   "id": "cf30fa94",
>>>>>>> 551603f5f5f5334efc6877398839a2fa424a00bb
   "metadata": {},
   "outputs": [
    {
     "data": {
      "text/html": [
       "<div>\n",
       "<style scoped>\n",
       "    .dataframe tbody tr th:only-of-type {\n",
       "        vertical-align: middle;\n",
       "    }\n",
       "\n",
       "    .dataframe tbody tr th {\n",
       "        vertical-align: top;\n",
       "    }\n",
       "\n",
       "    .dataframe thead th {\n",
       "        text-align: right;\n",
       "    }\n",
       "</style>\n",
       "<table border=\"1\" class=\"dataframe\">\n",
       "  <thead>\n",
       "    <tr style=\"text-align: right;\">\n",
       "      <th></th>\n",
       "      <th>Real Values</th>\n",
       "      <th>Predicted Values</th>\n",
       "    </tr>\n",
       "    <tr>\n",
       "      <th>Id</th>\n",
       "      <th></th>\n",
       "      <th></th>\n",
       "    </tr>\n",
       "  </thead>\n",
       "  <tbody>\n",
       "    <tr>\n",
<<<<<<< HEAD
<<<<<<< HEAD
       "      <th>2011_TENNESSEE</th>\n",
       "      <td>245.25</td>\n",
       "      <td>248.698120</td>\n",
       "    </tr>\n",
       "    <tr>\n",
       "      <th>2007_MASSACHUSETTS</th>\n",
       "      <td>264.75</td>\n",
       "      <td>254.104980</td>\n",
       "    </tr>\n",
       "    <tr>\n",
       "      <th>2015_NEVADA</th>\n",
       "      <td>245.50</td>\n",
       "      <td>249.620779</td>\n",
       "    </tr>\n",
       "    <tr>\n",
       "      <th>2007_DELAWARE</th>\n",
       "      <td>253.75</td>\n",
       "      <td>253.714658</td>\n",
       "    </tr>\n",
       "    <tr>\n",
       "      <th>2009_ARKANSAS</th>\n",
       "      <td>247.00</td>\n",
       "      <td>249.720741</td>\n",
=======
       "      <th>2015_TEXAS</th>\n",
       "      <td>251.75</td>\n",
       "      <td>250.632427</td>\n",
=======
       "      <th>2015_ARKANSAS</th>\n",
       "      <td>246.75</td>\n",
       "      <td>250.600022</td>\n",
>>>>>>> 7143184dc16d56cb96fc88b0ae882e6bec66492a
       "    </tr>\n",
       "    <tr>\n",
       "      <th>2011_VIRGINIA</th>\n",
       "      <td>256.75</td>\n",
       "      <td>251.144714</td>\n",
       "    </tr>\n",
       "    <tr>\n",
       "      <th>2005_MONTANA</th>\n",
       "      <td>255.25</td>\n",
       "      <td>248.717881</td>\n",
       "    </tr>\n",
       "    <tr>\n",
       "      <th>2011_NEVADA</th>\n",
       "      <td>246.50</td>\n",
       "      <td>249.413022</td>\n",
       "    </tr>\n",
       "    <tr>\n",
<<<<<<< HEAD
       "      <th>2011_SOUTH_DAKOTA</th>\n",
       "      <td>255.25</td>\n",
       "      <td>249.982333</td>\n",
>>>>>>> 551603f5f5f5334efc6877398839a2fa424a00bb
=======
       "      <th>2005_LOUISIANA</th>\n",
       "      <td>240.00</td>\n",
       "      <td>248.300877</td>\n",
>>>>>>> 7143184dc16d56cb96fc88b0ae882e6bec66492a
       "    </tr>\n",
       "  </tbody>\n",
       "</table>\n",
       "</div>"
      ],
      "text/plain": [
<<<<<<< HEAD
       "                    Real Values  Predicted Values\n",
       "Id                                               \n",
<<<<<<< HEAD
       "2011_TENNESSEE           245.25        248.698120\n",
       "2007_MASSACHUSETTS       264.75        254.104980\n",
       "2015_NEVADA              245.50        249.620779\n",
       "2007_DELAWARE            253.75        253.714658\n",
       "2009_ARKANSAS            247.00        249.720741"
      ]
     },
     "execution_count": 24,
=======
       "2015_TEXAS               251.75        250.632427\n",
       "2009_NEW_HAMPSHIRE       260.75        253.306636\n",
       "2011_FLORIDA             251.25        249.733509\n",
       "2013_HAWAII              249.75        251.903251\n",
       "2011_SOUTH_DAKOTA        255.25        249.982333"
      ]
     },
     "execution_count": 26,
>>>>>>> 551603f5f5f5334efc6877398839a2fa424a00bb
=======
       "                Real Values  Predicted Values\n",
       "Id                                           \n",
       "2015_ARKANSAS        246.75        250.600022\n",
       "2011_VIRGINIA        256.75        251.144714\n",
       "2005_MONTANA         255.25        248.717881\n",
       "2011_NEVADA          246.50        249.413022\n",
       "2005_LOUISIANA       240.00        248.300877"
      ]
     },
     "execution_count": 21,
>>>>>>> 7143184dc16d56cb96fc88b0ae882e6bec66492a
     "metadata": {},
     "output_type": "execute_result"
    }
   ],
   "source": [
    "#Comparing the Test Set with Predicted Values\n",
    "df_R = pd.DataFrame({'Real Values':y1_test, 'Predicted Values':y1_prediction})\n",
    "df_R.head()"
   ]
  },
  {
   "cell_type": "code",
<<<<<<< HEAD
<<<<<<< HEAD
   "execution_count": 25,
   "id": "aa4f853b",
=======
   "execution_count": 27,
   "id": "57d48b31",
>>>>>>> 551603f5f5f5334efc6877398839a2fa424a00bb
=======
   "execution_count": 22,
   "id": "2c5db19a",
>>>>>>> 7143184dc16d56cb96fc88b0ae882e6bec66492a
   "metadata": {},
   "outputs": [
    {
     "data": {
<<<<<<< HEAD
<<<<<<< HEAD
      "image/png": "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\n",
=======
      "image/png": "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\n",
>>>>>>> 551603f5f5f5334efc6877398839a2fa424a00bb
=======
>>>>>>> 7143184dc16d56cb96fc88b0ae882e6bec66492a
      "text/plain": [
       "count    70.000000\n",
       "mean      4.457548\n",
       "std       2.901912\n",
       "min       0.058709\n",
       "25%       2.287675\n",
       "50%       3.902567\n",
       "75%       6.410207\n",
       "max      12.945285\n",
       "dtype: float64"
      ]
     },
     "execution_count": 22,
     "metadata": {},
     "output_type": "execute_result"
    }
   ],
   "source": [
    "#Finding range of Uncertainty\n",
    "df_R_errors = abs(df_R['Real Values'] - df_R['Predicted Values'])\n",
    "df_R_errors.describe()"
   ]
  },
  {
   "cell_type": "code",
<<<<<<< HEAD
<<<<<<< HEAD
   "execution_count": 26,
   "id": "2b1ed204",
=======
   "execution_count": 28,
   "id": "f82d5e06",
>>>>>>> 551603f5f5f5334efc6877398839a2fa424a00bb
=======
   "execution_count": 23,
   "id": "47c0b137",
>>>>>>> 7143184dc16d56cb96fc88b0ae882e6bec66492a
   "metadata": {},
   "outputs": [
    {
     "name": "stdout",
     "output_type": "stream",
     "text": [
<<<<<<< HEAD
<<<<<<< HEAD
      "The Mean Squared Error is 28.01017609389413\n"
=======
      "The Mean Squared Error is 27.67968645444278\n"
>>>>>>> 551603f5f5f5334efc6877398839a2fa424a00bb
=======
      "R2 Value is 0.18123791567350322, Means Squared Error is 28.17052252046459\n"
>>>>>>> 7143184dc16d56cb96fc88b0ae882e6bec66492a
     ]
    }
   ],
   "source": [
    "#Evaluating Regression Model\n",
    "from sklearn.metrics import mean_squared_error, r2_score\n",
    "\n",
    "r21 = r2_score(y1_test, y1_prediction)\n",
    "mse1 = mean_squared_error(y1_test, y1_prediction)\n",
    "\n",
    "print(f'R2 Value is {r21}, Means Squared Error is {mse1}')"
   ]
  },
  {
   "cell_type": "code",
<<<<<<< HEAD
<<<<<<< HEAD
   "execution_count": 27,
   "id": "8033a704",
=======
   "execution_count": 29,
   "id": "535e682a",
>>>>>>> 551603f5f5f5334efc6877398839a2fa424a00bb
=======
   "execution_count": 24,
   "id": "fda2586b",
>>>>>>> 7143184dc16d56cb96fc88b0ae882e6bec66492a
   "metadata": {},
   "outputs": [
    {
     "name": "stdout",
     "output_type": "stream",
     "text": [
<<<<<<< HEAD
<<<<<<< HEAD
      " Uncertainty of Grade Points is +/- 1.7106272330702819 Percent\n"
=======
      " Uncertainty of Grade Points is +/- 1.6888216904737752 Percent\n"
>>>>>>> 551603f5f5f5334efc6877398839a2fa424a00bb
=======
      "[0.83886236]\n",
      "241.31635940851083\n"
>>>>>>> 7143184dc16d56cb96fc88b0ae882e6bec66492a
     ]
    }
   ],
   "source": [
<<<<<<< HEAD
    "#Calculating Standard Error\n",
    "Grade_Point_Error1 = (abs(df_R['Predicted Values'] - df_R['Real Values'])/df_R['Real Values'])*100\n",
<<<<<<< HEAD
    "print(f' Uncertainty of Grade Points is +/- {sum(Grade_Point_Error1)/len(df_R)} Percent')"
=======
    "print(f' Uncertainty of Grade Points is +/- {sum(Grade_Point_Error1)/70} Percent')"
>>>>>>> 551603f5f5f5334efc6877398839a2fa424a00bb
=======
    "#Finding slope and intercept\n",
    "print(regr1.coef_)\n",
    "print(regr1.intercept_)"
   ]
  },
  {
   "cell_type": "code",
   "execution_count": 25,
   "id": "57d48b31",
   "metadata": {},
   "outputs": [
    {
     "data": {
      "image/png": "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\n",
      "text/plain": [
       "<Figure size 648x432 with 1 Axes>"
      ]
     },
     "metadata": {
      "needs_background": "light"
     },
     "output_type": "display_data"
    }
   ],
   "source": [
    "# plotting the results\n",
    "m = np.round(regr1.coef_,2)\n",
    "b = np.round(regr1.intercept_,2)\n",
    "line = f' y = {m}x + {b}'\n",
    "rR = np.round(r21,2)\n",
    "\n",
    "plt.figure(figsize=(9,6))\n",
    "plt.scatter(X1_test, y1_test, color = 'red', label = 'Real Values')\n",
    "plt.scatter(X1_test, y1_prediction, color = 'green', label = 'Predicted Values')\n",
    "plt.plot(X1_train, regr1.predict(X1_train), color = 'black',\n",
    "         label= f'{line}, \\n r2 = {rR}')\n",
    "\n",
    "\n",
    "plt.title('Linear Regression of Revenue per Student', fontsize=22)\n",
    "plt.xlabel('Revenue per Student', fontsize=17)\n",
    "plt.ylabel('Average Test Scores', fontsize=17)\n",
    "plt.legend(fontsize=16)\n",
    "plt.show()"
   ]
  },
  {
   "cell_type": "markdown",
   "id": "2535efd2",
   "metadata": {},
   "source": [
    "### What happens if we increase revenue per student by one dollar?"
   ]
  },
  {
   "cell_type": "code",
   "execution_count": 26,
   "id": "fbdd2afe",
   "metadata": {},
   "outputs": [],
   "source": [
    "#Function of Linear reqression is y = 10.8388624639613683*x + 241.31635805795557\n",
    "#f(10) = 249.704982697569253\n",
    "#f(11) = 250.5438451615306213\n",
    "#Increase = 0.8388624639613683\n",
    "\n",
    "#If you increase Revenue Per Student by 1 dollar, NAEP test scores will go up by about1 grade point"
   ]
  },
  {
   "cell_type": "markdown",
   "id": "f517bd00",
   "metadata": {},
   "source": [
    "# Linear Regression for Instructional Expense"
   ]
  },
  {
   "cell_type": "code",
   "execution_count": 27,
   "id": "8ccb6bc2",
   "metadata": {},
   "outputs": [],
   "source": [
    "# Defining variables\n",
    "X2 = df[[\"InstructionalExpensePercent\"]]\n",
    "y2 = df['Avg Score']"
   ]
  },
  {
   "cell_type": "code",
   "execution_count": 28,
   "id": "bab8e3bc",
   "metadata": {},
   "outputs": [
    {
     "data": {
      "text/plain": [
       "LinearRegression()"
      ]
     },
     "execution_count": 28,
     "metadata": {},
     "output_type": "execute_result"
    }
   ],
   "source": [
    "#Creating regression object\n",
    "regr2 = linear_model.LinearRegression()\n",
    "regr2.fit(X2, y2)"
   ]
  },
  {
   "cell_type": "code",
   "execution_count": 29,
   "id": "2f6d8ce1",
   "metadata": {},
   "outputs": [],
   "source": [
    "#Splitting the dataset into the Training set and Test set\n",
    "X2_train, X2_test, y2_train, y2_test = train_test_split(X2, y2, test_size = 0.2)"
>>>>>>> 7143184dc16d56cb96fc88b0ae882e6bec66492a
   ]
  },
  {
   "cell_type": "code",
<<<<<<< HEAD
   "execution_count": 28,
   "id": "83af5240",
=======
   "execution_count": 30,
<<<<<<< HEAD
   "id": "1cfc3ebf",
>>>>>>> 551603f5f5f5334efc6877398839a2fa424a00bb
   "metadata": {},
   "outputs": [
    {
     "name": "stdout",
     "output_type": "stream",
     "text": [
<<<<<<< HEAD
      "                     RevenuePerStudent\n",
      "Id                                    \n",
      "2011_TENNESSEE                8.799728\n",
      "2007_MASSACHUSETTS           15.245196\n",
      "2015_NEVADA                   9.899621\n",
      "2007_DELAWARE                14.779897\n",
      "2009_ARKANSAS                10.018785\n",
      "...                                ...\n",
      "2003_WISCONSIN               10.202878\n",
      "2005_ALASKA                  12.067309\n",
      "2011_UTAH                     7.593126\n",
      "2015_SOUTH_CAROLINA          11.879485\n",
      "2011_GEORGIA                 10.822101\n",
      "\n",
      "[70 rows x 1 columns] [248.69811971 254.10498009 249.62077911 253.71465841 249.72074093\n",
      " 259.41124677 254.09604882 247.67037883 248.89001771 251.29818335\n",
      " 251.96130469 249.47876716 249.67031691 257.04710099 256.07139558\n",
      " 254.14375557 254.80326945 248.58921903 255.28073847 251.86550836\n",
      " 249.69165855 248.08731912 252.63800635 257.02150113 247.30450901\n",
      " 261.62611861 250.53003697 249.66347479 251.92134437 248.67866788\n",
      " 247.66394315 249.85270726 255.07914957 247.40063641 251.12882249\n",
      " 251.90325091 252.47880488 249.42552179 253.03156299 258.85799925\n",
      " 251.72184876 248.32172667 250.77483126 250.4429188  250.8028477\n",
      " 248.20153644 255.99448593 251.06041541 256.87388036 253.06006975\n",
      " 254.40267303 247.91448303 250.89224321 250.59214879 249.29220259\n",
      " 247.53077334 251.43022371 252.41298244 250.98832756 250.23295518\n",
      " 250.45600316 248.96902678 248.14830506 248.71788068 254.61945609\n",
      " 249.87516932 251.43917053 247.68594704 251.28161204 250.39461288]\n"
=======
      "                    RevenuePerStudent\n",
      "Id                                   \n",
      "2015_TEXAS                  11.105598\n",
      "2009_NEW_HAMPSHIRE          14.293497\n",
      "2011_FLORIDA                10.034006\n",
      "2013_HAWAII                 12.620535\n",
      "2011_SOUTH_DAKOTA           10.330627\n",
      "...                               ...\n",
      "2009_MINNESOTA              12.928800\n",
      "2003_ALABAMA                 7.138417\n",
      "2011_UTAH                    7.593126\n",
      "2015_MAINE                  15.550296\n",
      "2003_FLORIDA                 7.706801\n",
      "\n",
      "[70 rows x 1 columns] [250.63242736 253.30663617 249.73350914 251.90325091 249.98233318\n",
      " 247.50139224 248.93025954 249.16398325 247.53077334 249.60098053\n",
      " 249.12278811 249.99659183 254.3876473  249.42430555 249.65619772\n",
      " 250.20657893 248.08731912 248.98978323 248.39413204 248.90113501\n",
      " 254.92979124 249.84185677 255.62119636 251.43114162 252.03825294\n",
      " 250.60002165 255.89578793 252.41298244 248.84416464 253.88802129\n",
      " 249.96239421 255.22248874 250.4429188  257.04710099 248.62262737\n",
      " 247.67037883 252.36779865 251.5529016  250.47870518 247.62446592\n",
      " 258.56066266 249.0677225  249.58548865 248.66011212 250.01668745\n",
      " 247.26556373 246.30998563 250.90357578 251.05403846 248.7864032\n",
      " 251.08849468 251.3700727  250.53269327 258.03386204 249.41584683\n",
      " 254.3233726  248.24047245 251.26820271 249.79288273 251.12882249\n",
      " 254.96084064 248.71788068 249.55946383 250.76450262 251.06041541\n",
      " 252.1618432  247.30450901 247.68594704 254.36091758 247.78130485]\n"
>>>>>>> 551603f5f5f5334efc6877398839a2fa424a00bb
     ]
=======
   "id": "90bd6ad2",
   "metadata": {},
   "outputs": [],
   "source": [
    "#Make Prediction\n",
    "y2_prediction =  regr2.predict(X2_test)"
   ]
  },
  {
   "cell_type": "code",
   "execution_count": 31,
   "id": "83878859",
   "metadata": {},
   "outputs": [
    {
     "data": {
      "text/html": [
       "<div>\n",
       "<style scoped>\n",
       "    .dataframe tbody tr th:only-of-type {\n",
       "        vertical-align: middle;\n",
       "    }\n",
       "\n",
       "    .dataframe tbody tr th {\n",
       "        vertical-align: top;\n",
       "    }\n",
       "\n",
       "    .dataframe thead th {\n",
       "        text-align: right;\n",
       "    }\n",
       "</style>\n",
       "<table border=\"1\" class=\"dataframe\">\n",
       "  <thead>\n",
       "    <tr style=\"text-align: right;\">\n",
       "      <th></th>\n",
       "      <th>Real Values</th>\n",
       "      <th>Predicted Values</th>\n",
       "    </tr>\n",
       "    <tr>\n",
       "      <th>Id</th>\n",
       "      <th></th>\n",
       "      <th></th>\n",
       "    </tr>\n",
       "  </thead>\n",
       "  <tbody>\n",
       "    <tr>\n",
       "      <th>2013_ALASKA</th>\n",
       "      <td>247.00</td>\n",
       "      <td>251.343859</td>\n",
       "    </tr>\n",
       "    <tr>\n",
       "      <th>2011_NEW_MEXICO</th>\n",
       "      <td>242.75</td>\n",
       "      <td>250.455945</td>\n",
       "    </tr>\n",
       "    <tr>\n",
       "      <th>2013_MISSOURI</th>\n",
       "      <td>253.00</td>\n",
       "      <td>251.042551</td>\n",
       "    </tr>\n",
       "    <tr>\n",
       "      <th>2015_VERMONT</th>\n",
       "      <td>259.25</td>\n",
       "      <td>250.629656</td>\n",
       "    </tr>\n",
       "    <tr>\n",
       "      <th>2011_OHIO</th>\n",
       "      <td>256.25</td>\n",
       "      <td>250.090300</td>\n",
       "    </tr>\n",
       "  </tbody>\n",
       "</table>\n",
       "</div>"
      ],
      "text/plain": [
       "                 Real Values  Predicted Values\n",
       "Id                                            \n",
       "2013_ALASKA           247.00        251.343859\n",
       "2011_NEW_MEXICO       242.75        250.455945\n",
       "2013_MISSOURI         253.00        251.042551\n",
       "2015_VERMONT          259.25        250.629656\n",
       "2011_OHIO             256.25        250.090300"
      ]
     },
     "execution_count": 31,
     "metadata": {},
     "output_type": "execute_result"
>>>>>>> 7143184dc16d56cb96fc88b0ae882e6bec66492a
    }
   ],
   "source": [
    "#Comparing the Test Set with Predicted Values\n",
    "df_I = pd.DataFrame({'Real Values':y2_test, 'Predicted Values':y2_prediction})\n",
    "df_I.head()"
   ]
  },
  {
   "cell_type": "code",
<<<<<<< HEAD
   "execution_count": 29,
   "id": "071e26d4",
=======
   "execution_count": 32,
<<<<<<< HEAD
   "id": "e2afc34d",
>>>>>>> 551603f5f5f5334efc6877398839a2fa424a00bb
=======
   "id": "48f6f123",
   "metadata": {},
   "outputs": [
    {
     "data": {
      "text/plain": [
       "count    70.000000\n",
       "mean      4.457548\n",
       "std       2.901912\n",
       "min       0.058709\n",
       "25%       2.287675\n",
       "50%       3.902567\n",
       "75%       6.410207\n",
       "max      12.945285\n",
       "dtype: float64"
      ]
     },
     "execution_count": 32,
     "metadata": {},
     "output_type": "execute_result"
    }
   ],
   "source": [
    "#Finding range of Uncertainty\n",
    "df_I_errors = abs(df_R['Real Values'] - df_R['Predicted Values'])\n",
    "df_I_errors.describe()"
   ]
  },
  {
   "cell_type": "code",
   "execution_count": 33,
   "id": "6065d3a8",
>>>>>>> 7143184dc16d56cb96fc88b0ae882e6bec66492a
   "metadata": {},
   "outputs": [
    {
     "name": "stdout",
     "output_type": "stream",
     "text": [
      "R2 Value is -0.007779153100167413, Means Squared Error is 30.58424627365581\n"
     ]
    }
   ],
   "source": [
    "#Evaluating Regression Model\n",
    "from sklearn.metrics import mean_squared_error, r2_score\n",
    "\n",
    "r22 = r2_score(y2_test, y2_prediction)\n",
    "mse1 = mean_squared_error(y2_test, y2_prediction)\n",
    "\n",
    "print(f'R2 Value is {r22}, Means Squared Error is {mse1}')"
   ]
  },
  {
<<<<<<< HEAD
   "cell_type": "markdown",
<<<<<<< HEAD
   "id": "50d80bb4",
=======
   "id": "2535efd2",
>>>>>>> 551603f5f5f5334efc6877398839a2fa424a00bb
=======
   "cell_type": "code",
   "execution_count": 34,
   "id": "cc663929",
>>>>>>> 7143184dc16d56cb96fc88b0ae882e6bec66492a
   "metadata": {},
   "outputs": [
    {
     "name": "stdout",
     "output_type": "stream",
     "text": [
      "[25.58811683]\n",
      "238.0260931851712\n"
     ]
    }
   ],
   "source": [
    "#Finding slope and intercept\n",
    "print(regr2.coef_)\n",
    "print(regr2.intercept_)"
   ]
  },
  {
   "cell_type": "code",
<<<<<<< HEAD
<<<<<<< HEAD
   "execution_count": 30,
   "id": "a904a30e",
=======
   "execution_count": null,
   "id": "fbdd2afe",
>>>>>>> 551603f5f5f5334efc6877398839a2fa424a00bb
=======
   "execution_count": 35,
   "id": "6acb1a81",
>>>>>>> 7143184dc16d56cb96fc88b0ae882e6bec66492a
   "metadata": {},
   "outputs": [
    {
     "data": {
      "image/png": "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\n",
      "text/plain": [
       "<Figure size 648x432 with 1 Axes>"
      ]
     },
     "metadata": {
      "needs_background": "light"
     },
     "output_type": "display_data"
    }
   ],
   "source": [
    "# plotting the results\n",
    "m = np.round(regr2.coef_,2)\n",
    "b = np.round(regr2.intercept_,2)\n",
    "line = f' y = {m}x + {b}'\n",
    "rI = np.round(r22,2)\n",
    "\n",
    "plt.figure(figsize=(9,6))\n",
    "plt.scatter(X2_test, y2_test, color = 'red', label = 'Real Values')\n",
    "plt.scatter(X2_test, y2_prediction, color = 'green', label = 'Predicted Values')\n",
    "plt.plot(X2_train, regr2.predict(X2_train), color = 'black',\n",
    "         label= f'{line}, \\n r2 = {r2}')\n",
    "\n",
    "\n",
    "plt.title('Linear Regression of Instructional Expense', fontsize=22)\n",
    "plt.xlabel('Instructional Expense', fontsize=17)\n",
    "plt.ylabel('Average Test Scores', fontsize=17)\n",
    "plt.legend(fontsize=16)\n",
    "plt.show()"
   ]
  }
 ],
 "metadata": {
  "kernelspec": {
   "display_name": "mlenv",
   "language": "python",
   "name": "mlenv"
  },
  "language_info": {
   "codemirror_mode": {
    "name": "ipython",
    "version": 3
   },
   "file_extension": ".py",
   "mimetype": "text/x-python",
   "name": "python",
   "nbconvert_exporter": "python",
   "pygments_lexer": "ipython3",
   "version": "3.7.10"
  }
 },
 "nbformat": 4,
 "nbformat_minor": 5
}
