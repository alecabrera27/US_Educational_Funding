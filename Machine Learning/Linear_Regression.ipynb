{
 "cells": [
  {
   "cell_type": "code",
   "execution_count": 1,
   "id": "081f75a4",
   "metadata": {},
   "outputs": [],
   "source": [
    "#import decision regression tools:\n",
    "import pandas as pd\n",
    "import numpy as np\n",
    "import matplotlib.pyplot as plt\n",
    "from pathlib import Path\n",
    "from sklearn.preprocessing import MinMaxScaler\n",
    "from sklearn.model_selection import train_test_split\n",
    "from sklearn import linear_model\n",
    "\n",
    "# Python SQL toolkit and Object Relational Mapper\n",
    "import sqlalchemy\n",
    "from sqlalchemy.ext.automap import automap_base\n",
    "from sqlalchemy.orm import Session\n",
    "from sqlalchemy import create_engine, func, text\n",
    "import plotly.express as px\n",
    "import config"
   ]
  },
  {
   "cell_type": "code",
   "execution_count": 2,
   "id": "6d26761c",
   "metadata": {},
   "outputs": [
    {
     "name": "stderr",
     "output_type": "stream",
     "text": [
      "/Users/ericdally/opt/anaconda3/envs/mlenv/lib/python3.7/site-packages/psycopg2/__init__.py:144: UserWarning: The psycopg2 wheel package will be renamed from release 2.8; in order to keep installing from binary please use \"pip install psycopg2-binary\" instead. For details see: <http://initd.org/psycopg/docs/install.html#binary-install-from-pypi>.\n",
      "  \"\"\")\n"
     ]
    }
   ],
   "source": [
    "# create database engine\n",
    "db_url = f\"postgresql://{config.DB_USERNAME}:{config.DB_PASSWORD}@{config.DB_HOST}/{config.DB_NAME}\"\n",
    "engine = create_engine(db_url)"
   ]
  },
  {
   "cell_type": "code",
   "execution_count": 3,
   "id": "acdef407",
   "metadata": {},
   "outputs": [
    {
     "data": {
      "text/html": [
       "<div>\n",
       "<style scoped>\n",
       "    .dataframe tbody tr th:only-of-type {\n",
       "        vertical-align: middle;\n",
       "    }\n",
       "\n",
       "    .dataframe tbody tr th {\n",
       "        vertical-align: top;\n",
       "    }\n",
       "\n",
       "    .dataframe thead th {\n",
       "        text-align: right;\n",
       "    }\n",
       "</style>\n",
       "<table border=\"1\" class=\"dataframe\">\n",
       "  <thead>\n",
       "    <tr style=\"text-align: right;\">\n",
       "      <th></th>\n",
       "      <th>State</th>\n",
       "      <th>Year</th>\n",
       "      <th>Enrolled</th>\n",
       "      <th>TotalRevenue</th>\n",
       "      <th>FederalRevenue</th>\n",
       "      <th>StateRevenue</th>\n",
       "      <th>LocalRevenue</th>\n",
       "      <th>TotalExpenditure</th>\n",
       "      <th>InstructionExpenditure</th>\n",
       "      <th>SupportServicesExpenditure</th>\n",
       "      <th>...</th>\n",
       "      <th>AvgMath4Score</th>\n",
       "      <th>AvgMath8Score</th>\n",
       "      <th>AvgReading4Score</th>\n",
       "      <th>AvgReading8Score</th>\n",
       "      <th>RecordId</th>\n",
       "      <th>FederalFundingPercent</th>\n",
       "      <th>StateFundingPercent</th>\n",
       "      <th>LocalFundingPercent</th>\n",
       "      <th>RevenuePerStudent</th>\n",
       "      <th>InstructionalExpensePercent</th>\n",
       "    </tr>\n",
       "    <tr>\n",
       "      <th>Id</th>\n",
       "      <th></th>\n",
       "      <th></th>\n",
       "      <th></th>\n",
       "      <th></th>\n",
       "      <th></th>\n",
       "      <th></th>\n",
       "      <th></th>\n",
       "      <th></th>\n",
       "      <th></th>\n",
       "      <th></th>\n",
       "      <th></th>\n",
       "      <th></th>\n",
       "      <th></th>\n",
       "      <th></th>\n",
       "      <th></th>\n",
       "      <th></th>\n",
       "      <th></th>\n",
       "      <th></th>\n",
       "      <th></th>\n",
       "      <th></th>\n",
       "      <th></th>\n",
       "    </tr>\n",
       "  </thead>\n",
       "  <tbody>\n",
       "    <tr>\n",
       "      <th>2003_ALABAMA</th>\n",
       "      <td>ALABAMA</td>\n",
       "      <td>2003</td>\n",
       "      <td>727900.0</td>\n",
       "      <td>5196054.0</td>\n",
       "      <td>567704.0</td>\n",
       "      <td>2966981.0</td>\n",
       "      <td>1661369.0</td>\n",
       "      <td>5298932.0</td>\n",
       "      <td>2817111.0</td>\n",
       "      <td>1521462.0</td>\n",
       "      <td>...</td>\n",
       "      <td>223.0</td>\n",
       "      <td>262.0</td>\n",
       "      <td>207.0</td>\n",
       "      <td>253.0</td>\n",
       "      <td>2003_ALABAMA</td>\n",
       "      <td>0.109257</td>\n",
       "      <td>0.571007</td>\n",
       "      <td>0.319737</td>\n",
       "      <td>7.138417</td>\n",
       "      <td>0.542164</td>\n",
       "    </tr>\n",
       "    <tr>\n",
       "      <th>2003_ALASKA</th>\n",
       "      <td>ALASKA</td>\n",
       "      <td>2003</td>\n",
       "      <td>133303.0</td>\n",
       "      <td>1425948.0</td>\n",
       "      <td>259423.0</td>\n",
       "      <td>813371.0</td>\n",
       "      <td>353154.0</td>\n",
       "      <td>1610289.0</td>\n",
       "      <td>763525.0</td>\n",
       "      <td>514052.0</td>\n",
       "      <td>...</td>\n",
       "      <td>233.0</td>\n",
       "      <td>279.0</td>\n",
       "      <td>212.0</td>\n",
       "      <td>256.0</td>\n",
       "      <td>2003_ALASKA</td>\n",
       "      <td>0.181930</td>\n",
       "      <td>0.570407</td>\n",
       "      <td>0.247663</td>\n",
       "      <td>10.697044</td>\n",
       "      <td>0.535451</td>\n",
       "    </tr>\n",
       "    <tr>\n",
       "      <th>2003_ARIZONA</th>\n",
       "      <td>ARIZONA</td>\n",
       "      <td>2003</td>\n",
       "      <td>875111.0</td>\n",
       "      <td>6529894.0</td>\n",
       "      <td>740579.0</td>\n",
       "      <td>2912629.0</td>\n",
       "      <td>2876686.0</td>\n",
       "      <td>6210287.0</td>\n",
       "      <td>2810907.0</td>\n",
       "      <td>1964229.0</td>\n",
       "      <td>...</td>\n",
       "      <td>229.0</td>\n",
       "      <td>271.0</td>\n",
       "      <td>209.0</td>\n",
       "      <td>255.0</td>\n",
       "      <td>2003_ARIZONA</td>\n",
       "      <td>0.113414</td>\n",
       "      <td>0.446045</td>\n",
       "      <td>0.440541</td>\n",
       "      <td>7.461789</td>\n",
       "      <td>0.430467</td>\n",
       "    </tr>\n",
       "    <tr>\n",
       "      <th>2003_ARKANSAS</th>\n",
       "      <td>ARKANSAS</td>\n",
       "      <td>2003</td>\n",
       "      <td>450158.0</td>\n",
       "      <td>3241275.0</td>\n",
       "      <td>379947.0</td>\n",
       "      <td>2394336.0</td>\n",
       "      <td>466992.0</td>\n",
       "      <td>3242799.0</td>\n",
       "      <td>1768713.0</td>\n",
       "      <td>972598.0</td>\n",
       "      <td>...</td>\n",
       "      <td>229.0</td>\n",
       "      <td>266.0</td>\n",
       "      <td>214.0</td>\n",
       "      <td>258.0</td>\n",
       "      <td>2003_ARKANSAS</td>\n",
       "      <td>0.117221</td>\n",
       "      <td>0.738702</td>\n",
       "      <td>0.144077</td>\n",
       "      <td>7.200305</td>\n",
       "      <td>0.545684</td>\n",
       "    </tr>\n",
       "    <tr>\n",
       "      <th>2003_CALIFORNIA</th>\n",
       "      <td>CALIFORNIA</td>\n",
       "      <td>2003</td>\n",
       "      <td>6226552.0</td>\n",
       "      <td>59815855.0</td>\n",
       "      <td>5795655.0</td>\n",
       "      <td>33617766.0</td>\n",
       "      <td>20402434.0</td>\n",
       "      <td>59749885.0</td>\n",
       "      <td>29561563.0</td>\n",
       "      <td>17030335.0</td>\n",
       "      <td>...</td>\n",
       "      <td>227.0</td>\n",
       "      <td>267.0</td>\n",
       "      <td>206.0</td>\n",
       "      <td>251.0</td>\n",
       "      <td>2003_CALIFORNIA</td>\n",
       "      <td>0.096892</td>\n",
       "      <td>0.562021</td>\n",
       "      <td>0.341087</td>\n",
       "      <td>9.606578</td>\n",
       "      <td>0.494209</td>\n",
       "    </tr>\n",
       "    <tr>\n",
       "      <th>...</th>\n",
       "      <td>...</td>\n",
       "      <td>...</td>\n",
       "      <td>...</td>\n",
       "      <td>...</td>\n",
       "      <td>...</td>\n",
       "      <td>...</td>\n",
       "      <td>...</td>\n",
       "      <td>...</td>\n",
       "      <td>...</td>\n",
       "      <td>...</td>\n",
       "      <td>...</td>\n",
       "      <td>...</td>\n",
       "      <td>...</td>\n",
       "      <td>...</td>\n",
       "      <td>...</td>\n",
       "      <td>...</td>\n",
       "      <td>...</td>\n",
       "      <td>...</td>\n",
       "      <td>...</td>\n",
       "      <td>...</td>\n",
       "      <td>...</td>\n",
       "    </tr>\n",
       "    <tr>\n",
       "      <th>2015_VIRGINIA</th>\n",
       "      <td>VIRGINIA</td>\n",
       "      <td>2015</td>\n",
       "      <td>1279867.0</td>\n",
       "      <td>15857524.0</td>\n",
       "      <td>1012205.0</td>\n",
       "      <td>6240349.0</td>\n",
       "      <td>8604970.0</td>\n",
       "      <td>16113212.0</td>\n",
       "      <td>8755896.0</td>\n",
       "      <td>5075509.0</td>\n",
       "      <td>...</td>\n",
       "      <td>247.0</td>\n",
       "      <td>288.0</td>\n",
       "      <td>229.0</td>\n",
       "      <td>267.0</td>\n",
       "      <td>2015_VIRGINIA</td>\n",
       "      <td>0.063831</td>\n",
       "      <td>0.393526</td>\n",
       "      <td>0.542643</td>\n",
       "      <td>12.389978</td>\n",
       "      <td>0.552160</td>\n",
       "    </tr>\n",
       "    <tr>\n",
       "      <th>2015_WASHINGTON</th>\n",
       "      <td>WASHINGTON</td>\n",
       "      <td>2015</td>\n",
       "      <td>1072359.0</td>\n",
       "      <td>13709442.0</td>\n",
       "      <td>1036422.0</td>\n",
       "      <td>8293812.0</td>\n",
       "      <td>4379208.0</td>\n",
       "      <td>13630138.0</td>\n",
       "      <td>6508964.0</td>\n",
       "      <td>4510672.0</td>\n",
       "      <td>...</td>\n",
       "      <td>245.0</td>\n",
       "      <td>287.0</td>\n",
       "      <td>226.0</td>\n",
       "      <td>267.0</td>\n",
       "      <td>2015_WASHINGTON</td>\n",
       "      <td>0.075599</td>\n",
       "      <td>0.604971</td>\n",
       "      <td>0.319430</td>\n",
       "      <td>12.784377</td>\n",
       "      <td>0.474780</td>\n",
       "    </tr>\n",
       "    <tr>\n",
       "      <th>2015_WEST_VIRGINIA</th>\n",
       "      <td>WEST_VIRGINIA</td>\n",
       "      <td>2015</td>\n",
       "      <td>279565.0</td>\n",
       "      <td>3478401.0</td>\n",
       "      <td>362959.0</td>\n",
       "      <td>1979466.0</td>\n",
       "      <td>1135976.0</td>\n",
       "      <td>3466981.0</td>\n",
       "      <td>1819903.0</td>\n",
       "      <td>1161944.0</td>\n",
       "      <td>...</td>\n",
       "      <td>235.0</td>\n",
       "      <td>271.0</td>\n",
       "      <td>216.0</td>\n",
       "      <td>260.0</td>\n",
       "      <td>2015_WEST_VIRGINIA</td>\n",
       "      <td>0.104347</td>\n",
       "      <td>0.569074</td>\n",
       "      <td>0.326580</td>\n",
       "      <td>12.442191</td>\n",
       "      <td>0.523201</td>\n",
       "    </tr>\n",
       "    <tr>\n",
       "      <th>2015_WISCONSIN</th>\n",
       "      <td>WISCONSIN</td>\n",
       "      <td>2015</td>\n",
       "      <td>861813.0</td>\n",
       "      <td>11637376.0</td>\n",
       "      <td>814385.0</td>\n",
       "      <td>5869265.0</td>\n",
       "      <td>4953726.0</td>\n",
       "      <td>11553677.0</td>\n",
       "      <td>5723474.0</td>\n",
       "      <td>3691809.0</td>\n",
       "      <td>...</td>\n",
       "      <td>243.0</td>\n",
       "      <td>289.0</td>\n",
       "      <td>223.0</td>\n",
       "      <td>270.0</td>\n",
       "      <td>2015_WISCONSIN</td>\n",
       "      <td>0.069980</td>\n",
       "      <td>0.504346</td>\n",
       "      <td>0.425674</td>\n",
       "      <td>13.503366</td>\n",
       "      <td>0.491818</td>\n",
       "    </tr>\n",
       "    <tr>\n",
       "      <th>2015_WYOMING</th>\n",
       "      <td>WYOMING</td>\n",
       "      <td>2015</td>\n",
       "      <td>93867.0</td>\n",
       "      <td>1962874.0</td>\n",
       "      <td>120290.0</td>\n",
       "      <td>1116917.0</td>\n",
       "      <td>725667.0</td>\n",
       "      <td>1942406.0</td>\n",
       "      <td>895910.0</td>\n",
       "      <td>565489.0</td>\n",
       "      <td>...</td>\n",
       "      <td>247.0</td>\n",
       "      <td>287.0</td>\n",
       "      <td>228.0</td>\n",
       "      <td>269.0</td>\n",
       "      <td>2015_WYOMING</td>\n",
       "      <td>0.061283</td>\n",
       "      <td>0.569021</td>\n",
       "      <td>0.369696</td>\n",
       "      <td>20.911225</td>\n",
       "      <td>0.456428</td>\n",
       "    </tr>\n",
       "  </tbody>\n",
       "</table>\n",
       "<p>357 rows × 22 columns</p>\n",
       "</div>"
      ],
      "text/plain": [
       "                            State  Year   Enrolled  TotalRevenue  \\\n",
       "Id                                                                 \n",
       "2003_ALABAMA              ALABAMA  2003   727900.0     5196054.0   \n",
       "2003_ALASKA                ALASKA  2003   133303.0     1425948.0   \n",
       "2003_ARIZONA              ARIZONA  2003   875111.0     6529894.0   \n",
       "2003_ARKANSAS            ARKANSAS  2003   450158.0     3241275.0   \n",
       "2003_CALIFORNIA        CALIFORNIA  2003  6226552.0    59815855.0   \n",
       "...                           ...   ...        ...           ...   \n",
       "2015_VIRGINIA            VIRGINIA  2015  1279867.0    15857524.0   \n",
       "2015_WASHINGTON        WASHINGTON  2015  1072359.0    13709442.0   \n",
       "2015_WEST_VIRGINIA  WEST_VIRGINIA  2015   279565.0     3478401.0   \n",
       "2015_WISCONSIN          WISCONSIN  2015   861813.0    11637376.0   \n",
       "2015_WYOMING              WYOMING  2015    93867.0     1962874.0   \n",
       "\n",
       "                    FederalRevenue  StateRevenue  LocalRevenue  \\\n",
       "Id                                                               \n",
       "2003_ALABAMA              567704.0     2966981.0     1661369.0   \n",
       "2003_ALASKA               259423.0      813371.0      353154.0   \n",
       "2003_ARIZONA              740579.0     2912629.0     2876686.0   \n",
       "2003_ARKANSAS             379947.0     2394336.0      466992.0   \n",
       "2003_CALIFORNIA          5795655.0    33617766.0    20402434.0   \n",
       "...                            ...           ...           ...   \n",
       "2015_VIRGINIA            1012205.0     6240349.0     8604970.0   \n",
       "2015_WASHINGTON          1036422.0     8293812.0     4379208.0   \n",
       "2015_WEST_VIRGINIA        362959.0     1979466.0     1135976.0   \n",
       "2015_WISCONSIN            814385.0     5869265.0     4953726.0   \n",
       "2015_WYOMING              120290.0     1116917.0      725667.0   \n",
       "\n",
       "                    TotalExpenditure  InstructionExpenditure  \\\n",
       "Id                                                             \n",
       "2003_ALABAMA               5298932.0               2817111.0   \n",
       "2003_ALASKA                1610289.0                763525.0   \n",
       "2003_ARIZONA               6210287.0               2810907.0   \n",
       "2003_ARKANSAS              3242799.0               1768713.0   \n",
       "2003_CALIFORNIA           59749885.0              29561563.0   \n",
       "...                              ...                     ...   \n",
       "2015_VIRGINIA             16113212.0               8755896.0   \n",
       "2015_WASHINGTON           13630138.0               6508964.0   \n",
       "2015_WEST_VIRGINIA         3466981.0               1819903.0   \n",
       "2015_WISCONSIN            11553677.0               5723474.0   \n",
       "2015_WYOMING               1942406.0                895910.0   \n",
       "\n",
       "                    SupportServicesExpenditure  ...  AvgMath4Score  \\\n",
       "Id                                              ...                  \n",
       "2003_ALABAMA                         1521462.0  ...          223.0   \n",
       "2003_ALASKA                           514052.0  ...          233.0   \n",
       "2003_ARIZONA                         1964229.0  ...          229.0   \n",
       "2003_ARKANSAS                         972598.0  ...          229.0   \n",
       "2003_CALIFORNIA                     17030335.0  ...          227.0   \n",
       "...                                        ...  ...            ...   \n",
       "2015_VIRGINIA                        5075509.0  ...          247.0   \n",
       "2015_WASHINGTON                      4510672.0  ...          245.0   \n",
       "2015_WEST_VIRGINIA                   1161944.0  ...          235.0   \n",
       "2015_WISCONSIN                       3691809.0  ...          243.0   \n",
       "2015_WYOMING                          565489.0  ...          247.0   \n",
       "\n",
       "                    AvgMath8Score  AvgReading4Score  AvgReading8Score  \\\n",
       "Id                                                                      \n",
       "2003_ALABAMA                262.0             207.0             253.0   \n",
       "2003_ALASKA                 279.0             212.0             256.0   \n",
       "2003_ARIZONA                271.0             209.0             255.0   \n",
       "2003_ARKANSAS               266.0             214.0             258.0   \n",
       "2003_CALIFORNIA             267.0             206.0             251.0   \n",
       "...                           ...               ...               ...   \n",
       "2015_VIRGINIA               288.0             229.0             267.0   \n",
       "2015_WASHINGTON             287.0             226.0             267.0   \n",
       "2015_WEST_VIRGINIA          271.0             216.0             260.0   \n",
       "2015_WISCONSIN              289.0             223.0             270.0   \n",
       "2015_WYOMING                287.0             228.0             269.0   \n",
       "\n",
       "                              RecordId  FederalFundingPercent  \\\n",
       "Id                                                              \n",
       "2003_ALABAMA              2003_ALABAMA               0.109257   \n",
       "2003_ALASKA                2003_ALASKA               0.181930   \n",
       "2003_ARIZONA              2003_ARIZONA               0.113414   \n",
       "2003_ARKANSAS            2003_ARKANSAS               0.117221   \n",
       "2003_CALIFORNIA        2003_CALIFORNIA               0.096892   \n",
       "...                                ...                    ...   \n",
       "2015_VIRGINIA            2015_VIRGINIA               0.063831   \n",
       "2015_WASHINGTON        2015_WASHINGTON               0.075599   \n",
       "2015_WEST_VIRGINIA  2015_WEST_VIRGINIA               0.104347   \n",
       "2015_WISCONSIN          2015_WISCONSIN               0.069980   \n",
       "2015_WYOMING              2015_WYOMING               0.061283   \n",
       "\n",
       "                   StateFundingPercent  LocalFundingPercent  \\\n",
       "Id                                                            \n",
       "2003_ALABAMA                  0.571007             0.319737   \n",
       "2003_ALASKA                   0.570407             0.247663   \n",
       "2003_ARIZONA                  0.446045             0.440541   \n",
       "2003_ARKANSAS                 0.738702             0.144077   \n",
       "2003_CALIFORNIA               0.562021             0.341087   \n",
       "...                                ...                  ...   \n",
       "2015_VIRGINIA                 0.393526             0.542643   \n",
       "2015_WASHINGTON               0.604971             0.319430   \n",
       "2015_WEST_VIRGINIA            0.569074             0.326580   \n",
       "2015_WISCONSIN                0.504346             0.425674   \n",
       "2015_WYOMING                  0.569021             0.369696   \n",
       "\n",
       "                    RevenuePerStudent  InstructionalExpensePercent  \n",
       "Id                                                                  \n",
       "2003_ALABAMA                 7.138417                     0.542164  \n",
       "2003_ALASKA                 10.697044                     0.535451  \n",
       "2003_ARIZONA                 7.461789                     0.430467  \n",
       "2003_ARKANSAS                7.200305                     0.545684  \n",
       "2003_CALIFORNIA              9.606578                     0.494209  \n",
       "...                               ...                          ...  \n",
       "2015_VIRGINIA               12.389978                     0.552160  \n",
       "2015_WASHINGTON             12.784377                     0.474780  \n",
       "2015_WEST_VIRGINIA          12.442191                     0.523201  \n",
       "2015_WISCONSIN              13.503366                     0.491818  \n",
       "2015_WYOMING                20.911225                     0.456428  \n",
       "\n",
       "[357 rows x 22 columns]"
      ]
     },
     "execution_count": 3,
     "metadata": {},
     "output_type": "execute_result"
    }
   ],
   "source": [
    "# load all the data into a datafame by joining the tables\n",
    "query = text('''\n",
    "Select * \n",
    "FROM \"RawRecords\" as r\n",
    "JOIN \"CalculatedStats\" AS cs ON cs.\"RecordId\"=r.\"Id\";\n",
    "''')\n",
    "df = pd.read_sql_query(query,con=engine)\n",
    "df.set_index('Id', inplace=True)\n",
    "df"
   ]
  },
  {
   "cell_type": "markdown",
   "id": "465a5e76",
   "metadata": {},
   "source": [
    "## Tweaking Database"
   ]
  },
  {
   "cell_type": "code",
   "execution_count": 4,
   "id": "e0d64929",
   "metadata": {},
   "outputs": [
    {
     "data": {
      "text/html": [
       "<div>\n",
       "<style scoped>\n",
       "    .dataframe tbody tr th:only-of-type {\n",
       "        vertical-align: middle;\n",
       "    }\n",
       "\n",
       "    .dataframe tbody tr th {\n",
       "        vertical-align: top;\n",
       "    }\n",
       "\n",
       "    .dataframe thead th {\n",
       "        text-align: right;\n",
       "    }\n",
       "</style>\n",
       "<table border=\"1\" class=\"dataframe\">\n",
       "  <thead>\n",
       "    <tr style=\"text-align: right;\">\n",
       "      <th></th>\n",
       "      <th>AvgMath4Score</th>\n",
       "      <th>AvgMath8Score</th>\n",
       "      <th>AvgReading4Score</th>\n",
       "      <th>AvgReading8Score</th>\n",
       "      <th>FederalFundingPercent</th>\n",
       "      <th>StateFundingPercent</th>\n",
       "      <th>LocalFundingPercent</th>\n",
       "      <th>RevenuePerStudent</th>\n",
       "      <th>InstructionalExpensePercent</th>\n",
       "    </tr>\n",
       "    <tr>\n",
       "      <th>Id</th>\n",
       "      <th></th>\n",
       "      <th></th>\n",
       "      <th></th>\n",
       "      <th></th>\n",
       "      <th></th>\n",
       "      <th></th>\n",
       "      <th></th>\n",
       "      <th></th>\n",
       "      <th></th>\n",
       "    </tr>\n",
       "  </thead>\n",
       "  <tbody>\n",
       "    <tr>\n",
       "      <th>2003_ALABAMA</th>\n",
       "      <td>223.0</td>\n",
       "      <td>262.0</td>\n",
       "      <td>207.0</td>\n",
       "      <td>253.0</td>\n",
       "      <td>0.109257</td>\n",
       "      <td>0.571007</td>\n",
       "      <td>0.319737</td>\n",
       "      <td>7.138417</td>\n",
       "      <td>0.542164</td>\n",
       "    </tr>\n",
       "    <tr>\n",
       "      <th>2003_ALASKA</th>\n",
       "      <td>233.0</td>\n",
       "      <td>279.0</td>\n",
       "      <td>212.0</td>\n",
       "      <td>256.0</td>\n",
       "      <td>0.181930</td>\n",
       "      <td>0.570407</td>\n",
       "      <td>0.247663</td>\n",
       "      <td>10.697044</td>\n",
       "      <td>0.535451</td>\n",
       "    </tr>\n",
       "    <tr>\n",
       "      <th>2003_ARIZONA</th>\n",
       "      <td>229.0</td>\n",
       "      <td>271.0</td>\n",
       "      <td>209.0</td>\n",
       "      <td>255.0</td>\n",
       "      <td>0.113414</td>\n",
       "      <td>0.446045</td>\n",
       "      <td>0.440541</td>\n",
       "      <td>7.461789</td>\n",
       "      <td>0.430467</td>\n",
       "    </tr>\n",
       "    <tr>\n",
       "      <th>2003_ARKANSAS</th>\n",
       "      <td>229.0</td>\n",
       "      <td>266.0</td>\n",
       "      <td>214.0</td>\n",
       "      <td>258.0</td>\n",
       "      <td>0.117221</td>\n",
       "      <td>0.738702</td>\n",
       "      <td>0.144077</td>\n",
       "      <td>7.200305</td>\n",
       "      <td>0.545684</td>\n",
       "    </tr>\n",
       "    <tr>\n",
       "      <th>2003_CALIFORNIA</th>\n",
       "      <td>227.0</td>\n",
       "      <td>267.0</td>\n",
       "      <td>206.0</td>\n",
       "      <td>251.0</td>\n",
       "      <td>0.096892</td>\n",
       "      <td>0.562021</td>\n",
       "      <td>0.341087</td>\n",
       "      <td>9.606578</td>\n",
       "      <td>0.494209</td>\n",
       "    </tr>\n",
       "    <tr>\n",
       "      <th>...</th>\n",
       "      <td>...</td>\n",
       "      <td>...</td>\n",
       "      <td>...</td>\n",
       "      <td>...</td>\n",
       "      <td>...</td>\n",
       "      <td>...</td>\n",
       "      <td>...</td>\n",
       "      <td>...</td>\n",
       "      <td>...</td>\n",
       "    </tr>\n",
       "    <tr>\n",
       "      <th>2015_VIRGINIA</th>\n",
       "      <td>247.0</td>\n",
       "      <td>288.0</td>\n",
       "      <td>229.0</td>\n",
       "      <td>267.0</td>\n",
       "      <td>0.063831</td>\n",
       "      <td>0.393526</td>\n",
       "      <td>0.542643</td>\n",
       "      <td>12.389978</td>\n",
       "      <td>0.552160</td>\n",
       "    </tr>\n",
       "    <tr>\n",
       "      <th>2015_WASHINGTON</th>\n",
       "      <td>245.0</td>\n",
       "      <td>287.0</td>\n",
       "      <td>226.0</td>\n",
       "      <td>267.0</td>\n",
       "      <td>0.075599</td>\n",
       "      <td>0.604971</td>\n",
       "      <td>0.319430</td>\n",
       "      <td>12.784377</td>\n",
       "      <td>0.474780</td>\n",
       "    </tr>\n",
       "    <tr>\n",
       "      <th>2015_WEST_VIRGINIA</th>\n",
       "      <td>235.0</td>\n",
       "      <td>271.0</td>\n",
       "      <td>216.0</td>\n",
       "      <td>260.0</td>\n",
       "      <td>0.104347</td>\n",
       "      <td>0.569074</td>\n",
       "      <td>0.326580</td>\n",
       "      <td>12.442191</td>\n",
       "      <td>0.523201</td>\n",
       "    </tr>\n",
       "    <tr>\n",
       "      <th>2015_WISCONSIN</th>\n",
       "      <td>243.0</td>\n",
       "      <td>289.0</td>\n",
       "      <td>223.0</td>\n",
       "      <td>270.0</td>\n",
       "      <td>0.069980</td>\n",
       "      <td>0.504346</td>\n",
       "      <td>0.425674</td>\n",
       "      <td>13.503366</td>\n",
       "      <td>0.491818</td>\n",
       "    </tr>\n",
       "    <tr>\n",
       "      <th>2015_WYOMING</th>\n",
       "      <td>247.0</td>\n",
       "      <td>287.0</td>\n",
       "      <td>228.0</td>\n",
       "      <td>269.0</td>\n",
       "      <td>0.061283</td>\n",
       "      <td>0.569021</td>\n",
       "      <td>0.369696</td>\n",
       "      <td>20.911225</td>\n",
       "      <td>0.456428</td>\n",
       "    </tr>\n",
       "  </tbody>\n",
       "</table>\n",
       "<p>357 rows × 9 columns</p>\n",
       "</div>"
      ],
      "text/plain": [
       "                    AvgMath4Score  AvgMath8Score  AvgReading4Score  \\\n",
       "Id                                                                   \n",
       "2003_ALABAMA                223.0          262.0             207.0   \n",
       "2003_ALASKA                 233.0          279.0             212.0   \n",
       "2003_ARIZONA                229.0          271.0             209.0   \n",
       "2003_ARKANSAS               229.0          266.0             214.0   \n",
       "2003_CALIFORNIA             227.0          267.0             206.0   \n",
       "...                           ...            ...               ...   \n",
       "2015_VIRGINIA               247.0          288.0             229.0   \n",
       "2015_WASHINGTON             245.0          287.0             226.0   \n",
       "2015_WEST_VIRGINIA          235.0          271.0             216.0   \n",
       "2015_WISCONSIN              243.0          289.0             223.0   \n",
       "2015_WYOMING                247.0          287.0             228.0   \n",
       "\n",
       "                    AvgReading8Score  FederalFundingPercent  \\\n",
       "Id                                                            \n",
       "2003_ALABAMA                   253.0               0.109257   \n",
       "2003_ALASKA                    256.0               0.181930   \n",
       "2003_ARIZONA                   255.0               0.113414   \n",
       "2003_ARKANSAS                  258.0               0.117221   \n",
       "2003_CALIFORNIA                251.0               0.096892   \n",
       "...                              ...                    ...   \n",
       "2015_VIRGINIA                  267.0               0.063831   \n",
       "2015_WASHINGTON                267.0               0.075599   \n",
       "2015_WEST_VIRGINIA             260.0               0.104347   \n",
       "2015_WISCONSIN                 270.0               0.069980   \n",
       "2015_WYOMING                   269.0               0.061283   \n",
       "\n",
       "                    StateFundingPercent  LocalFundingPercent  \\\n",
       "Id                                                             \n",
       "2003_ALABAMA                   0.571007             0.319737   \n",
       "2003_ALASKA                    0.570407             0.247663   \n",
       "2003_ARIZONA                   0.446045             0.440541   \n",
       "2003_ARKANSAS                  0.738702             0.144077   \n",
       "2003_CALIFORNIA                0.562021             0.341087   \n",
       "...                                 ...                  ...   \n",
       "2015_VIRGINIA                  0.393526             0.542643   \n",
       "2015_WASHINGTON                0.604971             0.319430   \n",
       "2015_WEST_VIRGINIA             0.569074             0.326580   \n",
       "2015_WISCONSIN                 0.504346             0.425674   \n",
       "2015_WYOMING                   0.569021             0.369696   \n",
       "\n",
       "                    RevenuePerStudent  InstructionalExpensePercent  \n",
       "Id                                                                  \n",
       "2003_ALABAMA                 7.138417                     0.542164  \n",
       "2003_ALASKA                 10.697044                     0.535451  \n",
       "2003_ARIZONA                 7.461789                     0.430467  \n",
       "2003_ARKANSAS                7.200305                     0.545684  \n",
       "2003_CALIFORNIA              9.606578                     0.494209  \n",
       "...                               ...                          ...  \n",
       "2015_VIRGINIA               12.389978                     0.552160  \n",
       "2015_WASHINGTON             12.784377                     0.474780  \n",
       "2015_WEST_VIRGINIA          12.442191                     0.523201  \n",
       "2015_WISCONSIN              13.503366                     0.491818  \n",
       "2015_WYOMING                20.911225                     0.456428  \n",
       "\n",
       "[357 rows x 9 columns]"
      ]
     },
     "execution_count": 4,
     "metadata": {},
     "output_type": "execute_result"
    }
   ],
   "source": [
    "model_df = df[[\n",
    "    \"AvgMath4Score\",\n",
    "    \"AvgMath8Score\",\n",
    "    \"AvgReading4Score\",\n",
    "    \"AvgReading8Score\",\n",
    "    \"FederalFundingPercent\",\n",
    "    \"StateFundingPercent\",\n",
    "    \"LocalFundingPercent\",\n",
    "    \"RevenuePerStudent\",\n",
    "    \"InstructionalExpensePercent\"\n",
    "]]\n",
    "model_df.index = df.index\n",
    "model_df"
   ]
  },
  {
   "cell_type": "code",
   "execution_count": 5,
   "id": "fb21c81e",
   "metadata": {},
   "outputs": [
    {
     "data": {
      "text/plain": [
       "(350, 22)"
      ]
     },
     "execution_count": 5,
     "metadata": {},
     "output_type": "execute_result"
    }
   ],
   "source": [
    "#dropping DISTRICT_OF_COLUMBIA data\n",
    "df = df.loc[df['State'] != 'DISTRICT_OF_COLUMBIA']\n",
    "df.shape"
   ]
  },
  {
   "cell_type": "code",
   "execution_count": 6,
   "id": "7033e4e5",
   "metadata": {},
   "outputs": [
    {
     "name": "stderr",
     "output_type": "stream",
     "text": [
      "/Users/ericdally/opt/anaconda3/envs/mlenv/lib/python3.7/site-packages/ipykernel_launcher.py:3: SettingWithCopyWarning: \n",
      "A value is trying to be set on a copy of a slice from a DataFrame.\n",
      "Try using .loc[row_indexer,col_indexer] = value instead\n",
      "\n",
      "See the caveats in the documentation: https://pandas.pydata.org/pandas-docs/stable/user_guide/indexing.html#returning-a-view-versus-a-copy\n",
      "  This is separate from the ipykernel package so we can avoid doing imports until\n"
     ]
    },
    {
     "data": {
      "text/html": [
       "<div>\n",
       "<style scoped>\n",
       "    .dataframe tbody tr th:only-of-type {\n",
       "        vertical-align: middle;\n",
       "    }\n",
       "\n",
       "    .dataframe tbody tr th {\n",
       "        vertical-align: top;\n",
       "    }\n",
       "\n",
       "    .dataframe thead th {\n",
       "        text-align: right;\n",
       "    }\n",
       "</style>\n",
       "<table border=\"1\" class=\"dataframe\">\n",
       "  <thead>\n",
       "    <tr style=\"text-align: right;\">\n",
       "      <th></th>\n",
       "      <th>State</th>\n",
       "      <th>Year</th>\n",
       "      <th>Enrolled</th>\n",
       "      <th>TotalRevenue</th>\n",
       "      <th>FederalRevenue</th>\n",
       "      <th>StateRevenue</th>\n",
       "      <th>LocalRevenue</th>\n",
       "      <th>TotalExpenditure</th>\n",
       "      <th>InstructionExpenditure</th>\n",
       "      <th>SupportServicesExpenditure</th>\n",
       "      <th>...</th>\n",
       "      <th>AvgMath8Score</th>\n",
       "      <th>AvgReading4Score</th>\n",
       "      <th>AvgReading8Score</th>\n",
       "      <th>RecordId</th>\n",
       "      <th>FederalFundingPercent</th>\n",
       "      <th>StateFundingPercent</th>\n",
       "      <th>LocalFundingPercent</th>\n",
       "      <th>RevenuePerStudent</th>\n",
       "      <th>InstructionalExpensePercent</th>\n",
       "      <th>Avg Score</th>\n",
       "    </tr>\n",
       "    <tr>\n",
       "      <th>Id</th>\n",
       "      <th></th>\n",
       "      <th></th>\n",
       "      <th></th>\n",
       "      <th></th>\n",
       "      <th></th>\n",
       "      <th></th>\n",
       "      <th></th>\n",
       "      <th></th>\n",
       "      <th></th>\n",
       "      <th></th>\n",
       "      <th></th>\n",
       "      <th></th>\n",
       "      <th></th>\n",
       "      <th></th>\n",
       "      <th></th>\n",
       "      <th></th>\n",
       "      <th></th>\n",
       "      <th></th>\n",
       "      <th></th>\n",
       "      <th></th>\n",
       "      <th></th>\n",
       "    </tr>\n",
       "  </thead>\n",
       "  <tbody>\n",
       "    <tr>\n",
       "      <th>2003_ALABAMA</th>\n",
       "      <td>ALABAMA</td>\n",
       "      <td>2003</td>\n",
       "      <td>727900.0</td>\n",
       "      <td>5196054.0</td>\n",
       "      <td>567704.0</td>\n",
       "      <td>2966981.0</td>\n",
       "      <td>1661369.0</td>\n",
       "      <td>5298932.0</td>\n",
       "      <td>2817111.0</td>\n",
       "      <td>1521462.0</td>\n",
       "      <td>...</td>\n",
       "      <td>262.0</td>\n",
       "      <td>207.0</td>\n",
       "      <td>253.0</td>\n",
       "      <td>2003_ALABAMA</td>\n",
       "      <td>0.109257</td>\n",
       "      <td>0.571007</td>\n",
       "      <td>0.319737</td>\n",
       "      <td>7.138417</td>\n",
       "      <td>0.542164</td>\n",
       "      <td>236.25</td>\n",
       "    </tr>\n",
       "    <tr>\n",
       "      <th>2003_ALASKA</th>\n",
       "      <td>ALASKA</td>\n",
       "      <td>2003</td>\n",
       "      <td>133303.0</td>\n",
       "      <td>1425948.0</td>\n",
       "      <td>259423.0</td>\n",
       "      <td>813371.0</td>\n",
       "      <td>353154.0</td>\n",
       "      <td>1610289.0</td>\n",
       "      <td>763525.0</td>\n",
       "      <td>514052.0</td>\n",
       "      <td>...</td>\n",
       "      <td>279.0</td>\n",
       "      <td>212.0</td>\n",
       "      <td>256.0</td>\n",
       "      <td>2003_ALASKA</td>\n",
       "      <td>0.181930</td>\n",
       "      <td>0.570407</td>\n",
       "      <td>0.247663</td>\n",
       "      <td>10.697044</td>\n",
       "      <td>0.535451</td>\n",
       "      <td>245.00</td>\n",
       "    </tr>\n",
       "    <tr>\n",
       "      <th>2003_ARIZONA</th>\n",
       "      <td>ARIZONA</td>\n",
       "      <td>2003</td>\n",
       "      <td>875111.0</td>\n",
       "      <td>6529894.0</td>\n",
       "      <td>740579.0</td>\n",
       "      <td>2912629.0</td>\n",
       "      <td>2876686.0</td>\n",
       "      <td>6210287.0</td>\n",
       "      <td>2810907.0</td>\n",
       "      <td>1964229.0</td>\n",
       "      <td>...</td>\n",
       "      <td>271.0</td>\n",
       "      <td>209.0</td>\n",
       "      <td>255.0</td>\n",
       "      <td>2003_ARIZONA</td>\n",
       "      <td>0.113414</td>\n",
       "      <td>0.446045</td>\n",
       "      <td>0.440541</td>\n",
       "      <td>7.461789</td>\n",
       "      <td>0.430467</td>\n",
       "      <td>241.00</td>\n",
       "    </tr>\n",
       "    <tr>\n",
       "      <th>2003_ARKANSAS</th>\n",
       "      <td>ARKANSAS</td>\n",
       "      <td>2003</td>\n",
       "      <td>450158.0</td>\n",
       "      <td>3241275.0</td>\n",
       "      <td>379947.0</td>\n",
       "      <td>2394336.0</td>\n",
       "      <td>466992.0</td>\n",
       "      <td>3242799.0</td>\n",
       "      <td>1768713.0</td>\n",
       "      <td>972598.0</td>\n",
       "      <td>...</td>\n",
       "      <td>266.0</td>\n",
       "      <td>214.0</td>\n",
       "      <td>258.0</td>\n",
       "      <td>2003_ARKANSAS</td>\n",
       "      <td>0.117221</td>\n",
       "      <td>0.738702</td>\n",
       "      <td>0.144077</td>\n",
       "      <td>7.200305</td>\n",
       "      <td>0.545684</td>\n",
       "      <td>241.75</td>\n",
       "    </tr>\n",
       "    <tr>\n",
       "      <th>2003_CALIFORNIA</th>\n",
       "      <td>CALIFORNIA</td>\n",
       "      <td>2003</td>\n",
       "      <td>6226552.0</td>\n",
       "      <td>59815855.0</td>\n",
       "      <td>5795655.0</td>\n",
       "      <td>33617766.0</td>\n",
       "      <td>20402434.0</td>\n",
       "      <td>59749885.0</td>\n",
       "      <td>29561563.0</td>\n",
       "      <td>17030335.0</td>\n",
       "      <td>...</td>\n",
       "      <td>267.0</td>\n",
       "      <td>206.0</td>\n",
       "      <td>251.0</td>\n",
       "      <td>2003_CALIFORNIA</td>\n",
       "      <td>0.096892</td>\n",
       "      <td>0.562021</td>\n",
       "      <td>0.341087</td>\n",
       "      <td>9.606578</td>\n",
       "      <td>0.494209</td>\n",
       "      <td>237.75</td>\n",
       "    </tr>\n",
       "  </tbody>\n",
       "</table>\n",
       "<p>5 rows × 23 columns</p>\n",
       "</div>"
      ],
      "text/plain": [
       "                      State  Year   Enrolled  TotalRevenue  FederalRevenue  \\\n",
       "Id                                                                           \n",
       "2003_ALABAMA        ALABAMA  2003   727900.0     5196054.0        567704.0   \n",
       "2003_ALASKA          ALASKA  2003   133303.0     1425948.0        259423.0   \n",
       "2003_ARIZONA        ARIZONA  2003   875111.0     6529894.0        740579.0   \n",
       "2003_ARKANSAS      ARKANSAS  2003   450158.0     3241275.0        379947.0   \n",
       "2003_CALIFORNIA  CALIFORNIA  2003  6226552.0    59815855.0       5795655.0   \n",
       "\n",
       "                 StateRevenue  LocalRevenue  TotalExpenditure  \\\n",
       "Id                                                              \n",
       "2003_ALABAMA        2966981.0     1661369.0         5298932.0   \n",
       "2003_ALASKA          813371.0      353154.0         1610289.0   \n",
       "2003_ARIZONA        2912629.0     2876686.0         6210287.0   \n",
       "2003_ARKANSAS       2394336.0      466992.0         3242799.0   \n",
       "2003_CALIFORNIA    33617766.0    20402434.0        59749885.0   \n",
       "\n",
       "                 InstructionExpenditure  SupportServicesExpenditure  ...  \\\n",
       "Id                                                                   ...   \n",
       "2003_ALABAMA                  2817111.0                   1521462.0  ...   \n",
       "2003_ALASKA                    763525.0                    514052.0  ...   \n",
       "2003_ARIZONA                  2810907.0                   1964229.0  ...   \n",
       "2003_ARKANSAS                 1768713.0                    972598.0  ...   \n",
       "2003_CALIFORNIA              29561563.0                  17030335.0  ...   \n",
       "\n",
       "                 AvgMath8Score  AvgReading4Score  AvgReading8Score  \\\n",
       "Id                                                                   \n",
       "2003_ALABAMA             262.0             207.0             253.0   \n",
       "2003_ALASKA              279.0             212.0             256.0   \n",
       "2003_ARIZONA             271.0             209.0             255.0   \n",
       "2003_ARKANSAS            266.0             214.0             258.0   \n",
       "2003_CALIFORNIA          267.0             206.0             251.0   \n",
       "\n",
       "                        RecordId  FederalFundingPercent  StateFundingPercent  \\\n",
       "Id                                                                             \n",
       "2003_ALABAMA        2003_ALABAMA               0.109257             0.571007   \n",
       "2003_ALASKA          2003_ALASKA               0.181930             0.570407   \n",
       "2003_ARIZONA        2003_ARIZONA               0.113414             0.446045   \n",
       "2003_ARKANSAS      2003_ARKANSAS               0.117221             0.738702   \n",
       "2003_CALIFORNIA  2003_CALIFORNIA               0.096892             0.562021   \n",
       "\n",
       "                LocalFundingPercent  RevenuePerStudent  \\\n",
       "Id                                                       \n",
       "2003_ALABAMA               0.319737           7.138417   \n",
       "2003_ALASKA                0.247663          10.697044   \n",
       "2003_ARIZONA               0.440541           7.461789   \n",
       "2003_ARKANSAS              0.144077           7.200305   \n",
       "2003_CALIFORNIA            0.341087           9.606578   \n",
       "\n",
       "                 InstructionalExpensePercent  Avg Score  \n",
       "Id                                                       \n",
       "2003_ALABAMA                        0.542164     236.25  \n",
       "2003_ALASKA                         0.535451     245.00  \n",
       "2003_ARIZONA                        0.430467     241.00  \n",
       "2003_ARKANSAS                       0.545684     241.75  \n",
       "2003_CALIFORNIA                     0.494209     237.75  \n",
       "\n",
       "[5 rows x 23 columns]"
      ]
     },
     "execution_count": 6,
     "metadata": {},
     "output_type": "execute_result"
    }
   ],
   "source": [
    "# combining grade scores\n",
    "Avg_Score = (df.AvgMath4Score + df.AvgMath8Score + df.AvgReading4Score + df.AvgReading8Score)/4\n",
    "df['Avg Score'] = Avg_Score\n",
    "df.head()"
   ]
  },
  {
   "cell_type": "markdown",
   "id": "4523e3c2",
   "metadata": {},
   "source": [
    "# Linear Regression for Local Funding"
   ]
  },
  {
   "cell_type": "code",
   "execution_count": 7,
   "id": "f24f5245",
   "metadata": {},
   "outputs": [],
   "source": [
    "# Defining variables\n",
    "X = df[[\"LocalFundingPercent\"]]\n",
    "y = df['Avg Score']"
   ]
  },
  {
   "cell_type": "code",
   "execution_count": 8,
   "id": "c72556db",
   "metadata": {},
   "outputs": [
    {
     "data": {
      "text/plain": [
       "LinearRegression()"
      ]
     },
     "execution_count": 8,
     "metadata": {},
     "output_type": "execute_result"
    }
   ],
   "source": [
    "#Creating regression object\n",
    "regr = linear_model.LinearRegression()\n",
    "regr.fit(X, y)"
   ]
  },
  {
   "cell_type": "code",
   "execution_count": 9,
   "id": "7590bc9f",
   "metadata": {},
   "outputs": [],
   "source": [
    "#Splitting the dataset into the Training set and Test set\n",
    "X_train, X_test, y_train, y_test = train_test_split(X, y, test_size = 0.2)"
   ]
  },
  {
   "cell_type": "code",
   "execution_count": 10,
   "id": "a8e1557a",
   "metadata": {},
   "outputs": [],
   "source": [
    "y_prediction =  regr.predict(X_test)"
   ]
  },
  {
   "cell_type": "code",
   "execution_count": 11,
   "id": "1d878d33",
   "metadata": {},
   "outputs": [
    {
     "data": {
      "text/html": [
       "<div>\n",
       "<style scoped>\n",
       "    .dataframe tbody tr th:only-of-type {\n",
       "        vertical-align: middle;\n",
       "    }\n",
       "\n",
       "    .dataframe tbody tr th {\n",
       "        vertical-align: top;\n",
       "    }\n",
       "\n",
       "    .dataframe thead th {\n",
       "        text-align: right;\n",
       "    }\n",
       "</style>\n",
       "<table border=\"1\" class=\"dataframe\">\n",
       "  <thead>\n",
       "    <tr style=\"text-align: right;\">\n",
       "      <th></th>\n",
       "      <th>Real Values</th>\n",
       "      <th>Predicted Values</th>\n",
       "    </tr>\n",
       "    <tr>\n",
       "      <th>Id</th>\n",
       "      <th></th>\n",
       "      <th></th>\n",
       "    </tr>\n",
       "  </thead>\n",
       "  <tbody>\n",
       "    <tr>\n",
<<<<<<< HEAD
       "      <th>2007_NEW_HAMPSHIRE</th>\n",
       "      <td>259.00</td>\n",
       "      <td>254.835614</td>\n",
       "    </tr>\n",
       "    <tr>\n",
       "      <th>2005_MISSISSIPPI</th>\n",
       "      <td>236.00</td>\n",
       "      <td>249.352812</td>\n",
       "    </tr>\n",
       "    <tr>\n",
       "      <th>2007_VERMONT</th>\n",
       "      <td>259.50</td>\n",
       "      <td>248.627949</td>\n",
       "    </tr>\n",
       "    <tr>\n",
       "      <th>2015_VERMONT</th>\n",
       "      <td>259.25</td>\n",
       "      <td>246.633144</td>\n",
       "    </tr>\n",
       "    <tr>\n",
       "      <th>2003_NEW_MEXICO</th>\n",
       "      <td>235.25</td>\n",
       "      <td>245.756722</td>\n",
=======
       "      <th>2013_MARYLAND</th>\n",
       "      <td>259.50</td>\n",
       "      <td>253.092560</td>\n",
       "    </tr>\n",
       "    <tr>\n",
       "      <th>2015_NORTH_DAKOTA</th>\n",
       "      <td>256.25</td>\n",
       "      <td>249.755925</td>\n",
       "    </tr>\n",
       "    <tr>\n",
       "      <th>2007_TEXAS</th>\n",
       "      <td>252.25</td>\n",
       "      <td>253.917835</td>\n",
       "    </tr>\n",
       "    <tr>\n",
       "      <th>2011_RHODE_ISLAND</th>\n",
       "      <td>253.00</td>\n",
       "      <td>254.038652</td>\n",
       "    </tr>\n",
       "    <tr>\n",
       "      <th>2007_FLORIDA</th>\n",
       "      <td>250.75</td>\n",
       "      <td>253.374862</td>\n",
>>>>>>> 551603f5f5f5334efc6877398839a2fa424a00bb
       "    </tr>\n",
       "  </tbody>\n",
       "</table>\n",
       "</div>"
      ],
      "text/plain": [
<<<<<<< HEAD
       "                    Real Values  Predicted Values\n",
       "Id                                               \n",
       "2007_NEW_HAMPSHIRE       259.00        254.835614\n",
       "2005_MISSISSIPPI         236.00        249.352812\n",
       "2007_VERMONT             259.50        248.627949\n",
       "2015_VERMONT             259.25        246.633144\n",
       "2003_NEW_MEXICO          235.25        245.756722"
=======
       "                   Real Values  Predicted Values\n",
       "Id                                              \n",
       "2013_MARYLAND           259.50        253.092560\n",
       "2015_NORTH_DAKOTA       256.25        249.755925\n",
       "2007_TEXAS              252.25        253.917835\n",
       "2011_RHODE_ISLAND       253.00        254.038652\n",
       "2007_FLORIDA            250.75        253.374862"
>>>>>>> 551603f5f5f5334efc6877398839a2fa424a00bb
      ]
     },
     "execution_count": 11,
     "metadata": {},
     "output_type": "execute_result"
    }
   ],
   "source": [
    "#Comparing the Test Set with Predicted Values\n",
    "df_L = pd.DataFrame({'Real Values':y_test, 'Predicted Values':y_prediction})\n",
    "df_L.head()"
   ]
  },
  {
   "cell_type": "code",
   "execution_count": 12,
<<<<<<< HEAD
   "id": "4d4a288c",
=======
   "id": "02b4651c",
>>>>>>> 551603f5f5f5334efc6877398839a2fa424a00bb
   "metadata": {},
   "outputs": [
    {
     "data": {
      "text/plain": [
       "(70, 2)"
      ]
     },
     "execution_count": 12,
     "metadata": {},
     "output_type": "execute_result"
    }
   ],
   "source": [
    "df_L.shape"
   ]
  },
  {
   "cell_type": "code",
   "execution_count": 13,
<<<<<<< HEAD
   "id": "b991a620",
=======
   "id": "4e708e13",
>>>>>>> 551603f5f5f5334efc6877398839a2fa424a00bb
   "metadata": {},
   "outputs": [
    {
     "data": {
<<<<<<< HEAD
      "image/png": "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\n",
=======
      "image/png": "iVBORw0KGgoAAAANSUhEUgAAAYUAAAEWCAYAAACJ0YulAAAAOXRFWHRTb2Z0d2FyZQBNYXRwbG90bGliIHZlcnNpb24zLjMuNCwgaHR0cHM6Ly9tYXRwbG90bGliLm9yZy8QVMy6AAAACXBIWXMAAAsTAAALEwEAmpwYAAA6BUlEQVR4nO2deZhcVbW33193OkATCCGJAoF0MyMzJKKI+CGRwUBAFBVslOkaJjEoEa6EIQi5j2AE9CqQiAzS7QWUQWSQGYSLgJ0QEiCgIBmAXAkBEkJChu71/bFPVVd3qqpPdddc632e89Spvfc5Z+1zqs7ae6+915KZ4TiO4zgAdaUWwHEcxykfXCk4juM4SVwpOI7jOElcKTiO4zhJXCk4juM4SVwpOI7jOElcKdQAkg6Q9GaJZThB0lMp35dL2qaUMlUikl6SdECp5ah0JJ0n6bpSy1GOuFIoEZLmSfpSqeUAkGSSPope1MslfVDoa5rZIDP7V77PK2mypDWJekh6WtK++b5OX5HUHN3vAVnKTJbUmi7PzHYxs8cLJmBMUuqR+M3Mk/SfpZYrLmb2X2b2H6WWoxxxpeAk2CN6UQ8ys01KLUw/udXMBgHDgaeAOyQplxNke2nXGr3ci02ie300cIGkg4p8fSfPuFIoMyStJ+kqSW9H21WS1kvJP1LSLEnLJL0u6dAo/URJcyV9KOlfkk7JgywmabuU7zdKujTaP0DSm5LOlvSOpEWSTkwpO1TS3ZGczwHbZjp3dN5fS7o3kv9ZSdumlD1Y0quSlkq6WtITknpt5ZnZGuAmYDNgqKTBkn4byfqWpEsl1UfXOEHS/0q6UtJ7wGRJG0j6uaT50bWfkrRBVP6zUS/kA0kvpA7pSHpc0iXR+T6U9KCkYVH2X6PPD6IWdk69mNQeZtSjuE3S76LrvCRpdErZLSTdLmmxpDckfT8lbx9Jf4vkXyTpV5IG9ng+Z0j6J/DPGPe6HXgJ2DPlHCdFv8n3JT0gqSklL+MzzfAs1pM0VdICSf+WdG3Ksxgm6Z6oLu9JelJSXZR3bvSsP4yuNybl3rWmyHNEdP8+iJ7fp3rc84mSZkfy3ipp/RweW0XhSqH8mAR8lvDn2gPYBzgfwh8Z+B3wI2AT4AvAvOi4d4DDgY2BE4ErJe1dYFk3AwYDI4CTgV9LGhLl/Rr4GNgcOCnasnEscDEwBHgNmALhDw/8EfgxMBR4FfhcHOEUlOkJwJtm9i5BQawFtgP2Ag4GUpXLZ4B/AZ+Irj8VGBVdb1PgHKBT0gjgXuDSKH0icLuk4Snn+hbhOXwCGBiVgfDMIGphm9nf4tQlC0cAtxB+D3cDv4rqXgf8GXiB8HzGAGdJOiQ6rgP4ATAM2DfKP73Hub9CuCc79yaEpM8CuxKeHZK+ApwHfJXQY3sS+J8oL84z7fksLgN2IPwvtovqdGFU9mzgzeg6n4yua5J2BL4HfNrMNgIOoev/kir7DpFsZ0XnuA/4c6qSBL4BHApsDexO+F1VJ2bmWwk2wo/zS2nSXwfGpnw/BJgX7U8Drox5/ruACdH+AYQXY6ayBiwDPoi2X6akb5dS7kbg0pRzrgQGpOS/Q1Bo9cAaYKeUvP8Cnupxze1SzntdSt5Y4JVo/zvA31LyBCwE/iNDXSYDq6N6vAM8SnixfxJYBWyQUvZY4LFo/wRgQUpeXVS/PdJc41zg5h5pDwDHR/uPA+en5J0O/CXab47qPiCd/Cl1aO3tdxOVezglb2dgZbT/mdT6RGk/Bm7IcN6zgDt7PJ8Ds8iYqMcH0X0yghJVlH8/cHKP+7kCaOrtmaZ5FgI+ArZNSdsXeCPa/wnwJ1J+q1H6dtFv4EtAQ6Z7DFwA3NZD1reAA1Lu+XEp+ZcD18b5H1bi5mN15ccWwPyU7/OjNICtCK2YdZD0ZeAiQmuqDmgE5uRw3b3N7LUcZV1iZmtTvq8AEmP5Awh/9ASpdUrH/6U5D4S6J89jZqbeZ1LdZmbHpSZEvawGYJG6zAt1PWRM3R8GrE9Q0j1pAr4uaVxKWgPwWIz65Jue11lfYQy+CdhC3ScN1BNa7InW8RXAaMJvZQAwo8e5F9I7wwgK4SyCkm0gKOUm4BeSfp5SVoQWfpxnmnrt4ZGMM1KenaL6APyM8JJ/MMqfbmY/NbPXJJ0V5e0i6QHgh2b2do9rdfvPmVmnpIWRrAl63uctqFJ8+Kj8eJvwh0owMkqD8EfZtucB0TDJ7YSW2ictGIrvI/xx+sMKwp8xwWYxj1tMGKbZKiVtZB9lWARsmfii8K/fMnPxjCwk9BSGmdkm0baxme2SUibVZfC7hOGvde53dK6bU86ziZltaGY/jSFHsdwSLyS0pFNl3MjMxkb51wCvANub2caEIZeev5dYsppZh5n9nHC/EkNQC4FTelx/AzN7mnjPtOezWAnsknKuwRYM3JjZh2Z2tpltA4wDfpiwHZjZ783s84T/lBGGoXrS7T8XybMVobdQc7hSKC0NktZP2QYQxjbPlzQ8Gnu9EEgYxH4LnChpjKQ6SSMk7UQYs16P6GUc9RoOzoN8s4BvSapXMGj/vzgHmVkHcAfBQNgoaWfg+D7KcC+wm6SvRPfnDOIrp1SZFgEPAj+XtHF0/7aVlLZOZtYJXA9cERls6yXtGyngVmCcpEOi9PUVDO9xlNVioBPobY1GXY/fxnq9lO/Jc8CyyNC6QSTnrpI+HeVvRBgyXB79hk7L8fzp+ClwTmSEvRb4saRdABSM/F+PyuX0TKNn8RuCnewT0flGJOwjkg6XtF30Ml9GsJd0SNpR0oHRvfuYoFg60lziNuCw6H/VQLBRrAKe7t/tqExcKZSW+wg/1MQ2mWC8bAdmE4Z/ZkZpmNlzREZkYCnwBNBkZh8C3yf8uN8nGDnvzoN8Ewgtrw+AFoKdIi7fIwyZ/B/BZnBDXwSwYCD+OmEcdwlh3Lyd8KfNle8QFOjLhPv0R4IhPBMTCc/g78B7hFZmnZktBI4ktK4XE1rFPyLG/8nMVhAMp/8bzXT5bIaix9L9t5FuGCvbdToIz25P4A1Ca/s6wsSARN2+BXxIeOHemsv5M3Av4b5+18zuJNyvWyQtA14EvhzJ1pdnei7BiP1MdL6HgR2jvO2j78uBvwFXW1jLsR5BUb1L+B1+gvDMumFmrwLHAf8dlR0HjDOz1X25CZVOwijkOBVBNKvmTaDFzB7rrbxT/vgzLS+8p+CUPdEwzSbRMEBi7PuZEovl9AN/puWLKwWnEtiXMHyS6Np/xcxWllYkp5/4My1TfPjIcRzHSeI9BcdxHCdJRS9eGzZsmDU3N5daDMdxnIpixowZ75rZ8HR5Fa0UmpubaW9vL7UYjuM4FYWkjB4GfPjIcRzHSeJKwXEcx0niSsFxHMdJUjClIGkrSY8pBNl4SdKElLwzFQJevCTp8iitWdJKhQAysyRdWyjZHMdxnPQU0tC8FjjbzGZK2ojg9vYhgl/7I4HdzWxVwsFVxOtmtmcBZXIcx3GyULCegpktMrOZ0f6HwFyCf/LTgJ+a2aoo751CyeA4TpXS1gbNzVBXFz7b2kotUdVQFJuCpGZC+MNnCUFg9leIw/tEiitfgK0lPR+l718M2RzHqTDa2mD8eJg/H8zC5/jxrhjyRMGVgqRBhAAwZ5nZMsKQ1RBC2MYfAbdFftAXASPNbC/gh8DvJW2c5nzjJbVLal+8eHGhxXccp9yYNAlWrOietmJFSHf6TUGVQhSw4nagzczuiJLfBO6wwHOEgCPDzGyVmS0BMLMZBGdZO/Q8p5lNN7PRZjZ6+PC0C/Icx6lmFizILd3JiULOPhIhUthcM7siJesu4MCozA6EoCfvRpHG6qP0bQiBM/5VKPkcx6lQRmaI7JopPR/UkA2jkD2F/YBvAwemTDMdSwhxuI2kF4FbgOMtuGr9AjBb0guEiFinmtl7BZTPcZxKZMoUaGzsntbYGNILQY3ZMCradfbo0aPNfR85Tg3S1hZsCAsWhB7ClCnQ0lKYazU3B0XQk6YmmDevMNcsMJJmmNnotHmuFBzHcbJQVxd6CD2RoLOz+PLkgWxKwd1cOI7jZKMUNowS4krBcRwnG8W2YZQYVwqO4zjZaGmB6dODDUEKn9OnF86GUWIqOsiO4zhOUWhpqVol0BPvKTiO4zhJXCk4juM4SVwpOI7jOElcKTiO4zhJXCk4juNUEgX2w+SzjxzHcSqFhB+mhOvwhB8myNvsKO8pOI7jVApFiCXhSsFxHKdSKEIsCVcKjuM4lUIR/DC5UnAcx6kUiuCHyZWC4zhOpVAEP0w++8hxHKeSKLAfJu8pOI7jOElcKTiO4zhJXCk4juM4SVwpOI7jOElcKTiO4zhJXCk4juM4SVwpOI7jOElcKTiO4zhJXCk4juM4SQqmFCRtJekxSXMlvSRpQkremZJejdIvT0n/saTXorxDCiWb4ziOk55CurlYC5xtZjMlbQTMkPQQ8EngSGB3M1sl6RMAknYGjgF2AbYAHpa0g5l1FFBGx3EcJ4WC9RTMbJGZzYz2PwTmAiOA04CfmtmqKO+d6JAjgVvMbJWZvQG8BuxTKPkcx3GcdSmKTUFSM7AX8CywA7C/pGclPSHp01GxEcDClMPejNJ6nmu8pHZJ7YsXLy6w5I7jOLVFwZWCpEHA7cBZZraMMGQ1BPgs8CPgNkkClOZwWyfBbLqZjTaz0cOHDy+g5I7jlDUFDmBfqxTUdbakBoJCaDOzO6LkN4E7zMyA5yR1AsOi9K1SDt8SeLuQ8jmOU6EUIYB9rVLI2UcCfgvMNbMrUrLuAg6MyuwADATeBe4GjpG0nqStge2B5woln+M4FUwRAtjXKoXsKewHfBuYI2lWlHYecD1wvaQXgdXA8VGv4SVJtwEvE2YuneEzjxzHSUsRAtjXKgVTCmb2FOntBADHZThmCpC/YKOO41QnI0eGIaN06U6/8BXNjlNrVIOBtggB7GsVVwqOU0skDLTz54NZl4G20hRDEQLY1yoKw/mVyejRo629vb3UYjhO5dDcnH7YpakJ5s0rtjROiZA0w8xGp8vznoLj1BJuoHV6wZWC49QSmQyxbqB1IlwpOE4t4QZapxdcKThOLeEGWqcXXCk4Tq3R0hJ6BiNHBlvCpEmVN/soDtUw9bYEFNT3keM4ZUgt+A2qhToWCJ+S6ji1Ri1MS62FOvYDn5LqOPmmkocmamFaai3UsUC4UnCcXKn0VcG1MC21FupYIHJSCpKGSNq9UMI4TkVQ6W6ba2Faai3UsUD0qhQkPS5pY0mbAi8AN0i6orfjHKdqqfShiVqYlloLdSwQcXoKg6Mwml8FbjCzUcCXCiuW45Qx1TA00dISDK6dneGzGl+WudQxjo2oku1IORBHKQyQtDnwDeCeAsvjOOVPOQ1N1MiLqqDEsRFVuh0pF8ws6wZ8HZgNXBN93wa4vbfjirGNGjXKHKcktLaaNTWZSeGztbU0MjQ2moXXVNgaG0sjSyXT1NT9Hia2pqbcylQQQLtleK/22lMwsz+Y2e5mdlr0/V9m9rXCqSnHqQByHX7prUXflxZ/vgzetT50EsdGVOl2pFzIpC0SG7AD8AjwYvR9d+D83o4rxuY9Baci6K1F39cWv5S+9SrlT7b+yFcpeE+h+zs/U0ayADwB7AM8n5L2Ym/HFWNzpeBUBL29UPr6wsnHi6oGX4jrUEzFWA7DjtZ/pfD36PP5lLRZvR1XjM2VglMR9Nai72uLPx8vqjjXzkePpNyJ87Lu7wu9jHpc/VUK9wPbAjOj70cD9/d2XDE2VwpORVConoJZ/19U3lMoHmV0H7MphThTUs8ApgE7SXoLOAs4tX+WDMepIXqbwtqfKa79XW8Q59qlmoJbbcbtPBmr2+a00XxVM3UX19F8VTNtc/J8XzJpi6BMqAd+Fu1vCGyUrXyxN+8pOBVDby36Uo41F2PopC8ylclQS97IQ0+hdXarNU5pNCaT3BqnNFrr7NzuC1l6Cr26zpb0qJkdmF9VlB/cdbbjFIC2tjCtdcGCsEp7ypTir3iuRtfXPWM8QOhx5eB+o/mqZuYvXfe+NA1uYt5Z82KLks11dpwgO89Luhv4A/BRItHM7ogtgeM4lUG5BKepxnUBifvXD4W7YGn6+mdK7wtxbAqbAkuAA4Fx0XZ4bwdJ2krSY5LmSnpJ0oQofbKktyTNiraxUXqzpJUp6df2vVqO4/SJcvEAG8e/VDFtDvm6Vi82oI6ODu677z6WLl2a9vCRg9Pfl0zpfSLTuFJ/N2BzYO9ofyPgH8DOwGRgYpryzeS4/sFtCo6TZ8pl+mmhFvwVQpbeDp/dak1XNpkmy4ZeNtSGXjbUNFnWdGWTtc5utRkzZtiYMWMMSG4TJ07MeK5C2xTivNy3BO4E3gH+DdwObNnbcWnO8yfgIFcKjpMHCmX4LaNpk1nrWEw5+3GtdC9xzsX4HN2UQOp20EEH2XvvvZf1nAklk1AsudJfpfAQcCLB/jAAOAF4qLfjepyjGVgAbBwphXkEJ3vXA0NSynwEPE9YRb1/hnONB9qB9pEjR+Z8Mxyn4ilkK7lSZv0Us0eT47VSX9r1F9cbF2J8FWNQeiVQt2Gd3XjjjbZ27dr8y56B/iqFWXHSshw/CJgBfDX6/knCVNc6YApwfZS+HjA02h8FLAQ2znZu7yk4NUmhW8ll4oohK2XaU0j2DE7D2C5zb4DPYPwo9Bw0ufgrw7MphTiG5nclHSepPtqOIxiee0VSA2G4qc2i2Upm9m8z6zCzTuA3BL9KmNkqM1sS7c8AXic443Oc8qUUC6wKPTMnzoK4Ui8sy7SgbuzY/Ms1ZQptoxoY9iPQRWEbdg60nTs2WWTZsmWcf/75HLf7cayYtAKuAV5LOUcT8B+EcZLJwJcJK7/Is5E4D8SZknoS8CvgSoKWezpKy4okAb8F5prZFSnpm5vZoujrUcCLUfpw4D0z65C0DbA98K8c6uI4xaVU0zdHjkw/h79Ykd/KYdpquumdY8fCTTflXa623eHb49aSuqJryQZw/F+n84NL/8jitxeve9BA4GBgL8K4SAYaGxqZMqa84kb3unitzyeWPg88CcwBOqPk84BjgT0JCmYecIqZLZL0NeAnwFqgA7jIzP6c7Rq+eM0pKaVaYJWHRVD9opwWlqUutKurg46OPsvVNqeNCXeewpLOsByrzqAzdSzlXeBh4JX0x59yyincs/k9vMVb6+TVq55O62TTDTYF4L2V7zFy8EimjJlCy27FD4WabfFanBXNNwETzOyD6PsQ4Odm1mtvodC4UnBKSl1dGF3uiRSGXgpJKVcdl7LeqaRTjumIIdfp957ONe3XdE9cDfwNeCzDQSOAg8Gu77oXbXPaGP/n8axY0yVTY0Mj08dNL8nLPxP9XdG8e0IhAJjZ+5L2ypdwjlNRxGmZFmMYp6Wlb0ogH8qk1MNXCdIttEtHBrna5rQx6ZFJXW4jjLCa6kHSW03rCENCo0m+OZsGN3UrknjxT3pkEguWLihpb6CvxFEKdZKGmNn7AJI2jXmc41QXPVum6RRCT++h5eBHKFWWfNgCpkxJP3xVaK+pPYlhWG8b1cCEI95lycUCYOgGQ/nFl38BEFr076yI4kpmOMGewBeBwemz09kDWnZrqSgl0JM4w0ffAX4M/DFK+jowxcxuLrBsveLDR05RyTSWXl8fhid6vvRLPfbfk3zaAspB2WWqD9C2G5xyOHy0Xo+MNVD/93o6Hkyj0CFMmD+YEEGmF3YetjMvnfFSDgKXD/2yKUQn2Jng+wjgUTN7OY/y9RlXCjVEri+hQry0ch1LLyeDLJSPLSBfpCjdtt1g0hiYPzgyEAtQVO51wpDQvzOc5yDCxPiG+Jces/UYHv7Ow/0QvrT0yaYgqRFYY2ZrzOxlSR3AWGAnoCyUglMj5DrsUagpk7mOpZebp89ysQXkgbY5bZy64FSWn7OC5FzRSAl0LiMYh2dlOHhXQhN30ywXSCwzqwt2g0qzC/SHbIvX/kJwPYGk7Qh2+G2AMyT9tPCiOU5Erp47C+XpM9cIZHE8fRaTUkVQy5W2Nhg2LPRgpLCfsgitbU4bJ9x1AstXLw8JHcCzhAntkwkrqmalnG8oYSL8RVH+0TB0xFAaG7rfC0VapWlwE62fPA27qQm7WMy7ClpmF6Ce5Uqmpc7AnJT9S4BfR/sDU/NKubmbixohVz83hfSLk4sLiHL0I1TuLixaW80GDrTW3bChP8K4KGxDz8Farz7NzMyarmwyTsQYkcWNxBcxzqO7I7poG3h+OFdGx3Ll+NzyDH2JvCZptpntHu3/LyEs513R9xfMbI/Cqap4uE2hRsh1bL6cxvLLwSBbSTQ3c/rO87lmH7psAgAfQt1j0Dkzw3E7AV8ChmU5t8Gg1XDtPdCyLMtvoZx+PwWir+sUZkuaCrwFbEcw1SBpk7xL6DjZyHUKZLlMmYS+ryeoARLrBFLn87PxfK7dh+AD4XnCW2d1KN/NFL4JYZbQp+iuPHoStXmHroBf/AVa5kTpymLXKTdbUJHJphS+C0wg2BUONrPEP2xnYGqB5XKcLnINY5iHsIdOYem58nf+0vmcfPXJdLwPdnGGg/YH9oPWb7Vywl0nsLZzbdpidaqj0zqDgfhPy2l5PM1KtGx2nSoyyPeJTONKlbC5TcGpKoo53l9i20LTlU3BdfRnstgFtie4oE6xBzRd2RTEn91qg/5rULe8DadsuG7AmVzsA4l7krA/1ahNoeQv9v5srhScqqGCwkv2lbVr19oNN9xgQ4cOTa8EBkXBaC7MYCC+ZGCfoozFUoDp7klCMZSjQb6fZFMKBfOSWgzc0OxUDcU0bhbxWrNmzeKcc87hoYceSl9gX8KwUDQ7dOgGQ1m5dmU3h3IAGzZsyLRx0wq3VqAGjMupZDM09xpkR9LX46Q5jtMPimnczMO12ua00XxVM3UX19F8VTNtc8I6gg8++IBzzz0XSUhir7326qYQxowZQ3t7O62zW2mc0giHkFQIjQ2N/OLLv2D6uOk0DW5CKKwZ+Gory89b3jeFEDcYUI0bl1OJ4/toppnt3VtaKfCeglM1lHFPoW1OGxPun8CSlcFgu2HDhqzuWM2azjVhStBjwN+Bj9c95ZAhQ5g6dSrHH3889fXdo82km32U155ALr6nvKfQRaZxJULAuP8meAz5Zcp2I/BcpuOKublNwakaCjHOn2ksvZdrtc5utaGXDU07rs9kjBOyGIfBzjzzTHvnnXf6fUv6TS5xnGtgwVoqZLEpZJuS+jbQDhwBzEhJ/xD4QR8VlOM46cj3NNo4/p/SXCttsJkVwC1AtpGUY0A7ic6LysixXi5DQj6NOUmc4aMGM1sT7Q8BtjKzsvAE4sNHjpOBXoZDTr/3dKbPmE6HdVCnOjYYsAEfrQlhKDHgKUKcgUzsBRxGt5VOTYObmHfWvDxVIA+UMlxqmSuX/kZee0jSEVHZWcBiSU+Y2Q/zKKPjOPkkQyv59J3nc83F3ZcAd1onH73xEVyX5XyDgBPI6EaiHAPQl2Rle6E89BaROD2F581sL0n/QeglXJTqF6mUeE/BcTLQ3EzbxvOZNAYWDIaRS2G7d+GRbQluIT4mhM16Lcs5vkKIPJaGetWzyfqblDwAfa8Uu9WeayCmEtHfnsIASZsD3wD66XvYcZxi0HbuWMa/dQ0rosAx8wfD/FeA1iwH7QIcSfCDnIVESMuyVAIJeiqDm28uzos4kx0jEbq1AnoOcZTCT4AHgP81s79L2gb4Z2HFchwnDqm2gXrVM37UeK4+7GomrbqPFUsIQ0LpXQSFl//JhBCUmTDYcBVMe6iBlh/cULYvsm6Ucggnk9+kVBKxPcr0XvqKZsepQNrmtHHSXSexunN1V+Jq4E5gbpYDDwM+nf3csmBrbloKUx5J8SxaKXP2S7nmIN3aiHSUOARqv4aPJO0AXAN80sx2lbQ7cISZXZpnOR3HSUPPxWPdmAncneXg7YGvAetnv8bAuoGs6VwT7APXz+9SBKlUyureUq5O7jm1ta6ua+golTL2uNqrmwvgN8CPgTUA0XTUYwoplOM4gbY5bZz0p5O6FMJi4HJCWMnJrKsQBHyXLjcSLSQVQmNDI2O2HkOduv72GzZsSOtXW1l1wSo6L+pk3lnzQgCadJTxi6wbpQ6D2tISeiSdnXDTTZURAjWFODaFRjN7Tuo2jS3TKGUSSVsBvwM2IyyGn25mv5A0mRCrYXFU9Dwzuy865seEUc4O4Ptm9kDcijhOJdM2p41T7zk1GXdYiFNHn8q9L9/L6j+shmwrgw4CPkcy2Ey96pNG4D65kSinIEV9oZzkr8RFcZmWOgMjo8/7gW2BmdH3o4H7Mx2XcvzmwN7R/kbAPwgBeiYDE9OU3xl4AVgP2Bp4HajPdg13c+FUA62zW23ATwZ0uZH4WnY3EjRjnJPBBcVk7LR7TuuHMCkxBerrK9d1dL7jRZR7bOscoY9uLu4C9ga+B0wDdpL0FvAGcFwMZbMIWBTtfyhpLjAiyyFHAreY2SrgDUmvAfsAf+vtWo5T7iScv81fOp961dNhHSEy2JgpnHPrOaz91VpYmuUEJwIZRnVSGbP1GK4+7Oo+CtnDSNrR0dXCLueWbTryGQa1Chak5ULG2UeJRWsp3zcE6szsw5wvIjUDfwV2BX5IWBu5jOBb6Wwze1/Sr4BnzKw1Oua3hB7JHzOd12cfOeXO6feezrQZ0+i0lJkmHYT+d7af7gHAF4A6GNgBq+vTlDGSQ0Z5WTtQY55CY1OF96Wvs49GSPplmpMBYGbfj3nxQcDtwFlmtkzSNcAlhJ/0JcDPgZNIH357HY0laTwwHmBkpRi+nJogXW8gySsEp3KZGAEcS3AnkUK96rn+rg4mHApLUuyVyUD0s/M4pdxjCqSnxu5LNqWwku7eUXNGUgNBIbSZ2R0AZvbvlPzfAPdEX98Etko5fEuCp9ZumNl0YDqEnkJ/5HOcvpJ1mijQ8UFHWD28OG124Dhgu7A7oG5A2kD040eNp+X6+2j5WYaWaj6p9YD1maix+5JNKSwxs5v6emKFLsVvgblmdkVK+uaRvQHgKODFaP9u4PeSrgC2IMywfq6v13ecQpBRGXQCDwNPZzn4c8CXWGcieMK2kG720dWHXQ0fZAgWk+/ZNOU0a6ecqLH7kk0prM6SF4f9gG8DcyTNitLOA46VtCdhaGgecAqAmb0k6TbgZcKU1zPMLM2qD8cpDW1z2hj/5/Fd8YNfB27OcsBwQm9gcOYiCe+iLbu1ZLYHFGtaYyVOnywGNXZf3M2F48Rkq0u24s1pb8JbWQodA+wU73yJHkJZO5ZzqpL+ekl1nJqgZ8zgSw+8lIGvDGTixIksXLgw/UGjCYFr080O6kGqw7r8CFz+wVycysOVguOQMjT09gp4GOa/Op9v8+11Cw4Gjgc2zX6+nmsR8t4bqLG5807xiDV8JOnzwPZmdoOk4cAgM3uj4NL1gg8fOf1l+fLlTJ06lYsvvjht/nrN6/FI6yPst99+69oUelDUOANVOHfeKR799ZJ6EaGTvCNwA9BAmGy3Xz6FdJx8khpnIEHT4CYuPfBSNp63MRMnTuSf/0wTFqQeOAQYFfZXs5r99gs/9X75E8o3NTZ33ikecYaPjiKE6Z4JYGZvS9qooFI5Tj84/d7Tuab9mq6E9whDQi+nHxI6+eST+cuWf+EtrWtBHjm4+1z0rLOEikmNzZ13ikcc19mrIwdKBkl3F45Ttkz727XwJF3upX9JmOgcMXDEQB5++OGkA7DrrruOy752GY0N3V0cl2Uw+gRTplScS+aKpq0tDNnV1YXPtrZSS1Qw4iiF2yRNAzaR9F3CEp3fFFYsx+lO25w2mq9qpu7iOpqvaqZtTvc/5YMPPshuu+2GJDqnGDzS4wQHEyKMT4Y1313DmDFjumW37NbC9HHTaRrchBBNg5uYPm56efQK0tHSAtOnBxuCFD6nT3cjcyFIGPXnzwezLqN+lSqGuIbmgwh/KwEPmNlDhRYsDm5org3SGXjX/2h9Rs8dzVP3PJX+oN2AA4Eh62Y1DW5i3lnzCiFqYfEpqKWhCo36/V6nECmBslAETu0x6ZFJrFi5Av4OPAgYfMzHPEWXQthll12YOnUqhxxyCGccsxHXfOqjtC4Wy3pIKBs+BbV01JhRv9fhI0kfSlrWY1so6U5J2xRDSKc2efzxxxk9ejTzfzAfLgUeoLvf3APho48+wsx48cUXOfTQQ5HE1UdM47SZddR30C08TdOAoeU9JJSNSZPWDQa/YkVIdwpLqcN7Fpk4PYUrCN5Kf09oex1DCLH5KnA9wfO74/SbRYsWcdFFF/Gb32QwWe0MjAGGhq9Ng5to7GlsBWhp4Wrg6moaaqmx1mpZUWMO8eIYmg81s2lm9qGZLYtcV481s1tJO2LrOPFYs2YN11xzDY2NjUhiiy226KYQtt12W+68805ufuHmEIT+GyQVQq/DQKnB0+fNq2yFAJlbpZtuWjOzYkpGrRn1M8XpTGyEcJjfICiQumj/mShvVm/HF3LzGM2Vx9NPP2377bdfxvjDF1xwgS1btmyd41pnt1rTlU2mybKmK5usdXZlx8jNmdZWs8bGEDM5sTU0mA0c2D2tsbHi4wcXjSqLu5wLZInRHEcpbAP8GXiXEDLkz4TQIBsAn+/t+EJurhTKn3feece+973vZVQC48aNsxdffLHUYlYGPV9iQ4d2VwiJrampxIJWAOmUbA0p1GxKwV1nO3mlo6ODm266iYkTJ/L++++vkz9ixAimTp3KN77xDerq4oxeOhmpqwuvs55IYdjMyUwVTjPNhWxTUuPMPlpf0hmSrpZ0fWLLv5hOOZNt8djMmTMZM2YMkhgwYAAnn3xyN4Vw7rnn8v7772NmvPnmmxxzzDGuEPJBjc2KyStuuM9InH/mzYTZRocATxBiJ39YSKGc8iKxeGz+0vkYxvxF8znh9BOQhCRGjRrFo48+mix/0EEHMXPmzGR39Kc//SmbbLJJ6SpQrbiri77jCjUzmcaVEhvwfPQ5O/psAB7t7bhibG5TKA4jfz7S+CrGoPR2gaFDh9qNN95oa9euLbWotUcNG0v7hdsUMtoU4vQU1kSfH0jalRBmpDmfiskpP+bMmcPYsWORxIKzF8AdwPKUAp8BfhQaFe+++y7HH3889fUxwo8Vm2p3ZFaMqbfVeA9rbZppDsRZvDZd0hDgfOBuYBBwQUGlcgpG25w2Jtw/gSUrlwBdgWHGNY3j8ssvZ0qmoYeRBO9XW3YlNQ1uKri8/cJdQ/Sfar6HLS2VX4cCkHX2kaQ64Ggzu614IsXHZx/1Tmrc4U032JSlq5aytnNtGPh5meBLaOm6x2200UZMnTqVk046iVvn3rqOQ7rGhsbydxlR4zNM8oLfw6qkz7OPzKwT+F5BpHIKTk8D8ZKFS1j7+7UhxsDFwB/ophBOOeUU3n77bcyMZcuWMX78eAYMGFB5bqUTFHqGSTUOq/TEZ+nUHL2uU5B0AbASuBX4KJFuZu8VVrTe8Z5CdkZeNpKFDyyExzIUGEEYEmoCITovqrK57YVs5fYcVoEw86faxqW9p1CV9GudAnAScAbwV2BGtPmbuAwxM+655x522mknJLHwP3sohDrgUIJ1aDLwXSAyC/QMO1kVFHLKZq14LfVprzVHr0rBzLZOs7nL7DLhjTfe4Nhjj0USdXV1jBs3jldffbWrwJ7ADwhK4ELgs6wzvaChrqEyYwz0Rq4zTHIZDqqVYRWfpVNzxFnR3CjpfEnTo+/bSzq88KI56fj444+5/PLLkwvHttlmG2655ZZk/h577MGDDz6ImdE6u5XGrzeGScQRDXUNDBo4KPl96AZDueErN5S/faCvxJ2ymWvIxVpa/FRtHmed7GRawJDYCLaEc4AXo+8bEMM7KrAVYfBiLvASMKFH/kTCHJhh0fdmgu1iVrRd29s1amXx2kMPPWR77LFHRqdyl19+ua1cuTLtsTXvXTQuTU25OZer8cVPTmVDP72ktlvKyuZo/4UYx20O7B3tbwT8A9jZuhTGA8D8Hkrhxd7Om7pVq1JYsGCBHX/88RmVwLHHHmuvv/56qcWsLqT0SkHKfIyvJnYqlGxKIc7itdWSNoheSEjaFljV20FmtghYFO1/KGkuYb7Ly8CVhN7Hn2Jcv+pZvXo11157LRMnTmTNmjXr5O+4445MnTqVww47DClN4GGn/4wcmX6WTbbhIF/85FQhcWYfTQb+AmwlqQ14hPBCj42kZmAv4FlJRwBvmdkLaYpuLel5SU9I2j/DucZLapfUvnjx4lzEKCuefPJJ9tlnHySx3nrrMWHChG4K4ZJLLmH58uWYGa+88gqHH364K4RC4rNsHCeQqQuRuhGCIB4GHE403BN3I7jFmAF8FWgEngUGR3nz6Bo+Wg8YGu2PAhYCG2c7dyUNHy1atMhOOeWUjENCRx11lL3yyiulFrO28eEgp0agPw7xJN1NWOL0uJndY2bvxlU4khqA24E2M7sD2BbYGnhB0jyCJ52ZkjYzs1VmtiRSVDOA14Ed4l6r3Fi7di3Tpk1j0KBBSGLzzTdn2rRpyfytt96a22+/nc7OTsyMO+64gx133LGEEjtlO8umWldOV2u9Kp1M2sK6Wvr/D7iaYBT+A3A0sH6M4wT8DrgqS5l5dPUUhgP10f42wFvAptmuUW49hWeeecb233//jL2BSZMm2dKlS0stplNJVOssp2qtV4VAf2YfWdcLvB44CLgNWBaj/Oejl+FsuqaZju1RJlUpfI0wdfUFYCYwrrdrlFopLF682CZMmJBRCYwdO9bmzJlTUhmdCifXqbKVQrXWq0LIphTizD4imn00DvgmsDdwU4weyFNRbyFbmeaU/dsJQ01lS0dHBzfffDMTJ05kyZIl6+RvvvnmTJ061cNNOvmjWldOV2u9qoA4NoVbCQvQDgR+DWxrZmcWWrByYdasWRx88MHJ+MMnnnhiN4Vw9tlns2TJEsyMt99+m29961uuEJz8Ua0rp6u1XlVAnLfXDQRFcKqZPQrsK+nXBZarZLz//vucc845STcSe+21Fw899FAyf8yYMbS3tye7WlOnTmXTTTctocROVVOtU2WrtV7VQKZxpdSN4FbtMoIN4DHgzDjHFXrLh02ho6PD/ud//sdGjBiR1i4wZMgQu/766z3+sFM6qnWqbLXWqwIgi00hYzwFSTsAxwDHAksIPpAmmlnZxGDsTzyFH/7wh1x55ZVp884880wuuOAChg8f3h/xHMdxypJs8RSyGZpfAZ4kzAJ6LTrRDwogX9FZvHhxN4Ww33778bOf/Yx99923hFI5juOUnmxK4WuEnsJjkv4C3EIvs4kqheHDh7No0SKGDh1KQ0NDqcVxHMcpGzIams3sTjP7JrAT8DghVMsnJV0j6eAiyVcwNttsM1cIjuM4PYgTee0jM2szs8MJbilmAf9ZaMEcp+Zwtw9OGRBr8VoCM3sPmBZtjuPki0Tkt0Tc50TkNygfH0xOTeCrrBynHJg0qUshJFixIqQ7ThFxpeA45YC7fXDKBFcKjlMOuNsHp0xwpeDEw42ghcXdPjhlgisFp3cSRtD584OD44QR1BVD/mhpgenToakJpPA5fbobmZ2i40qhFsm11e9G0OJQrpHfnJoipympThXQl6mPbgR1nJrBewq1Rl9a/W4EdZyawZVCrdGXVr8bQR2nZnClUGv0pdXvRlDHqRlcKdQafW31uxHUcWoCVwq1hrf6HcfJgiuFWsRb/cXDF/05FYZPSXWcQuGeT50KxHsKjlMofNGfU4G4UnCcQlGOi/58OMvpBVcKjlMoym3Rn/uwcmJQMKUgaStJj0maK+klSRN65E+UZJKGpaT9WNJrkl6VdEihZHOcgtCzFT527LrTfwcOhOXLS9NS9+EsJwaF7CmsBc42s08BnwXOkLQzBIUBHAQk+9FR3jHALsChwNWS6gson+Pkj3St8JtuguOP75r+O3RoyFuypDQt9XIcznLKjoIpBTNbZGYzo/0PgbnAiCj7SuAcwFIOORK4xcxWmdkbwGvAPoWSr2bxMeXCkKkVft99XdN/Bw2CNWvWLVOslnq5DWc5ZUlRbAqSmoG9gGclHQG8ZWYv9Cg2AliY8v1NupRI6rnGS2qX1L548eJCiVyd+Jhy4YjTCi91S919WDkxKLhSkDQIuB04izCkNAm4MF3RNGm2ToLZdDMbbWajhw8fnk9Rqx8fUy4ccVrhpW6p+2p2JwYFVQqSGggKoc3M7gC2BbYGXpA0D9gSmClpM0LPYKuUw7cE3i6kfDVHqVuq1UycVng5tNR9NbvTC4WcfSTgt8BcM7sCwMzmmNknzKzZzJoJimBvM/s/4G7gGEnrSdoa2B54rlDy1SSlbqlWM3Fa4d5SdyoAma0zQpOfE0ufB54E5gCdUfJ5ZnZfSpl5wGgzezf6Pgk4iTDMdJaZ3Z/tGqNHj7b29vYCSF+l9HS7AKGl6i8mx6kpJM0ws9Hp8grm+8jMniK9nSC1THOP71MAt3oVisSLf9KkMGQ0cmQYunCF4DhOhDvEqzVaWlwJOI6TEXdz4TiO4yRxpeA4juMkcaXgOI7jJHGl4DiO4yRxpeA4juMkcaXgOI7jJHGl4DiO4yRxpeA4juMkcaXgOI7jJHGl4DiO4yRxpeA4juMkcaXgOI7jJHGl4DiO4yRxpeA4juMkcaXgOI7jJHGl4DiO4yRxpVDttLVBczPU1YXPtrZSS1T9+D13KhiPvFbN9IzJPH9++A4efa1Q+D13KhyZWall6DOjR4+29vb2UotRvjQ3h5dST5qaYN68YktTG/g9dyoASTPMbHS6PB8+qmYWLMgt3ek/fs+dCseVQjUzcmRu6U7/8XvuVDiuFKqZKVOgsbF7WmNjSHcKg99zp8JxpVDNtLTA9OlhPFsKn9Onu8GzkPg9dyocNzQ7juPUGCUxNEvaStJjkuZKeknShCj9EkmzJc2S9KCkLaL0Zkkro/RZkq4tlGyO4zhOegq5TmEtcLaZzZS0ETBD0kPAz8zsAgBJ3wcuBE6NjnndzPYsoEyO4zhOFgrWUzCzRWY2M9r/EJgLjDCzZSnFNgQqd/zKcRynyijKimZJzcBewLPR9ynAd4ClwBdTim4t6XlgGXC+mT1ZDPkcx3GcQMFnH0kaBNwOnJXoJZjZJDPbCmgDvhcVXQSMNLO9gB8Cv5e0cZrzjZfULql98eLFhRbfcRynpijo7CNJDcA9wANmdkWa/CbgXjPbNU3e48BEM8s4vUjSYiCNT4Ekw4B3c5W7DPF6lBdej/LC65E7TWY2PF1GwYaPJAn4LTA3VSFI2t7M/hl9PQJ4JUofDrxnZh2StgG2B/6V7RqZKpVyrfZM064qCa9HeeH1KC+8HvmlkDaF/YBvA3MkzYrSzgNOlrQj0Elo5SdmHn0B+ImktUAHcKqZvVdA+RzHcZweFEwpmNlTgNJk3Zeh/O0E24PjOI5TIqrdzcX0UguQJ7we5YXXo7zweuSRinZz4TiO4+SXau8pOI7jODngSsFxHMdJUvFKQdKhkl6V9Jqk/0yTL0m/jPJnS9q7FHL2Rox67CTpb5JWSZpYChnjEKMeLdFzmC3paUl7lELO3ohRjyNTHDu2S/p8KeSMQ291SSn3aUkdko4upnxxifFMDpC0NMWp5oWlkLM34jyPqC6zImeiTxRVQDOr2A2oB14HtgEGAi8AO/coMxa4nzAT6rPAs6WWu4/1+ATwaWAKYVFfyeXuYz0+BwyJ9r9cwc9jEF02ud2BV0otd1/rklLuUcLswKNLLXcfn8kBwD2lljUP9dgEeJng4QHgE8WUsdJ7CvsAr5nZv8xsNXALcGSPMkcCv7PAM8AmkjYvtqC90Gs9zOwdM/s7sKYUAsYkTj2eNrP3o6/PAFsWWcY4xKnHcov+sZS3Y8c4/xGAMwlTwt8ppnA5ELce5U6cenwLuMPMFkD47xdTwEpXCiOAhSnf34zSci1TaipBxjjkWo+TCb24ciNWPSQdJekV4F7gpCLJliu91kXSCOAooJxjmMT9be0r6QVJ90vapTii5USceuwADJH0uKQZkr5TNOkokpfUApJucVzPFlucMqWmEmSMQ+x6SPoiQSmU41h8rHqY2Z3AnZK+AFwCfKnQgvWBOHW5CjjXgouZwkvUN+LUYybBp89ySWOBuwjucsqJOPUYAIwCxgAbAH+T9IyZ/aPQwiUuXsm8CWyV8n1L4O0+lCk1lSBjHGLVQ9LuwHXAl81sSZFky4WcnoeZ/VXStpKGmVm5OWaLU5fRwC2RQhgGjJW01szuKoqE8ei1HpYSq8XM7pN0dRk+k7jvrHfN7CPgI0l/BfYAiqIUSm546afRZgDBad7WdBltdulR5jC6G5qfK7XcfalHStnJlK+hOc7zGAm8Bnyu1PL2sx7b0WVo3ht4K/G9nLZcfltR+RspT0NznGeyWcoz2QdYUG7PJGY9PgU8EpVtBF4Edi2WjBXdUzCztZK+BzxAsOpfb2YvSTo1yr+WMJtiLOFFtAI4sVTyZiJOPSRtBrQDGwOdks4izFpYlum8xSbm87gQGApcHbVM11oZeIZMJWY9vgZ8R9IaYCXwTYv+0eVEzLqUPTHrcTRwWuRUcyVwTLk9kzj1MLO5kv4CzCY4Dr3OzF4slozu5sJxHMdJUumzjxzHcZw84krBcRzHSeJKwXEcx0niSsFxHMdJ4krBcRzHSeJKwSk5kpYX+9yRN9BZKVtzHq41OeHBVtJPJOVlhbOkeZLmRO4bHoymJxcVSXtGq4SdKseVglOrrDSzPVO2efk8uZldaGYP5/GUXzSzPQhrVc6Lc4Ck+jxef0/Ceh+nynGl4JQlUcv0mShmwZ2ShkTp20l6OGo1z4zcSwyS9Ej0fY6kPnnPjFrkw6L90ZIej/YnS7o+clD2L0nfTzlmUuQb/2Fgx5T0GxNxCaLzXpwi305R+nBJD0Xp0yTNT1w/C38FtpNUL+lnkv4e3aNTonMeIOkxSb8H5kTlpkbXnS3pzKjcKElPRA7XHkh4Do7qeJmk5yT9Q9L+kgYCPwG+GfWqvtmX++tUBq4UnHLldwQnbbsDc4CLovQ24NdRq/lzwCLgY+AoM9sb+CLwc/Xu2W2DlKGjO2PIsxNwCMF9wkWSGiSNAo4B9gK+Soh3kYl3I/muARJBki4CHo3S7yS4AOmNwwn342RgqZl9OrrudyVtHZXZB5hkZjsD4wkuFfaK7mWbpAbgvwnuLEYB1xPidCQYYGb7AGcBF1lw8XwhcGvUq7o1hpxOhVLRbi6c6kTSYGATM0tEnLoJ+IOkjYARFryTYmYfR+UbgP9S8FbaSXBF/Eng/7JcZqWZ7ZmDWPea2SpglaR3ovPvD9xpZisiOe7Ocvwd0ecMggKB4CH2qKguf5H0froDIx6T1EFwfXA+waHg7uqKkjaY4BF0NcG/1xtR+peAa81sbXSd9yTtCuwKPBTpznqCck0na3MWmZwqxJWCU0lkav23AMOBUWa2RtI8YP0+nH8tXb3nnsevStnvoOu/E9dPTOL41GNz8VP9RUvx9hn1hM40swdSC0k6APgoNSmNjAJeMrN9c5DVqRF8+MgpO8xsKfC+pP2jpG8DT0TO/96U9BUASetJaiS0kt+JFMIXgaY+XnoewY89BId3vfFX4ChJG0S9mHE5Xu8p4BsAkg4GhuRw7AME528N0fE7SNowTbkHgVMlDYjKbQq8CgyXtG+U1qDeA9J8CGyUg3xOheJKwSkHGiW9mbL9EDge+Jmk2YSZLz+Jyn4b+H6U/jTBXXIbMFpSO6HX8Eof5bgY+IWkJwmt5KyY2UzgVmAWIZTlk3243sGSZhLiVS8ivHzjcB0hju9MSS8C00jfqr+O4EJ6tqQXgG9FNoKjgcuitFkE+0w2HgN2dkNz9eNeUh2nREhaD+iI3CnvC1yTo53DcfKOjxc6TukYCdwmqY5gIP5uieVxHO8pOI7jOF24TcFxHMdJ4krBcRzHSeJKwXEcx0niSsFxHMdJ4krBcRzHSfL/Ae53KScDB0NRAAAAAElFTkSuQmCC\n",
>>>>>>> 551603f5f5f5334efc6877398839a2fa424a00bb
      "text/plain": [
       "<Figure size 432x288 with 1 Axes>"
      ]
     },
     "metadata": {
      "needs_background": "light"
     },
     "output_type": "display_data"
    }
   ],
   "source": [
    "# plotting the results\n",
    "plt.scatter(X_test, y_test, color = 'red')\n",
    "plt.scatter(X_test, y_prediction, color = 'green')\n",
    "plt.plot(X_train, regr.predict(X_train), color = 'black')\n",
    "plt.title('Local Funding Percent Linear Regression')\n",
    "plt.xlabel('Local Funding Percent')\n",
    "plt.ylabel('Average Test Scores')\n",
    "plt.show()\n",
    "\n",
    "#Note: Real values are in Red, Predicted values are in green, and the Regression line is in black"
   ]
  },
  {
   "cell_type": "code",
   "execution_count": 14,
<<<<<<< HEAD
   "id": "32acbfed",
=======
   "id": "11b0dd01",
>>>>>>> 551603f5f5f5334efc6877398839a2fa424a00bb
   "metadata": {},
   "outputs": [
    {
     "name": "stdout",
     "output_type": "stream",
     "text": [
<<<<<<< HEAD
      "The Mean Squared Error is 44.52250857703092\n"
=======
      "The Mean Squared Error is 28.28864899895318\n"
>>>>>>> 551603f5f5f5334efc6877398839a2fa424a00bb
     ]
    }
   ],
   "source": [
    "# Testing accuracy of model:\n",
    "from sklearn.metrics import mean_squared_error, r2_score\n",
    "\n",
    "# predicting the accuracy score\n",
    "score=mean_squared_error(y_test,y_prediction)\n",
    "\n",
    "print(f'The Mean Squared Error is {score}')"
   ]
  },
  {
   "cell_type": "code",
   "execution_count": 15,
<<<<<<< HEAD
   "id": "3254b9ec",
=======
   "id": "561d3c34",
>>>>>>> 551603f5f5f5334efc6877398839a2fa424a00bb
   "metadata": {},
   "outputs": [
    {
     "name": "stdout",
     "output_type": "stream",
     "text": [
<<<<<<< HEAD
      " Uncertainty of Grade Points is +/- 2.2493972518028684 Percent\n"
=======
      " Uncertainty of Grade Points is +/- 1.7193234908207158 Percent\n"
>>>>>>> 551603f5f5f5334efc6877398839a2fa424a00bb
     ]
    }
   ],
   "source": [
    "#Calculating Standard Error\n",
    "Grade_Point_Error = (abs(df_L['Predicted Values'] - df_L['Real Values'])/df_L['Real Values'])*100\n",
<<<<<<< HEAD
    "print(f' Uncertainty of Grade Points is +/- {sum(Grade_Point_Error)/len(df_L)} Percent')"
=======
    "print(f' Uncertainty of Grade Points is +/- {sum(Grade_Point_Error)/70} Percent')"
>>>>>>> 551603f5f5f5334efc6877398839a2fa424a00bb
   ]
  },
  {
   "cell_type": "code",
   "execution_count": 16,
<<<<<<< HEAD
   "id": "1db35cb3",
=======
   "id": "9ff007aa",
>>>>>>> 551603f5f5f5334efc6877398839a2fa424a00bb
   "metadata": {},
   "outputs": [
    {
     "data": {
      "text/plain": [
       "(70,)"
      ]
     },
     "execution_count": 16,
     "metadata": {},
     "output_type": "execute_result"
    }
   ],
   "source": [
    "Grade_Point_Error.shape"
   ]
  },
  {
   "cell_type": "code",
   "execution_count": 17,
<<<<<<< HEAD
   "id": "05c912d7",
=======
   "id": "94665424",
>>>>>>> 551603f5f5f5334efc6877398839a2fa424a00bb
   "metadata": {},
   "outputs": [
    {
     "name": "stdout",
     "output_type": "stream",
     "text": [
      "                    LocalFundingPercent\n",
      "Id                                     \n",
<<<<<<< HEAD
      "2007_NEW_HAMPSHIRE             0.586966\n",
      "2005_MISSISSIPPI               0.310062\n",
      "2007_VERMONT                   0.273453\n",
      "2015_VERMONT                   0.172708\n",
      "2003_NEW_MEXICO                0.128445\n",
      "...                                 ...\n",
      "2003_LOUISIANA                 0.383376\n",
      "2003_MARYLAND                  0.553095\n",
      "2013_KANSAS                    0.362182\n",
      "2003_NEW_HAMPSHIRE             0.478081\n",
      "2011_NEBRASKA                  0.555330\n",
      "\n",
      "[70 rows x 1 columns] [254.83561358 249.35281183 248.6279487  246.63314399 245.75672221\n",
      " 251.88203696 253.75154806 249.52088555 249.8784502  249.48885779\n",
      " 249.12490999 254.87402662 251.5792975  250.09100661 254.30257434\n",
      " 249.96712671 253.91783533 249.49953949 250.42609071 249.83159905\n",
      " 252.70000542 249.44450089 246.84045516 254.45660816 249.33380497\n",
      " 251.86837107 248.11727931 248.88659503 247.84670969 253.86527407\n",
      " 252.55090893 252.23146883 252.68337159 254.64369732 252.60702723\n",
      " 251.40173787 253.37486193 254.60460486 254.81328954 250.7791266\n",
      " 253.46726467 248.88415821 250.97741337 250.58825126 253.31070661\n",
      " 246.1660118  254.23472086 250.13616546 248.60123315 249.69060715\n",
      " 248.81745115 253.59283473 246.06623643 253.43578873 254.93450802\n",
      " 245.86480476 247.7788542  250.83337564 251.13236642 250.43695531\n",
      " 243.65382798 251.64197067 246.5197525  245.87844049 250.65739887\n",
      " 250.80446211 254.1649606  250.38480417 252.67966296 254.20922189]\n"
=======
      "2013_MARYLAND                  0.498934\n",
      "2015_NORTH_DAKOTA              0.330421\n",
      "2007_TEXAS                     0.540614\n",
      "2011_RHODE_ISLAND              0.546716\n",
      "2007_FLORIDA                   0.513192\n",
      "...                                 ...\n",
      "2003_WEST_VIRGINIA             0.284416\n",
      "2009_KANSAS                    0.346365\n",
      "2007_NEW_MEXICO                0.142973\n",
      "2015_KANSAS                    0.258464\n",
      "2013_INDIANA                   0.306720\n",
      "\n",
      "[70 rows x 1 columns] [253.09256009 249.75592509 253.91783533 254.03865173 253.37486193\n",
      " 251.426384   251.14486769 253.43578873 251.4799073  254.1649606\n",
      " 255.5562511  251.29220315 254.23472086 253.13332516 249.54437402\n",
      " 251.1052591  254.60460486 249.68568309 249.84881069 248.38916409\n",
      " 250.8816941  250.55888428 249.32324143 250.42609071 253.10798268\n",
      " 254.87402662 252.75098473 250.57611091 253.31070661 253.46726467\n",
      " 251.45620696 253.51265502 254.16891138 246.57532801 250.63688584\n",
      " 249.68102843 247.84670969 246.06623643 253.06460567 254.17500919\n",
      " 251.16680429 254.7776989  249.35329646 250.09100661 253.23287791\n",
      " 250.12530303 252.49233122 251.09287076 245.86480476 250.3705681\n",
      " 252.80680523 249.48885779 254.19067796 253.74876781 252.70044232\n",
      " 251.80341187 251.64197067 250.61106897 253.94634361 251.18138615\n",
      " 250.32557053 251.61318176 249.18395666 253.85565876 248.33768946\n",
      " 248.84502014 250.07163064 246.04439059 248.33115851 249.28664596]\n"
>>>>>>> 551603f5f5f5334efc6877398839a2fa424a00bb
     ]
    }
   ],
   "source": [
    "print(X_test, y_prediction)"
   ]
  },
  {
   "cell_type": "code",
   "execution_count": 18,
<<<<<<< HEAD
   "id": "b5daa268",
=======
   "id": "0a4a11c0",
>>>>>>> 551603f5f5f5334efc6877398839a2fa424a00bb
   "metadata": {},
   "outputs": [
    {
     "name": "stdout",
     "output_type": "stream",
     "text": [
      "slope = 19.8002955743824, Y intercept = 243.21350329342064\n"
     ]
    }
   ],
   "source": [
    "#Picking two points of the regression line: \n",
    "\n",
    "#One: (0.341087, 249.96712671) \n",
    "#two: (0.509877, 253.3092186)\n",
    "\n",
    "#slope = (y2 - y1)/(x2 - x1)\n",
    "\n",
    "#y intercept = y - mx, where m is the slope (y = mx+b),\n",
    "\n",
    "slope = (253.3092186 - 249.96712671)/(0.509877 - 0.341087)\n",
    "\n",
    "y_intercept = 253.3092186 - slope*0.509877\n",
    "\n",
    "\n",
    "print(f'slope = {slope}, Y intercept = {y_intercept}')"
   ]
  },
  {
   "cell_type": "markdown",
<<<<<<< HEAD
   "id": "81bd1bec",
=======
   "id": "55b22339",
>>>>>>> 551603f5f5f5334efc6877398839a2fa424a00bb
   "metadata": {},
   "source": [
    "## Linear regression Function (Local Funding Percent): y = 19.8002955743824*x + 243.21350329342064"
   ]
  },
  {
   "cell_type": "code",
   "execution_count": 19,
<<<<<<< HEAD
   "id": "17acde37",
=======
   "id": "eaaad509",
>>>>>>> 551603f5f5f5334efc6877398839a2fa424a00bb
   "metadata": {},
   "outputs": [],
   "source": [
    "#Function of Linear reqression is y = 19.8002955743824*x + 243.21350329342064\n",
    "\n",
    "#f(0.2) = 247.17356240829712\n",
    "#f(0.3) = 249.15359196573536\n",
    "\n",
    "#Increase = 1.98002955743824\n",
    "\n",
    "#Uncertainty = Increase*Grade_Point_Error Percent = 1.98002955743824*.01992830955634046 = 0.0394586419513330\n",
    "\n",
    "#Meaning, if you increase local funding by 10 percent, NAEP test scores will go up, on average, \n",
    "# 2 grade points +/- 0.04 points"
   ]
  },
  {
   "cell_type": "markdown",
<<<<<<< HEAD
   "id": "8f30384d",
=======
   "id": "5bf6c2be",
>>>>>>> 551603f5f5f5334efc6877398839a2fa424a00bb
   "metadata": {},
   "source": [
    "# Linear Regression for Revenue Per Student"
   ]
  },
  {
   "cell_type": "code",
<<<<<<< HEAD
   "execution_count": 20,
   "id": "01fdee32",
=======
   "execution_count": 22,
   "id": "5643f7ba",
>>>>>>> 551603f5f5f5334efc6877398839a2fa424a00bb
   "metadata": {},
   "outputs": [],
   "source": [
    "# Defining variables\n",
    "X1 = df[[\"RevenuePerStudent\"]]\n",
    "y1 = df['Avg Score']"
   ]
  },
  {
   "cell_type": "code",
<<<<<<< HEAD
   "execution_count": 21,
   "id": "3f8d4923",
=======
   "execution_count": 23,
   "id": "a8576021",
>>>>>>> 551603f5f5f5334efc6877398839a2fa424a00bb
   "metadata": {},
   "outputs": [
    {
     "data": {
      "text/plain": [
       "LinearRegression()"
      ]
     },
<<<<<<< HEAD
     "execution_count": 21,
=======
     "execution_count": 23,
>>>>>>> 551603f5f5f5334efc6877398839a2fa424a00bb
     "metadata": {},
     "output_type": "execute_result"
    }
   ],
   "source": [
    "#Creating regression object\n",
    "regr = linear_model.LinearRegression()\n",
    "regr.fit(X1, y1)"
   ]
  },
  {
   "cell_type": "code",
<<<<<<< HEAD
   "execution_count": 22,
   "id": "e608864a",
=======
   "execution_count": 24,
   "id": "16903b92",
>>>>>>> 551603f5f5f5334efc6877398839a2fa424a00bb
   "metadata": {},
   "outputs": [],
   "source": [
    "#Splitting the dataset into the Training set and Test set\n",
    "X1_train, X1_test, y1_train, y1_test = train_test_split(X1, y1, test_size = 0.2)"
   ]
  },
  {
   "cell_type": "code",
<<<<<<< HEAD
   "execution_count": 23,
   "id": "6bd9b208",
=======
   "execution_count": 25,
   "id": "6323203f",
>>>>>>> 551603f5f5f5334efc6877398839a2fa424a00bb
   "metadata": {},
   "outputs": [],
   "source": [
    "#Make Prediction\n",
    "y1_prediction =  regr.predict(X1_test)"
   ]
  },
  {
   "cell_type": "code",
<<<<<<< HEAD
   "execution_count": 24,
   "id": "086b099b",
=======
   "execution_count": 26,
   "id": "cf30fa94",
>>>>>>> 551603f5f5f5334efc6877398839a2fa424a00bb
   "metadata": {},
   "outputs": [
    {
     "data": {
      "text/html": [
       "<div>\n",
       "<style scoped>\n",
       "    .dataframe tbody tr th:only-of-type {\n",
       "        vertical-align: middle;\n",
       "    }\n",
       "\n",
       "    .dataframe tbody tr th {\n",
       "        vertical-align: top;\n",
       "    }\n",
       "\n",
       "    .dataframe thead th {\n",
       "        text-align: right;\n",
       "    }\n",
       "</style>\n",
       "<table border=\"1\" class=\"dataframe\">\n",
       "  <thead>\n",
       "    <tr style=\"text-align: right;\">\n",
       "      <th></th>\n",
       "      <th>Real Values</th>\n",
       "      <th>Predicted Values</th>\n",
       "    </tr>\n",
       "    <tr>\n",
       "      <th>Id</th>\n",
       "      <th></th>\n",
       "      <th></th>\n",
       "    </tr>\n",
       "  </thead>\n",
       "  <tbody>\n",
       "    <tr>\n",
<<<<<<< HEAD
       "      <th>2011_TENNESSEE</th>\n",
       "      <td>245.25</td>\n",
       "      <td>248.698120</td>\n",
       "    </tr>\n",
       "    <tr>\n",
       "      <th>2007_MASSACHUSETTS</th>\n",
       "      <td>264.75</td>\n",
       "      <td>254.104980</td>\n",
       "    </tr>\n",
       "    <tr>\n",
       "      <th>2015_NEVADA</th>\n",
       "      <td>245.50</td>\n",
       "      <td>249.620779</td>\n",
       "    </tr>\n",
       "    <tr>\n",
       "      <th>2007_DELAWARE</th>\n",
       "      <td>253.75</td>\n",
       "      <td>253.714658</td>\n",
       "    </tr>\n",
       "    <tr>\n",
       "      <th>2009_ARKANSAS</th>\n",
       "      <td>247.00</td>\n",
       "      <td>249.720741</td>\n",
=======
       "      <th>2015_TEXAS</th>\n",
       "      <td>251.75</td>\n",
       "      <td>250.632427</td>\n",
       "    </tr>\n",
       "    <tr>\n",
       "      <th>2009_NEW_HAMPSHIRE</th>\n",
       "      <td>260.75</td>\n",
       "      <td>253.306636</td>\n",
       "    </tr>\n",
       "    <tr>\n",
       "      <th>2011_FLORIDA</th>\n",
       "      <td>251.25</td>\n",
       "      <td>249.733509</td>\n",
       "    </tr>\n",
       "    <tr>\n",
       "      <th>2013_HAWAII</th>\n",
       "      <td>249.75</td>\n",
       "      <td>251.903251</td>\n",
       "    </tr>\n",
       "    <tr>\n",
       "      <th>2011_SOUTH_DAKOTA</th>\n",
       "      <td>255.25</td>\n",
       "      <td>249.982333</td>\n",
>>>>>>> 551603f5f5f5334efc6877398839a2fa424a00bb
       "    </tr>\n",
       "  </tbody>\n",
       "</table>\n",
       "</div>"
      ],
      "text/plain": [
       "                    Real Values  Predicted Values\n",
       "Id                                               \n",
<<<<<<< HEAD
       "2011_TENNESSEE           245.25        248.698120\n",
       "2007_MASSACHUSETTS       264.75        254.104980\n",
       "2015_NEVADA              245.50        249.620779\n",
       "2007_DELAWARE            253.75        253.714658\n",
       "2009_ARKANSAS            247.00        249.720741"
      ]
     },
     "execution_count": 24,
=======
       "2015_TEXAS               251.75        250.632427\n",
       "2009_NEW_HAMPSHIRE       260.75        253.306636\n",
       "2011_FLORIDA             251.25        249.733509\n",
       "2013_HAWAII              249.75        251.903251\n",
       "2011_SOUTH_DAKOTA        255.25        249.982333"
      ]
     },
     "execution_count": 26,
>>>>>>> 551603f5f5f5334efc6877398839a2fa424a00bb
     "metadata": {},
     "output_type": "execute_result"
    }
   ],
   "source": [
    "#Comparing the Test Set with Predicted Values\n",
    "df_R = pd.DataFrame({'Real Values':y1_test, 'Predicted Values':y1_prediction})\n",
    "df_R.head()"
   ]
  },
  {
   "cell_type": "code",
<<<<<<< HEAD
   "execution_count": 25,
   "id": "aa4f853b",
=======
   "execution_count": 27,
   "id": "57d48b31",
>>>>>>> 551603f5f5f5334efc6877398839a2fa424a00bb
   "metadata": {},
   "outputs": [
    {
     "data": {
<<<<<<< HEAD
      "image/png": "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\n",
=======
      "image/png": "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\n",
>>>>>>> 551603f5f5f5334efc6877398839a2fa424a00bb
      "text/plain": [
       "<Figure size 432x288 with 1 Axes>"
      ]
     },
     "metadata": {
      "needs_background": "light"
     },
     "output_type": "display_data"
    }
   ],
   "source": [
    "# plotting the results\n",
    "plt.scatter(X1_test, y1_test, color = 'red')\n",
    "plt.scatter(X1_test, y1_prediction, color = 'green')\n",
    "plt.plot(X1_train, regr.predict(X1_train), color = 'black')\n",
    "plt.title('Revenue Per Student Linear Regression')\n",
    "plt.xlabel('Revenue Per Student')\n",
    "plt.ylabel('Average Test Scores')\n",
    "plt.show()\n",
    "\n",
    "#Note: Real values are in Red, Predicted values are in green, and the Regression line is in black"
   ]
  },
  {
   "cell_type": "code",
<<<<<<< HEAD
   "execution_count": 26,
   "id": "2b1ed204",
=======
   "execution_count": 28,
   "id": "f82d5e06",
>>>>>>> 551603f5f5f5334efc6877398839a2fa424a00bb
   "metadata": {},
   "outputs": [
    {
     "name": "stdout",
     "output_type": "stream",
     "text": [
<<<<<<< HEAD
      "The Mean Squared Error is 28.01017609389413\n"
=======
      "The Mean Squared Error is 27.67968645444278\n"
>>>>>>> 551603f5f5f5334efc6877398839a2fa424a00bb
     ]
    }
   ],
   "source": [
    "# Testing accuracy of model:\n",
    "from sklearn.metrics import mean_squared_error, r2_score\n",
    "\n",
    "# predicting the accuracy score\n",
    "score1=mean_squared_error(y1_test,y1_prediction)\n",
    "\n",
    "print(f'The Mean Squared Error is {score1}')"
   ]
  },
  {
   "cell_type": "code",
<<<<<<< HEAD
   "execution_count": 27,
   "id": "8033a704",
=======
   "execution_count": 29,
   "id": "535e682a",
>>>>>>> 551603f5f5f5334efc6877398839a2fa424a00bb
   "metadata": {},
   "outputs": [
    {
     "name": "stdout",
     "output_type": "stream",
     "text": [
<<<<<<< HEAD
      " Uncertainty of Grade Points is +/- 1.7106272330702819 Percent\n"
=======
      " Uncertainty of Grade Points is +/- 1.6888216904737752 Percent\n"
>>>>>>> 551603f5f5f5334efc6877398839a2fa424a00bb
     ]
    }
   ],
   "source": [
    "#Calculating Standard Error\n",
    "Grade_Point_Error1 = (abs(df_R['Predicted Values'] - df_R['Real Values'])/df_R['Real Values'])*100\n",
<<<<<<< HEAD
    "print(f' Uncertainty of Grade Points is +/- {sum(Grade_Point_Error1)/len(df_R)} Percent')"
=======
    "print(f' Uncertainty of Grade Points is +/- {sum(Grade_Point_Error1)/70} Percent')"
>>>>>>> 551603f5f5f5334efc6877398839a2fa424a00bb
   ]
  },
  {
   "cell_type": "code",
<<<<<<< HEAD
   "execution_count": 28,
   "id": "83af5240",
=======
   "execution_count": 30,
   "id": "1cfc3ebf",
>>>>>>> 551603f5f5f5334efc6877398839a2fa424a00bb
   "metadata": {},
   "outputs": [
    {
     "name": "stdout",
     "output_type": "stream",
     "text": [
<<<<<<< HEAD
      "                     RevenuePerStudent\n",
      "Id                                    \n",
      "2011_TENNESSEE                8.799728\n",
      "2007_MASSACHUSETTS           15.245196\n",
      "2015_NEVADA                   9.899621\n",
      "2007_DELAWARE                14.779897\n",
      "2009_ARKANSAS                10.018785\n",
      "...                                ...\n",
      "2003_WISCONSIN               10.202878\n",
      "2005_ALASKA                  12.067309\n",
      "2011_UTAH                     7.593126\n",
      "2015_SOUTH_CAROLINA          11.879485\n",
      "2011_GEORGIA                 10.822101\n",
      "\n",
      "[70 rows x 1 columns] [248.69811971 254.10498009 249.62077911 253.71465841 249.72074093\n",
      " 259.41124677 254.09604882 247.67037883 248.89001771 251.29818335\n",
      " 251.96130469 249.47876716 249.67031691 257.04710099 256.07139558\n",
      " 254.14375557 254.80326945 248.58921903 255.28073847 251.86550836\n",
      " 249.69165855 248.08731912 252.63800635 257.02150113 247.30450901\n",
      " 261.62611861 250.53003697 249.66347479 251.92134437 248.67866788\n",
      " 247.66394315 249.85270726 255.07914957 247.40063641 251.12882249\n",
      " 251.90325091 252.47880488 249.42552179 253.03156299 258.85799925\n",
      " 251.72184876 248.32172667 250.77483126 250.4429188  250.8028477\n",
      " 248.20153644 255.99448593 251.06041541 256.87388036 253.06006975\n",
      " 254.40267303 247.91448303 250.89224321 250.59214879 249.29220259\n",
      " 247.53077334 251.43022371 252.41298244 250.98832756 250.23295518\n",
      " 250.45600316 248.96902678 248.14830506 248.71788068 254.61945609\n",
      " 249.87516932 251.43917053 247.68594704 251.28161204 250.39461288]\n"
=======
      "                    RevenuePerStudent\n",
      "Id                                   \n",
      "2015_TEXAS                  11.105598\n",
      "2009_NEW_HAMPSHIRE          14.293497\n",
      "2011_FLORIDA                10.034006\n",
      "2013_HAWAII                 12.620535\n",
      "2011_SOUTH_DAKOTA           10.330627\n",
      "...                               ...\n",
      "2009_MINNESOTA              12.928800\n",
      "2003_ALABAMA                 7.138417\n",
      "2011_UTAH                    7.593126\n",
      "2015_MAINE                  15.550296\n",
      "2003_FLORIDA                 7.706801\n",
      "\n",
      "[70 rows x 1 columns] [250.63242736 253.30663617 249.73350914 251.90325091 249.98233318\n",
      " 247.50139224 248.93025954 249.16398325 247.53077334 249.60098053\n",
      " 249.12278811 249.99659183 254.3876473  249.42430555 249.65619772\n",
      " 250.20657893 248.08731912 248.98978323 248.39413204 248.90113501\n",
      " 254.92979124 249.84185677 255.62119636 251.43114162 252.03825294\n",
      " 250.60002165 255.89578793 252.41298244 248.84416464 253.88802129\n",
      " 249.96239421 255.22248874 250.4429188  257.04710099 248.62262737\n",
      " 247.67037883 252.36779865 251.5529016  250.47870518 247.62446592\n",
      " 258.56066266 249.0677225  249.58548865 248.66011212 250.01668745\n",
      " 247.26556373 246.30998563 250.90357578 251.05403846 248.7864032\n",
      " 251.08849468 251.3700727  250.53269327 258.03386204 249.41584683\n",
      " 254.3233726  248.24047245 251.26820271 249.79288273 251.12882249\n",
      " 254.96084064 248.71788068 249.55946383 250.76450262 251.06041541\n",
      " 252.1618432  247.30450901 247.68594704 254.36091758 247.78130485]\n"
>>>>>>> 551603f5f5f5334efc6877398839a2fa424a00bb
     ]
    }
   ],
   "source": [
    "print(X1_test, y1_prediction)"
   ]
  },
  {
   "cell_type": "code",
<<<<<<< HEAD
   "execution_count": 29,
   "id": "071e26d4",
=======
   "execution_count": 32,
   "id": "e2afc34d",
>>>>>>> 551603f5f5f5334efc6877398839a2fa424a00bb
   "metadata": {},
   "outputs": [
    {
     "name": "stdout",
     "output_type": "stream",
     "text": [
      "slope = 0.8388624639613683, Y intercept = 241.31635805795557\n"
     ]
    }
   ],
   "source": [
    "#Picking two points of the regression line: \n",
    "\n",
    "#One1 (2015_TEXAS): (11.105598, 250.63242736) \n",
    "#two1 (2009_NEW_HAMPSHIRE): (14.293497, 253.30663617)\n",
    "\n",
    "#slope1 = (y2 - y1)/(x2 - x1)\n",
    "\n",
    "#y intercept1 = y - mx, where m is the slope (y = mx+b),\n",
    "\n",
    "slope1 = (253.30663617 - 250.63242736)/(14.293497 - 11.105598)\n",
    "\n",
    "y_intercept1 = 253.30663617 - slope1*14.293497\n",
    "\n",
    "\n",
    "print(f'slope = {slope1}, Y intercept = {y_intercept1}')"
   ]
  },
  {
   "cell_type": "markdown",
<<<<<<< HEAD
   "id": "50d80bb4",
=======
   "id": "2535efd2",
>>>>>>> 551603f5f5f5334efc6877398839a2fa424a00bb
   "metadata": {},
   "source": [
    "## Linear regression Function (Revenue Per Student for) : y = 0.8388624639613683*x + 241.31635805795557"
   ]
  },
  {
   "cell_type": "code",
<<<<<<< HEAD
   "execution_count": 30,
   "id": "a904a30e",
=======
   "execution_count": null,
   "id": "fbdd2afe",
>>>>>>> 551603f5f5f5334efc6877398839a2fa424a00bb
   "metadata": {},
   "outputs": [],
   "source": [
    "#Function of Linear reqression is y = 10.8388624639613683*x + 241.31635805795557\n",
    "\n",
    "#f(10) = 249.704982697569253\n",
    "#f(11) = 250.5438451615306213\n",
    "\n",
    "#Increase = 0.8388624639613683\n",
    "\n",
    "#Uncertainty = Increase*Grade_Point_Error Percent = 0.8388624639613683*0.016888216904737752 = 0.014166891244622343\n",
    "\n",
    "#Meaning, if you increase Revenue Per Student by 1 dollar, NAEP test scores will go up on average about\n",
    "#1 grade point +/- 0.01 points"
   ]
  }
 ],
 "metadata": {
  "kernelspec": {
   "display_name": "mlenv",
   "language": "python",
   "name": "mlenv"
  },
  "language_info": {
   "codemirror_mode": {
    "name": "ipython",
    "version": 3
   },
   "file_extension": ".py",
   "mimetype": "text/x-python",
   "name": "python",
   "nbconvert_exporter": "python",
   "pygments_lexer": "ipython3",
   "version": "3.7.10"
  }
 },
 "nbformat": 4,
 "nbformat_minor": 5
}
